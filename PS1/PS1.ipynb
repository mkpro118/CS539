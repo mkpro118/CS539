{
 "cells": [
  {
   "cell_type": "markdown",
   "id": "950bdd09-017d-4139-bc3f-eb6a7b96ad04",
   "metadata": {},
   "source": [
    "## Question 1 part (a)\n",
    "\n",
    "$E(x) = \\sum_{x}x \\cdot p(X=x)$\n",
    "\n",
    "<div style=\"font-size:16px;\">\n",
    "Expanding, we get,<br>\n",
    "$E(x) = x_{1} \\cdot p_{X}(X=x_{1}) + x_{2} \\cdot p_{X}(X=x_{2})$<br>\n",
    "where,<br>\n",
    "$x_{1} = 0$,&emsp;$x_{2} = 1$&emsp;&emsp;&emsp;<em>...$1$</em><br>\n",
    "so,<br>\n",
    "$p_{X}(X=x_{1}) = p$,&emsp;$p_{X}(X=x_{1}) = 1 - p$&emsp;&emsp;&emsp;<em>...$2$</em><br>\n",
    "<br>\n",
    "Using $1$ and $2$,<br>\n",
    "$E(x) = 0 \\cdot (1-p) + 1 \\cdot (p)$<br>\n",
    "$E(x) = 0 + p$<br>\n",
    "$E(x) = p$<br>\n",
    "</div>"
   ]
  },
  {
   "cell_type": "markdown",
   "id": "d8d4191b-39ca-4fde-96e7-0149f552e609",
   "metadata": {},
   "source": [
    "## Question 1 part(b)\n",
    "\n",
    "<div style=\"font-size:16px\">\n",
    "Given,<br>\n",
    "$\\hat p(x_{1}, x_{2}, \\cdots , x_{n}) = \\displaystyle\\sum_{i=1}^{N}x_{i} \\big/  N$<br>\n",
    "<br>\n",
    "So, the value of $\\hat p(x_{1}, x_{2}, \\cdots , x_{n})$ is,<br>\n",
    "$\\hat p(x_{1}, x_{2}, \\cdots , x_{n}) = \\frac{(\\text{Number of heads} \\cdot \\text{Value of heads}) + (\\text{Number of tails} \\cdot \\text{Value of tails})}{N}$<br>\n",
    "$\\hat p(x_{1}, x_{2}, \\cdots , x_{n}) = \\frac{(\\text{Number of heads} \\cdot 1) + (\\text{Number of tails} \\cdot 0)}{N}$<br>\n",
    "$\\hat p(x_{1}, x_{2}, \\cdots , x_{n}) = \\frac{\\text{Number of heads}}{N}$&emsp;&emsp;&emsp;<em>...$1$</em><br>\n",
    "<br>\n",
    "The number of outcomes that were heads out of $N$ outcomes is,<br>\n",
    "$\\text{No. of heads} = \\text{Probability of outcome being heads} \\cdot \\text{Total number of outcomes}$<br>\n",
    "$\\text{No. of heads} = p_{X}(X=1) \\cdot N$<br>\n",
    "$\\text{No. of heads} = p \\cdot N$&emsp;&emsp;&emsp;<em>...$2$</em><br>\n",
    "<br>\n",
    "Using Equation 1 and Equation 2, we get,<br>\n",
    "$\\hat p(x_{1}, x_{2}, \\cdots , x_{n}) = \\frac{p \\cdot N}{N}$<br>\n",
    "$\\hat p(x_{1}, x_{2}, \\cdots , x_{n}) = p$<br>\n",
    "<br>\n",
    "Since $\\hat p(x_{1}, x_{2}, \\cdots , x_{n})$ has only one value $p$, it can have only one expected value, namely $p$<br>\n",
    "$E(\\hat p(x_{1}, x_{2}, \\cdots , x_{n})) = p$.<br>\n",
    "<br>\n",
    "Therefore the given estimated probability is unbiased.\n",
    "</div>"
   ]
  },
  {
   "cell_type": "markdown",
   "id": "56929de5-1a3b-486e-a46d-74a2d20583cc",
   "metadata": {},
   "source": [
    "## Question 1 part (c)\n",
    "\n",
    "<div style=\"font-size:16px\">\n",
    "We can define event $A$, where at least one of 20 trials yields a head as the complement of the case where all outcomes are tails<br>\n",
    "So Event $A$ is the event where not every outcome is a tail.<br>\n",
    "<br>\n",
    "The probability of event A can easily be computed using this logic.<br>\n",
    "$p(A) = 1 - p(A')$&emsp;&emsp;&emsp;<em>...$1$</em><br>\n",
    "<br>\n",
    "Where $A'$ is the event where all $20$ outcomes are tails.<br>\n",
    "$p(A') = \\displaystyle \\prod_{i=1}^{20} p_{X}(X=x_{i}=0)$<br>\n",
    "$p(A') = \\displaystyle (1-p) \\times (1-p) \\times \\cdots \\times (1-p)$&emsp;&emsp;&emsp;<em>...20 times</em><br>\n",
    "$p(A') = (1-p)^{20}$&emsp;&emsp;&emsp;<em>...$2$</em><br>\n",
    "<br>\n",
    "Using Equation 1 and Equation 2,<br>\n",
    "$p(A) = 1 - (1-p)^{20}$\n",
    "</div>"
   ]
  },
  {
   "cell_type": "code",
   "execution_count": 1,
   "id": "891fe96a-4fc4-4a12-8a18-6c5a5955ee8c",
   "metadata": {},
   "outputs": [],
   "source": [
    "# Question 2\n",
    "\n",
    "# Setup\n",
    "%matplotlib inline\n",
    "from matplotlib import pyplot as plt\n",
    "import numpy as np\n",
    "plt.style.use('dark_background') # Styling the graphs\n",
    "\n",
    "filename = 'iris.csv'\n",
    "\n",
    "iris_details = np.genfromtxt(filename, delimiter=',') # loading the file\n",
    "\n",
    "# features is a dictionary with feature numbers and corresponding vectors\n",
    "# I'm using this dictionary to reduce code redundancy with 4 variables,\n",
    "# while still being readable.\n",
    "features = dict([(f'Feature {column+1}', iris_details[:, column]) for column in range(4)])\n",
    "\n",
    "# label_vector is the vector of known classification labels\n",
    "label_vector = iris_details[:,-1] # -1 since we know it's the last column"
   ]
  },
  {
   "cell_type": "code",
   "execution_count": 2,
   "id": "25165de4-1bd1-461a-95c0-a87486ea8f8f",
   "metadata": {},
   "outputs": [
    {
     "name": "stdout",
     "output_type": "stream",
     "text": [
      "Sample mean for Feature 1 = 5.843333333333334\n",
      "\n",
      "Sample mean for Feature 2 = 3.0540000000000003\n",
      "\n",
      "Sample mean for Feature 3 = 3.758666666666666\n",
      "\n",
      "Sample mean for Feature 4 = 1.1986666666666668\n",
      "\n"
     ]
    }
   ],
   "source": [
    "# Question 2 part (a)\n",
    "# Calculating the Sample Mean of the Features \n",
    "\n",
    "sample_means = dict([(key, np.mean(value)) for key, value in features.items()])\n",
    "\n",
    "# Printing the sample mean for each feature\n",
    "for feature, mean in sample_means.items():\n",
    "    print(f'Sample mean for {feature} = {mean}\\n')"
   ]
  },
  {
   "cell_type": "code",
   "execution_count": 3,
   "id": "31416ccf-cea2-48cf-9371-eacce5d9b281",
   "metadata": {},
   "outputs": [
    {
     "name": "stdout",
     "output_type": "stream",
     "text": [
      "Sample standard deviation for Feature 1 = 0.8253012917851409\n",
      "\n",
      "Sample standard deviation for Feature 2 = 0.4321465800705435\n",
      "\n",
      "Sample standard deviation for Feature 3 = 1.7585291834055212\n",
      "\n",
      "Sample standard deviation for Feature 4 = 0.7606126185881716\n",
      "\n"
     ]
    }
   ],
   "source": [
    "# Question 2 part (a) continued\n",
    "# Calculating the Sample Standard Deviation of the Features\n",
    "\n",
    "sample_std_dev = dict([(key, np.std(value)) for key, value in features.items()])\n",
    "\n",
    "# Printing the sample standard deviation for each feature\n",
    "for feature, std_dev in sample_std_dev.items():\n",
    "    print(f'Sample standard deviation for {feature} = {std_dev}\\n')"
   ]
  },
  {
   "cell_type": "code",
   "execution_count": 4,
   "id": "a960db51-9e7d-4cbd-ad47-c322d9dfc519",
   "metadata": {},
   "outputs": [
    {
     "data": {
      "image/png": "[encoded data removed]",
      "text/plain": [
       "<Figure size 864x576 with 4 Axes>"
      ]
     },
     "metadata": {},
     "output_type": "display_data"
    }
   ],
   "source": [
    "# Question 2 part (b)\n",
    "# The density=True option normalizes the histogram\n",
    "\n",
    "# Get the figure and axes\n",
    "fig, ((ax1, ax2), (ax3, ax4)) = plt.subplots(nrows=2, ncols=2, figsize=(12,8))\n",
    "\n",
    "# Plotting feature 1\n",
    "ax1.hist(features['Feature 1'], bins=20, density=True, color='blue')\n",
    "ax1.set_title('Feature 1')\n",
    "\n",
    "# Plotting feature 2\n",
    "ax2.hist(features['Feature 2'], bins=20, density=True, color='green')\n",
    "ax2.set_title('Feature 2')\n",
    "\n",
    "# Plotting feature 3\n",
    "ax3.hist(features['Feature 3'], bins=20, density=True, color='red')\n",
    "ax3.set_title('Feature 3')\n",
    "\n",
    "# Plotting feature 4\n",
    "ax4.hist(features['Feature 4'], bins=20, density=True, color='yellow')\n",
    "ax4.set_title('Feature 4')\n",
    "\n",
    "plt.show()"
   ]
  },
  {
   "cell_type": "code",
   "execution_count": 5,
   "id": "abab7abe-eed3-4018-b035-7b4c60b0c2c2",
   "metadata": {},
   "outputs": [],
   "source": [
    "# Question 2 part (c)\n",
    "# Calculating the normalized feature vectors\n",
    "\n",
    "# Function to normalize a given vector X\n",
    "def normalize(X: np.ndarray) -> np.ndarray:\n",
    "    '''\n",
    "    Uses the given formula\n",
    "    normalized(X) = (X - X.mean) / (X.std_dev)\n",
    "    where X is the vector to normalize\n",
    "    X.mean is the sample mean of the vector X\n",
    "    X.std_dev is the sample standard deviation of the vector X\n",
    "    '''\n",
    "    return (X - np.mean(X)) / np.std(X)\n",
    "\n",
    "normalized_features = dict([(key, normalize(value)) for key, value in features.items()])"
   ]
  },
  {
   "cell_type": "code",
   "execution_count": 6,
   "id": "613be6cf-15b6-4353-9048-2edf6207e4c6",
   "metadata": {},
   "outputs": [
    {
     "name": "stdout",
     "output_type": "stream",
     "text": [
      "Sample mean for Feature 1 = -4.736951571734001e-16\n",
      "\n",
      "Sample mean for Feature 2 = -6.631732200427602e-16\n",
      "\n",
      "Sample mean for Feature 3 = 3.315866100213801e-16\n",
      "\n",
      "Sample mean for Feature 4 = -2.842170943040401e-16\n",
      "\n"
     ]
    }
   ],
   "source": [
    "# Question 2 part (c) continued\n",
    "# Calculating the sample mean of the normalized feature vectors\n",
    "\n",
    "normalized_sample_means = dict([(key, np.mean(value)) for key, value in normalized_features.items()])\n",
    "\n",
    "# Printing the sample mean for each normalized feature vector\n",
    "for feature, mean in normalized_sample_means.items():\n",
    "    print(f'Sample mean for {feature} = {mean}\\n')"
   ]
  },
  {
   "cell_type": "code",
   "execution_count": 7,
   "id": "b1367690-4b4f-44d8-a876-45c7ccda2034",
   "metadata": {},
   "outputs": [
    {
     "name": "stdout",
     "output_type": "stream",
     "text": [
      "Sample mean for Feature 1 = 1.0\n",
      "\n",
      "Sample mean for Feature 2 = 0.9999999999999999\n",
      "\n",
      "Sample mean for Feature 3 = 0.9999999999999998\n",
      "\n",
      "Sample mean for Feature 4 = 1.0\n",
      "\n"
     ]
    }
   ],
   "source": [
    "# Question 2 part (c) continued\n",
    "# Calculating the sample mean of the normalized feature vectors\n",
    "\n",
    "normalized_sample_std_dev = dict([(key, np.std(value)) for key, value in normalized_features.items()])\n",
    "\n",
    "# Printing the sample standard deviation for each normalized feature vector\n",
    "for feature, std_dev in normalized_sample_std_dev.items():\n",
    "    print(f'Sample mean for {feature} = {std_dev}\\n')"
   ]
  },
  {
   "cell_type": "code",
   "execution_count": 8,
   "id": "b42dce50-9bd6-4439-9b9f-6be7f12494f8",
   "metadata": {},
   "outputs": [
    {
     "data": {
      "image/png": "[encoded data removed]",
      "text/plain": [
       "<Figure size 864x576 with 4 Axes>"
      ]
     },
     "metadata": {},
     "output_type": "display_data"
    }
   ],
   "source": [
    "# Question 2 part (d)\n",
    "\n",
    "# Get the figure and axes\n",
    "fig2, ((_ax1, _ax2), (_ax3, _ax4)) = plt.subplots(nrows=2, ncols=2, figsize=(12,8))\n",
    "\n",
    "# Plotting normalized feature 1\n",
    "_ax1.hist(normalized_features['Feature 1'], bins=20, density=True, color='blue')\n",
    "_ax1.set_title('Normalized Feature 1')\n",
    "\n",
    "# Plotting normalized feature 2\n",
    "_ax2.hist(normalized_features['Feature 2'], bins=20, density=True, color='green')\n",
    "_ax2.set_title('Normalized Feature 2')\n",
    "\n",
    "# Plotting normalized feature 3\n",
    "_ax3.hist(normalized_features['Feature 3'], bins=20, density=True, color='red')\n",
    "_ax3.set_title('Normalized Feature 3')\n",
    "\n",
    "# Plotting normalized feature 4\n",
    "_ax4.hist(normalized_features['Feature 4'], bins=20, density=True, color='yellow')\n",
    "_ax4.set_title('Normalized Feature 4')\n",
    "\n",
    "plt.show()"
   ]
  }
 ],
 "metadata": {
  "kernelspec": {
   "display_name": "Python 3 (ipykernel)",
   "language": "python",
   "name": "python3"
  },
  "language_info": {
   "codemirror_mode": {
    "name": "ipython",
    "version": 3
   },
   "file_extension": ".py",
   "mimetype": "text/x-python",
   "name": "python",
   "nbconvert_exporter": "python",
   "pygments_lexer": "ipython3",
   "version": "3.9.6"
  }
 },
 "nbformat": 4,
 "nbformat_minor": 5
}
