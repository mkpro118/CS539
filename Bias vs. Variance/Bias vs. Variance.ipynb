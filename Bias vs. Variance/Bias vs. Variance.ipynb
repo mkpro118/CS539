{
 "cells": [
  {
   "cell_type": "code",
   "execution_count": 1,
   "id": "55dd73d7-1ea4-4f56-aadf-55eef6e48e50",
   "metadata": {},
   "outputs": [
    {
     "name": "stdout",
     "output_type": "stream",
     "text": [
      "Xi.shape = (200,)\n",
      "Yi.shape = (200,)\n",
      "dXi.shape = (200,)\n"
     ]
    }
   ],
   "source": [
    "# Question 1\n",
    "\n",
    "# Setup\n",
    "import numpy as np\n",
    "from concurrent.futures import ThreadPoolExecutor\n",
    "from math import inf as infinity\n",
    "\n",
    "filename = 'Ex_BVV_data.csv'\n",
    "\n",
    "data = np.genfromtxt(filename, delimiter=',')\n",
    "\n",
    "Xi = data[:, 0]\n",
    "Yi = data[:, 1]\n",
    "dXi = data[:, 2]\n",
    "\n",
    "print(f'{Xi.shape = }')\n",
    "print(f'{Yi.shape = }')\n",
    "print(f'{dXi.shape = }')"
   ]
  },
  {
   "cell_type": "code",
   "execution_count": 4,
   "id": "5a8e2d53-18e4-4fba-af11-00f6c3c3e20c",
   "metadata": {},
   "outputs": [
    {
     "name": "stdout",
     "output_type": "stream",
     "text": [
      "Order 1: Minimum Sum of Bias^2 and Variance = 0.00886\n",
      "Order 2: Minimum Sum of Bias^2 and Variance = 0.00988\n",
      "Order 3: Minimum Sum of Bias^2 and Variance = 0.00946\n",
      "Order 4: Minimum Sum of Bias^2 and Variance = 0.00865\n",
      "Order 5: Minimum Sum of Bias^2 and Variance = 0.00863\n",
      "Order 6: Minimum Sum of Bias^2 and Variance = 0.00915\n",
      "Order 7: Minimum Sum of Bias^2 and Variance = 0.00880\n",
      "Order 8: Minimum Sum of Bias^2 and Variance = 0.00898\n",
      "Order 9: Minimum Sum of Bias^2 and Variance = 0.00865\n",
      "Order 10: Minimum Sum of Bias^2 and Variance = 0.01143\n",
      "Order 11: Minimum Sum of Bias^2 and Variance = 0.00994\n",
      "Best result was with power 5, = 0.00863\n"
     ]
    }
   ],
   "source": [
    "sample_size = 40\n",
    "n_trials = 20\n",
    "powers = range(1, 12)\n",
    "\n",
    "def experiment(power):\n",
    "    indices = np.random.permutation(Xi.shape[0])[:sample_size]\n",
    "    fitted_polynomial = np.polyfit(Xi[indices], Yi[indices], power)\n",
    "    activated = np.polyval(fitted_polynomial, Xi)\n",
    "    mean = np.mean(activated)\n",
    "    bias_squared = (np.linalg.norm(mean - dXi, 2) ** 2) / Xi.shape[0]\n",
    "    variance = np.sum(np.var(activated)) / Xi.shape[0]\n",
    "    return power, bias_squared + variance\n",
    "\n",
    "def trial(power):\n",
    "    _results = []\n",
    "    with ThreadPoolExecutor() as executor:\n",
    "        results = executor.map(experiment, (power,) * n_trials)\n",
    "        for result in results:\n",
    "            _results.append(result)\n",
    "    \n",
    "    return min(_results, key=lambda x: x[0])\n",
    "\n",
    "best_result = (0, infinity)\n",
    "\n",
    "with ThreadPoolExecutor() as executor:\n",
    "    results = executor.map(trial, powers)\n",
    "    for order, min_b2_var in results:\n",
    "        best_result = min((best_result, (order, min_b2_var)), key=lambda x: x[1])\n",
    "        print(\n",
    "            f\"Order {order}: \"\n",
    "            f\"Minimum Sum of Bias^2 and Variance = {min_b2_var:.5f}\"\n",
    "        )\n",
    "print(f\"Best result was with power {best_result[0]}, = {best_result[1]:.5f}\")"
   ]
  }
 ],
 "metadata": {
  "kernelspec": {
   "display_name": "Python 3 (ipykernel)",
   "language": "python",
   "name": "python3"
  },
  "language_info": {
   "codemirror_mode": {
    "name": "ipython",
    "version": 3
   },
   "file_extension": ".py",
   "mimetype": "text/x-python",
   "name": "python",
   "nbconvert_exporter": "python",
   "pygments_lexer": "ipython3",
   "version": "3.9.6"
  }
 },
 "nbformat": 4,
 "nbformat_minor": 5
}
