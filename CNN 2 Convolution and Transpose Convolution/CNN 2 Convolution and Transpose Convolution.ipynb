{
 "cells": [
  {
   "cell_type": "code",
   "execution_count": 1,
   "id": "125a4987-e019-4e72-accb-cacefa06ae34",
   "metadata": {},
   "outputs": [],
   "source": [
    "# Setup\n",
    "\n",
    "import numpy as np\n",
    "\n",
    "in_bounds = lambda t, f, x: t + f <= x"
   ]
  },
  {
   "cell_type": "code",
   "execution_count": 2,
   "id": "fd40f90d-882f-40f7-9ce1-b73348b2a6eb",
   "metadata": {},
   "outputs": [],
   "source": [
    "# Question 1, setup\n",
    "\n",
    "out_size = lambda x, f, p, s: (x - f + 2 * p) // s + 1\n",
    "extract = lambda x, t, l, f: x[t:t + f, l: l + f]\n",
    "\n",
    "def convolve(\n",
    "        X: np.ndarray,\n",
    "        kernel: np.ndarray,\n",
    "        stride: int = None,\n",
    "        padding: int = None\n",
    "    ) -> np.ndarray:\n",
    "    \n",
    "    stride = stride or 1\n",
    "    padding = padding or 0\n",
    "    \n",
    "    kernel_size = len(kernel)\n",
    "    \n",
    "    output_height = out_size(X.shape[0], kernel_size, padding, stride)\n",
    "    output_width = out_size(X.shape[1], kernel_size, padding, stride)\n",
    "    \n",
    "    output = np.zeros((output_height, output_width))\n",
    "    \n",
    "    input_ = X\n",
    "    \n",
    "    if padding:\n",
    "        zeros = np.zeros((input_.shape[0], padding))\n",
    "        input_ = np.hstack((\n",
    "            _ := zeros.reshape(input_.shape[0], -1),\n",
    "            input_,\n",
    "            _\n",
    "        ))\n",
    "        \n",
    "        zeros = np.zeros((input_.shape[1], padding))\n",
    "        input_ = np.vstack((\n",
    "            _ := zeros.reshape(-1, input_.shape[1]),\n",
    "            input_,\n",
    "            _\n",
    "        ))\n",
    "    \n",
    "    input_height, input_width = input_.shape\n",
    "    \n",
    "    # Code for convolution\n",
    "    top, left, out_x, out_y = 0, 0, 0, 0\n",
    "    while in_bounds(top, kernel_size, input_height):\n",
    "        \n",
    "        output[out_y, out_x] = np.sum(extract(input_, top, left, kernel_size) * kernel)\n",
    "        out_x += 1\n",
    "        left += stride\n",
    "        if not in_bounds(left, kernel_size, input_width):\n",
    "            left, out_x, out_y = 0, 0, out_y + 1\n",
    "            top += stride\n",
    "    return output"
   ]
  },
  {
   "cell_type": "code",
   "execution_count": 3,
   "id": "8e7b4db7-9bb8-4cbd-b02f-49c5334fb10a",
   "metadata": {},
   "outputs": [
    {
     "name": "stdout",
     "output_type": "stream",
     "text": [
      "Convolved Matrix\n",
      "[[ -1.  -4.  14.]\n",
      " [  3. -20. -17.]]\n"
     ]
    }
   ],
   "source": [
    "A = np.array([\n",
    "    [4, 9, 4, 5, 6],\n",
    "    [8, 3, 6, 8, 5],\n",
    "    [6, 8, 1, 9, 0],\n",
    "    [5, 8, 1, 1, 3],\n",
    "])\n",
    "\n",
    "B = np.array([\n",
    "    [ 0, -1,  0],\n",
    "    [-1,  4, -1],\n",
    "    [ 0, -1,  0],\n",
    "])\n",
    "\n",
    "C = convolve(A, B, stride=2, padding=1)\n",
    "print(f'Convolved Matrix\\n{C}')"
   ]
  },
  {
   "cell_type": "code",
   "execution_count": 4,
   "id": "482800c4-ab28-4838-b59b-5e4447b7c694",
   "metadata": {},
   "outputs": [],
   "source": [
    "def convolve_transpose(\n",
    "        X: np.ndarray,\n",
    "        kernel: np.ndarray,\n",
    "        stride: int = None,\n",
    "        padding: int = None\n",
    "    ) -> np.ndarray:\n",
    "    stride = stride or 1\n",
    "    padding = padding or 0\n",
    "    \n",
    "    input_ = X\n",
    "    \n",
    "    zeros, i = np.zeros((input_.shape[0])), 1\n",
    "    i = 1\n",
    "    while in_bounds(i, stride - 1, input_.shape[1]):\n",
    "        input_ = np.insert(input_, i, zeros, axis=1)\n",
    "        i += stride\n",
    "    \n",
    "    zeros, i = np.zeros((input_.shape[1])), 1\n",
    "    while in_bounds(i, stride - 1, input_.shape[0]):\n",
    "        input_ = np.insert(input_, i, zeros, axis=0)\n",
    "        i += stride\n",
    "    \n",
    "    if padding:\n",
    "        zeros = np.zeros((input_.shape[0], padding))\n",
    "        input_ = np.hstack((\n",
    "            _ := zeros.reshape(input_.shape[0], -1),\n",
    "            input_,\n",
    "            _\n",
    "        ))\n",
    "        \n",
    "        zeros = np.zeros((input_.shape[1], padding))\n",
    "        input_ = np.vstack((\n",
    "            _ := zeros.reshape(-1, input_.shape[1]),\n",
    "            input_,\n",
    "            _\n",
    "        ))\n",
    "    \n",
    "    output = convolve(input_, kernel, stride=1, padding=padding)\n",
    "    return output[\n",
    "        padding: output.shape[0] - padding,\n",
    "        padding: output.shape[1] - padding\n",
    "    ] "
   ]
  },
  {
   "cell_type": "code",
   "execution_count": 5,
   "id": "f07325f7-5263-447d-aa2b-fa391b4a7869",
   "metadata": {
    "tags": []
   },
   "outputs": [
    {
     "name": "stdout",
     "output_type": "stream",
     "text": [
      "Transpose Convolved Matrix\n",
      "[[4.5   1.625 2.    1.125 2.5  ]\n",
      " [1.5   0.    1.25  0.    1.625]\n",
      " [1.5   1.125 3.    1.75  4.   ]\n",
      " [1.375 0.    0.875 0.    2.125]\n",
      " [4.    1.125 0.5   1.25  4.5  ]]\n"
     ]
    }
   ],
   "source": [
    "A = np.array([\n",
    "    [9, 4, 5,],\n",
    "    [3, 6, 8,],\n",
    "    [8, 1, 9,],\n",
    "])\n",
    "\n",
    "B = np.array([\n",
    "    [0, 1, 0],\n",
    "    [1, 4, 1],\n",
    "    [0, 1, 0],\n",
    "])\n",
    "B = B / 8.\n",
    "\n",
    "C = convolve_transpose(A, B, stride=2, padding=1)\n",
    "print(f'Transpose Convolved Matrix\\n{C}')"
   ]
  }
 ],
 "metadata": {
  "kernelspec": {
   "display_name": "Python 3 (ipykernel)",
   "language": "python",
   "name": "python3"
  },
  "language_info": {
   "codemirror_mode": {
    "name": "ipython",
    "version": 3
   },
   "file_extension": ".py",
   "mimetype": "text/x-python",
   "name": "python",
   "nbconvert_exporter": "python",
   "pygments_lexer": "ipython3",
   "version": "3.9.6"
  }
 },
 "nbformat": 4,
 "nbformat_minor": 5
}
