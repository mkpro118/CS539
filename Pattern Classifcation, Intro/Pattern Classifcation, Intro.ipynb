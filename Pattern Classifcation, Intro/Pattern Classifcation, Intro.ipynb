{
 "cells": [
  {
   "cell_type": "markdown",
   "id": "3d656622-e2ca-46c7-b719-b16ceb41619d",
   "metadata": {},
   "source": [
    "## Setup\n",
    "\n",
    "<table style=\"font-size: 16px; text-align: center;\">\n",
    "  <tr>\n",
    "    <th>Label/ Feature (x)</th>\n",
    "    <th>1</th>\n",
    "    <th>2</th>\n",
    "    <th>3</th>\n",
    "    <th>4</th>\n",
    "    <th>5</th>\n",
    "  </tr>\n",
    "\n",
    "  <tr>\n",
    "    <td>Large</td>\n",
    "    <td>3</td>\n",
    "    <td>8</td>\n",
    "    <td>6</td>\n",
    "    <td>2</td>\n",
    "    <td>0</td>\n",
    "  </tr>\n",
    "\n",
    "  <tr>\n",
    "    <td>Jumbo</td>\n",
    "    <td>0</td>\n",
    "    <td>1</td>\n",
    "    <td>5</td>\n",
    "    <td>9</td>\n",
    "    <td>6</td>\n",
    "  </tr>\n",
    "</table>"
   ]
  },
  {
   "cell_type": "code",
   "execution_count": 1,
   "id": "f3a909c8-db6c-4daf-9e0b-974785dc4354",
   "metadata": {},
   "outputs": [],
   "source": [
    "# Setup\n",
    "\n",
    "# Tables of the egg's features and labels\n",
    "egg_table = {\n",
    "    'Large': [3, 8, 6, 2, 0,],\n",
    "    'Jumbo': [0, 1, 5, 9, 6,],\n",
    "}\n",
    "\n",
    "class Egg:\n",
    "    '''\n",
    "    This class represents each type of egg\n",
    "    and their attributes, namely,\n",
    "    | label  : str | The label of this type of egg\n",
    "    | feature: int | The feature of this type of egg\n",
    "    | count  : int | The number of eggs of this type\n",
    "    '''\n",
    "    def __init__(self, label: str, feature: int, count: int):\n",
    "        self.label = label\n",
    "        self.feature = feature\n",
    "        self.count = count\n",
    "    \n",
    "    def __repr__(self):\n",
    "        return f'{self.label} | {self.feature} | {self.count}'\n",
    "        \n",
    "\n",
    "# List of Egg objects\n",
    "egg_list = []\n",
    "for label, features in egg_table.items():\n",
    "    for feature, count in enumerate(features, 1):\n",
    "        egg_list.append(Egg(label, feature, count))\n",
    "\n",
    "\n",
    "# Helper functions\n",
    "\n",
    "\n",
    "# maps the input to it's count values\n",
    "c_map = lambda x: x.count\n",
    "\n",
    "\n",
    "# calculate the prior probabilities\n",
    "def pr(pred1: callable, pred2: callable = None) -> float:\n",
    "    '''\n",
    "    Params:\n",
    "        | pred1 : callable | First condition to check\n",
    "        | pred2 : callable | Optional second condition\n",
    "    Returns:\n",
    "        float: The prior probability given the predicates\n",
    "    \n",
    "    This function computes the prior probabilty, given the predicates\n",
    "    \n",
    "    It has two signatures,\n",
    "    pr(pred1) => computes prior probability of pred1 and\n",
    "                 defaults pred2 to always be True\n",
    "\n",
    "    pr(pred1, pred2) => computes prior probability of pred1 given\n",
    "                        pred2 i.e, Pr{pred1 | pred2}\n",
    "    '''\n",
    "    # Default pred2 to always return true if pred2 is not given\n",
    "    if pred2 is None:\n",
    "        pred2 = lambda x: True\n",
    "    \n",
    "    # Combined predicate filter key\n",
    "    key = lambda x: pred1(x) and pred2(x)\n",
    "    \n",
    "    # The numerator\n",
    "    n = sum(map(c_map, filter(key, egg_list)))\n",
    "    \n",
    "    # The denominator\n",
    "    d = sum(map(c_map, filter(pred2, egg_list)))\n",
    "    \n",
    "    # Numerator / denominator\n",
    "    return n / d\n",
    "\n",
    "def pos_pr(pred1: callable, pred2: callable) -> float:\n",
    "    '''\n",
    "    Params:\n",
    "        | pred1 : callable | First condition\n",
    "        | pred2 : callable | Second condition\n",
    "    Returns:\n",
    "        float: The posterior probability given the predicates\n",
    "    \n",
    "    This function computes the posterior probability of pred1\n",
    "    given pred2 is true, according to the formula\n",
    "    \n",
    "    Pos_Pr = Pr(pred2, pred1) * Pr(pred1) / Pr(pred2)\n",
    "    Pr = prior probability\n",
    "    '''\n",
    "    return pr(pred2, pred1) * pr(pred1) / pr(pred2)"
   ]
  },
  {
   "cell_type": "code",
   "execution_count": 2,
   "id": "f1729af6-f7d8-495a-aa1d-6f487811ba5b",
   "metadata": {},
   "outputs": [
    {
     "name": "stdout",
     "output_type": "stream",
     "text": [
      "Number of eggs in this bunch N = 40\n"
     ]
    }
   ],
   "source": [
    "# Question 1 part (a)\n",
    "\n",
    "# Number of eggs in the bunch\n",
    "N = sum(map(c_map, egg_list))\n",
    "\n",
    "print(f'Number of eggs in this bunch {N = }')"
   ]
  },
  {
   "cell_type": "code",
   "execution_count": 3,
   "id": "3b8f6328-d4e6-4872-b79c-ff74206082db",
   "metadata": {},
   "outputs": [
    {
     "name": "stdout",
     "output_type": "stream",
     "text": [
      "Pr{Large} = 0.475\n",
      "Pr{Jumbo} = 0.525\n"
     ]
    }
   ],
   "source": [
    "# Question 1 part (b)\n",
    "\n",
    "# predicate for large eggs\n",
    "f_large = lambda x: x.label == 'Large'\n",
    "\n",
    "# prior probability of Large egg\n",
    "pr_large = pr(f_large)\n",
    "\n",
    "# predicate for jumbo eggs\n",
    "f_jumbo = lambda x: x.label == 'Jumbo'\n",
    "\n",
    "# prior probability of Jumbo egg\n",
    "pr_jumbo = pr(f_jumbo)\n",
    "\n",
    "# Rounded to 5 decimal places\n",
    "print(f'Pr{{Large}} = {pr_large:.5}')\n",
    "print(f'Pr{{Jumbo}} = {pr_jumbo:.5}')"
   ]
  },
  {
   "cell_type": "code",
   "execution_count": 4,
   "id": "54bcece0-53a3-4211-838f-7073ab68c9b2",
   "metadata": {},
   "outputs": [
    {
     "name": "stdout",
     "output_type": "stream",
     "text": [
      "Pr{x > 3 | Large} = 0.10526\n"
     ]
    }
   ],
   "source": [
    "# Question 1 part (c)\n",
    "\n",
    "# Large egg longer than 3 cm\n",
    "# Note: strict inequality is implied\n",
    "\n",
    "# predicate for large eggs\n",
    "f_large = lambda x: x.label == 'Large'\n",
    "\n",
    "# predicate for eggs longer than 3cm\n",
    "f_gt3 = lambda x: x.feature > 3\n",
    "\n",
    "# The likelihood\n",
    "pr_large_gt3 = pr(f_gt3, f_large)\n",
    "\n",
    "# Rounded to 5 decimal places\n",
    "print(f'Pr{{x > 3 | Large}} = {pr_large_gt3:0.5}')"
   ]
  },
  {
   "cell_type": "code",
   "execution_count": 8,
   "id": "3d699539-8bdf-41b7-bfa0-2c1abc139a6c",
   "metadata": {},
   "outputs": [
    {
     "name": "stdout",
     "output_type": "stream",
     "text": [
      "Posterior probability, Pr{Jumbo | x < 4} = 0.26087\n"
     ]
    }
   ],
   "source": [
    "# Question 1 part (d)\n",
    "\n",
    "# predicate for jumbo eggs\n",
    "f_jumbo = lambda x: x.label == 'Jumbo'\n",
    "\n",
    "# predicate for eggs shorter than 4cm\n",
    "f_lt4 = lambda x: x.feature < 4\n",
    "\n",
    "# The posterior probability\n",
    "pos_pr_jumbo_lt4 = pos_pr(f_jumbo, f_lt4)\n",
    "\n",
    "# Rounded to 5 decimal places\n",
    "print(f'Posterior probability, Pr{{Jumbo | x < 4}} = {pos_pr_jumbo_lt4:.5}')"
   ]
  },
  {
   "cell_type": "code",
   "execution_count": 9,
   "id": "e1fa6b2c-1010-4616-9a68-2b478f1557a4",
   "metadata": {},
   "outputs": [
    {
     "name": "stdout",
     "output_type": "stream",
     "text": [
      "Pr{x < 4} = 0.575\n"
     ]
    }
   ],
   "source": [
    "# Question 1 part (e)\n",
    "\n",
    "# predicate for eggs shorter than 4cm\n",
    "f_lt4 = lambda x: x.feature < 4\n",
    "\n",
    "# prior probability of eggs shorter than 4cm\n",
    "pr_lt4 = pr(f_lt4)\n",
    "\n",
    "# Rounded to 5 decimal places\n",
    "print(f'Pr{{x < 4}} = {pr_lt4:.5}')"
   ]
  },
  {
   "cell_type": "code",
   "execution_count": 10,
   "id": "762d7226-ba75-428f-93a4-daa54ea563c4",
   "metadata": {},
   "outputs": [
    {
     "name": "stdout",
     "output_type": "stream",
     "text": [
      "Pr{Jumbo, x < 4} = 0.15\n"
     ]
    }
   ],
   "source": [
    "# Question 1 part (f)\n",
    "\n",
    "# predicate for jumbo eggs shorter than 4cm\n",
    "f_jumbo_lt4 = lambda x: x.label == 'Jumbo' and x.feature < 4\n",
    "\n",
    "# prior probabilty for jumbo eggs shorter than 4cm\n",
    "pr_jumbo_lt4 = pr(f_jumbo_lt4)\n",
    "\n",
    "# Rounded to 5 decimal places\n",
    "print(f'Pr{{Jumbo, x < 4}} = {pr_jumbo_lt4:.5}')"
   ]
  },
  {
   "cell_type": "code",
   "execution_count": 12,
   "id": "e676d440-c2ad-42b6-89dd-e85b75f719a6",
   "metadata": {},
   "outputs": [
    {
     "name": "stdout",
     "output_type": "stream",
     "text": [
      "Pr{x < 4 | Jumbo} = 0.28571\n"
     ]
    }
   ],
   "source": [
    "# Question 1 part (g)\n",
    "\n",
    "# predicate for jumbo eggs\n",
    "f_jumbo = lambda x: x.label == 'Jumbo'\n",
    "\n",
    "# predicate for eggs shorter than 4cm\n",
    "f_lt4 = lambda x: x.feature < 4\n",
    "\n",
    "# the likelihood of eggs shorter than 4cm given it's jumbo\n",
    "pr_lt4_jumbo = pr(f_lt4, f_jumbo)\n",
    "\n",
    "# Rounded to 5 decimal places\n",
    "print(f'Pr{{x < 4 | Jumbo}} = {pr_lt4_jumbo:.5}')"
   ]
  },
  {
   "cell_type": "code",
   "execution_count": 14,
   "id": "3eb9ee63-03f1-4415-a8f6-75c9e976f750",
   "metadata": {},
   "outputs": [
    {
     "name": "stdout",
     "output_type": "stream",
     "text": [
      "LHS = 0.2608695652173913\n",
      "RHS = 0.2608695652173913\n",
      "LHS = RHS => True\n"
     ]
    }
   ],
   "source": [
    "# Question 1 part (h)\n",
    "\n",
    "# predicate for jumbo eggs\n",
    "f_jumbo = lambda x: x.label == 'Jumbo'\n",
    "\n",
    "# predicate for eggs shorter than 4cm\n",
    "f_lt4 = lambda x: x.feature < 4\n",
    "\n",
    "lhs = pos_pr(f_jumbo, f_lt4)\n",
    "rhs = pr(f_lt4, f_jumbo) * pr(f_jumbo) / pr(f_lt4)\n",
    "\n",
    "print(f'LHS = {lhs}')\n",
    "print(f'RHS = {rhs}')\n",
    "\n",
    "print(f'LHS = RHS => {lhs == rhs}')"
   ]
  },
  {
   "cell_type": "markdown",
   "id": "7f2729e3-4f69-4ded-8b6f-c9eec2d755a6",
   "metadata": {},
   "source": [
    "## Question 1 part (h)\n",
    "#### NOTE: The above code doesn't actually verify the Bayesian equation, as the equation is used in computing posterior probabilty\n",
    "#### Below is the verification computed by hand,\n",
    "<br>\n",
    "$\\text{LHS} = Pr\\{\\text{Jumbo} | x \\lt 4\\} = \\displaystyle \\frac{\\text{Number of Jumbo eggs} \\lt 4 \\text{cm}}{\\text{Number of eggs} \\lt 4 \\text{cm}}$<br>\n",
    "$\\text{LHS} = Pr\\{\\text{Jumbo} | x \\lt 4\\} = \\displaystyle \\frac{1+5}{3+8+6+1+5} = \\frac{6}{23}$<br>\n",
    "<br>\n",
    "$\\text{RHS} = \\displaystyle \\frac{Pr\\{\\text{x} \\lt 4 | \\text{Jumbo}\\} \\cdot Pr\\{\\text{Jumbo}\\}}{Pr\\{\\text{x} \\lt 4\\}}$<br>\n",
    "$Pr\\{\\text{x} \\lt 4 | \\text{Jumbo}\\} = \\displaystyle \\frac{\\text{Number of Jumbo eggs} \\lt 4 \\text{cm}}{\\text{Number of Jumbo eggs}} = \\frac{1+5}{1+5+9+6} = \\frac{6}{21} = \\frac{2}{7}$<br>\n",
    "$Pr\\{\\text{Jumbo}\\} = \\displaystyle \\frac{\\text{Number of Jumbo eggs}}{\\text{Number of eggs}} = \\frac{1+5+9+6}{40} = \\frac{21}{40}$<br>\n",
    "$Pr\\{\\text{x} \\lt 4\\} = \\displaystyle \\frac{\\text{Number of eggs} \\lt 4 \\text{cm}}{\\text{Number of eggs}} = \\frac{3+8+6+1+5}{40} = \\frac{23}{40}$<br>\n",
    "$\\text{RHS} = \\displaystyle \\frac{\\displaystyle \\frac{2}{7} \\cdot \\frac{21}{40}}{\\displaystyle \\frac{23}{40}} = \\frac{2 \\cdot 21 \\cdot 40}{7 \\cdot 23 \\cdot 40} = \\frac{2 \\cdot 3}{23} = \\frac{6}{23}$<br>\n",
    "<br>\n",
    "$\\text{LHS} = \\text{RHS}$"
   ]
  },
  {
   "cell_type": "code",
   "execution_count": null,
   "id": "e8d93512-cc9e-4ea4-97fe-89dbc33fb8a1",
   "metadata": {},
   "outputs": [],
   "source": []
  }
 ],
 "metadata": {
  "kernelspec": {
   "display_name": "Python 3 (ipykernel)",
   "language": "python",
   "name": "python3"
  },
  "language_info": {
   "codemirror_mode": {
    "name": "ipython",
    "version": 3
   },
   "file_extension": ".py",
   "mimetype": "text/x-python",
   "name": "python",
   "nbconvert_exporter": "python",
   "pygments_lexer": "ipython3",
   "version": "3.9.6"
  }
 },
 "nbformat": 4,
 "nbformat_minor": 5
}
