{
 "cells": [
  {
   "cell_type": "markdown",
   "id": "3d656622-e2ca-46c7-b719-b16ceb41619d",
   "metadata": {},
   "source": [
    "## Setup\n",
    "\n",
    "<table style=\"font-size: 16px; text-align: center;\">\n",
    "  <tr>\n",
    "    <th>Label/ Feature (x)</th>\n",
    "    <th>1</th>\n",
    "    <th>2</th>\n",
    "    <th>3</th>\n",
    "    <th>4</th>\n",
    "    <th>5</th>\n",
    "  </tr>\n",
    "\n",
    "  <tr>\n",
    "    <td>Large</td>\n",
    "    <td>3</td>\n",
    "    <td>8</td>\n",
    "    <td>6</td>\n",
    "    <td>2</td>\n",
    "    <td>0</td>\n",
    "  </tr>\n",
    "\n",
    "  <tr>\n",
    "    <td>Jumbo</td>\n",
    "    <td>0</td>\n",
    "    <td>1</td>\n",
    "    <td>5</td>\n",
    "    <td>9</td>\n",
    "    <td>6</td>\n",
    "  </tr>\n",
    "</table>"
   ]
  },
  {
   "cell_type": "code",
   "execution_count": 3,
   "id": "f3a909c8-db6c-4daf-9e0b-974785dc4354",
   "metadata": {},
   "outputs": [
    {
     "name": "stdout",
     "output_type": "stream",
     "text": [
      "Large | 1 | 3\n",
      "Large | 2 | 8\n",
      "Large | 3 | 6\n",
      "Large | 4 | 2\n",
      "Large | 5 | 0\n",
      "Jumbo | 1 | 0\n",
      "Jumbo | 2 | 1\n",
      "Jumbo | 3 | 5\n",
      "Jumbo | 4 | 9\n",
      "Jumbo | 5 | 6\n"
     ]
    }
   ],
   "source": [
    "egg_table = {\n",
    "    'Large': [3, 8, 6, 2, 0,],\n",
    "    'Jumbo': [0, 1, 5, 9, 6,],\n",
    "}\n",
    "\n",
    "class Egg:\n",
    "    def __init__(self, label: str, feature: int, count: int):\n",
    "        self.label = label\n",
    "        self.feature = feature\n",
    "        self.count = count\n",
    "    def __repr__(self):\n",
    "        return f'{self.label} | {self.feature} | {self.count}'\n",
    "        \n",
    "egg_list = []\n",
    "for label, features in egg_table.items():\n",
    "    for feature, count in enumerate(features, 1):\n",
    "        egg_list.append(Egg(label, feature, count))\n",
    "\n",
    "print(*egg_list, sep='\\n')"
   ]
  },
  {
   "cell_type": "code",
   "execution_count": null,
   "id": "f1729af6-f7d8-495a-aa1d-6f487811ba5b",
   "metadata": {},
   "outputs": [],
   "source": []
  }
 ],
 "metadata": {
  "kernelspec": {
   "display_name": "Python 3 (ipykernel)",
   "language": "python",
   "name": "python3"
  },
  "language_info": {
   "codemirror_mode": {
    "name": "ipython",
    "version": 3
   },
   "file_extension": ".py",
   "mimetype": "text/x-python",
   "name": "python",
   "nbconvert_exporter": "python",
   "pygments_lexer": "ipython3",
   "version": "3.9.6"
  }
 },
 "nbformat": 4,
 "nbformat_minor": 5
}
