{
 "cells": [
  {
   "cell_type": "markdown",
   "id": "685e1319-37e1-4e19-b95a-621c1d005d0e",
   "metadata": {},
   "source": [
    "# Question 1\n",
    "\n",
    "## Part (a)\n",
    "\n",
    "<div style=\"font-size:16px;\">\n",
    "First inequality<br>\n",
    "$w_{0} + 0.5w_{1} + 0.1w_{2} \\lt 0$<br>\n",
    "<br>\n",
    "Second inequality<br>\n",
    "$w_{0} + 0.1w_{1} + 0.5w_{2} \\gt 0$<br>\n",
    "<br>\n",
    "Third inequality<br>\n",
    "$w_{0} + w_{1} + w_{2} \\gt 0$<br>\n",
    "</div>\n",
    "\n",
    "## Part (b)\n",
    "\n",
    "<div style=\"font-size:16px;\">\n",
    "One possible solution is,<br>\n",
    "$w_{0} = -1$, $w_{1} = 1$, $w_{2} = 2$\n",
    "</div>"
   ]
  },
  {
   "cell_type": "markdown",
   "id": "ec60947e-8768-45c0-acf9-873363807dbc",
   "metadata": {},
   "source": [
    "# Question 2\n",
    "\n",
    "## Part (a)\n",
    "\n",
    "$d_{1} = -1$, $x_{1} = 1$, $g(x_{1}) \\lt 0$<br>\n",
    "$d_{2} = 1$, $x_{2} = 2$, $g(x_{2}) \\gt 0$<br>\n",
    "$d_{3} = 1$, $x_{2} = 3$, $g(x_{3}) \\gt 0$<br>"
   ]
  },
  {
   "cell_type": "markdown",
   "id": "bd7a9fae-2383-40a8-b897-082c456ef4ea",
   "metadata": {},
   "source": [
    "## Part (b)\n",
    "\n",
    "$Q(a) = 1^{T}\\alpha - \\frac{1}{2}f^{T}X^{T}Xf$<br>"
   ]
  },
  {
   "cell_type": "markdown",
   "id": "426addd7-dbf2-4a25-8a6d-531843f3af67",
   "metadata": {},
   "source": [
    "$Q(a) = \\begin{bmatrix}\\alpha_{1} & \\alpha_{2} & \\alpha_{3}\\end{bmatrix} - \\frac{1}{2}\\begin{bmatrix}-\\alpha_{1} & \\alpha_{2} & \\alpha_{3}\\end{bmatrix}\\begin{bmatrix}1 \\\\ 2 \\\\ 3\\end{bmatrix}\\begin{bmatrix}1 & 2 & 3\\end{bmatrix}\\begin{bmatrix}-\\alpha_{1} \\\\ \\alpha_{2} \\\\ \\alpha_{3}\\end{bmatrix}$<br>\n",
    "$Q(a) = \\begin{bmatrix}\\alpha_{1} & \\alpha_{2} & \\alpha_{3}\\end{bmatrix} - \\frac{1}{2}\\begin{bmatrix}-\\alpha_{1} + 2\\alpha_{2} + 3\\alpha_{3} & -2\\alpha_{1} + 4\\alpha_{2} + 6\\alpha_{3} & -3\\alpha_{1} + 6\\alpha_{2} + 9\\alpha_{3}\\end{bmatrix}\\begin{bmatrix}-\\alpha_{1} \\\\ \\alpha_{2} \\\\ \\alpha_{3}\\end{bmatrix}$<br>\n",
    "$Q(a) = \\begin{bmatrix}\\alpha_{1} & \\alpha_{2} & \\alpha_{3}\\end{bmatrix} - \\frac{1}{2}\\begin{bmatrix}\\alpha_{1}^{2} - 2\\alpha_{1}\\alpha_{2} - 3\\alpha_{1}\\alpha_{3} - 2\\alpha_{1}\\alpha_{2} + 4\\alpha_{2}^{2} + 6\\alpha_{2}\\alpha_{3} -3\\alpha_{1}\\alpha_{3} + 6\\alpha_{2}\\alpha_{3} + 9\\alpha_{3}^2\\end{bmatrix}$<br>\n",
    "$Q(a) = \\begin{bmatrix}\\alpha_{1} & \\alpha_{2} & \\alpha_{3}\\end{bmatrix} - \\frac{1}{2}\\begin{bmatrix}\\alpha_{1}^{2} - 4\\alpha_{1}\\alpha_{2} - 6\\alpha_{1}\\alpha_{3} + 4\\alpha_{2}^{2} + 12\\alpha_{2}\\alpha_{3} + 9\\alpha_{3}^{2}\\end{bmatrix}$<br>"
   ]
  },
  {
   "cell_type": "markdown",
   "id": "00b15f14-c838-4660-9487-7be31f6f3558",
   "metadata": {},
   "source": [
    "## Part (c)\n",
    "\n",
    "If $\\alpha = \\begin{bmatrix}2 & 2 & 0\\end{bmatrix}$<br>\n",
    "\n",
    "$f = \\begin{bmatrix}-2 \\\\ 2 \\\\ 0\\end{bmatrix}$<br>\n",
    "\n",
    "$w = Xf = \\begin{bmatrix}1 & 2 & 3\\end{bmatrix}\\begin{bmatrix}-2 \\\\ 2 \\\\ 0\\end{bmatrix} = 1 \\cdot (-2) + 2 \\cdot 2 + 3 \\cdot 0 = -2 + 4 + 0 = 2$\n",
    "\n",
    "$b = d_{2} - f^{T}X^{T}x_{2} = 1 - \\begin{bmatrix}-2 & 2 & 0\\end{bmatrix}\\begin{bmatrix}1 \\\\ 2 \\\\ 3\\end{bmatrix}\\cdot2 = 1 - ((-2)\\cdot1 + 2 \\cdot 2 + 0\\cdot3) \\cdot 2 = -3$"
   ]
  }
 ],
 "metadata": {
  "kernelspec": {
   "display_name": "Python 3 (ipykernel)",
   "language": "python",
   "name": "python3"
  },
  "language_info": {
   "codemirror_mode": {
    "name": "ipython",
    "version": 3
   },
   "file_extension": ".py",
   "mimetype": "text/x-python",
   "name": "python",
   "nbconvert_exporter": "python",
   "pygments_lexer": "ipython3",
   "version": "3.9.6"
  }
 },
 "nbformat": 4,
 "nbformat_minor": 5
}
