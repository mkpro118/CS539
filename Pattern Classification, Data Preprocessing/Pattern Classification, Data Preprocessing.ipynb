{
 "cells": [
  {
   "cell_type": "code",
   "execution_count": null,
   "id": "cc95304e-8754-4f81-bf43-b1fe77565e3b",
   "metadata": {},
   "outputs": [],
   "source": [
    "# Setup\n",
    "import numpy as np\n",
    "\n",
    "filename = 'Ex_PC_data.csv'"
   ]
  },
  {
   "cell_type": "code",
   "execution_count": null,
   "id": "470924c5-af60-4aec-83ed-b779e145402b",
   "metadata": {},
   "outputs": [],
   "source": [
    "# Question 1 part (a)\n",
    "\n",
    "# Reading the data file and converting it into a matrix.\n",
    "data = np.genfromtxt(filename, delimiter=',')\n",
    "print(data)\n",
    "\n",
    "\n",
    "# Since we're given that the last column is labels\n",
    "features, labels = data[:, :-1], data[:, -1].astype(int)"
   ]
  },
  {
   "cell_type": "code",
   "execution_count": null,
   "id": "7be08c2b-ffd5-482f-be6c-714526a51a44",
   "metadata": {},
   "outputs": [],
   "source": [
    "# Question 1 part (b)\n",
    "\n",
    "# Number of samples and features\n",
    "n_samples, n_features = features.shape\n",
    "\n",
    "print(f'Number of samples = {n_samples}')\n",
    "print(f'Number of features = {n_features}')"
   ]
  },
  {
   "cell_type": "code",
   "execution_count": null,
   "id": "4fd75e6d-e71c-45b5-9e26-a98e9515aa66",
   "metadata": {},
   "outputs": [],
   "source": [
    "# Question 1 part (b) continued\n",
    "\n",
    "classes = np.unique(labels)\n",
    "n_classes = classes.shape[0]\n",
    "\n",
    "print(f'Number of classes = {n_classes}')\n",
    "print(f'The classes are:', ', '.join(map(str, classes)))"
   ]
  },
  {
   "cell_type": "code",
   "execution_count": null,
   "id": "183b6f3a-1060-49e6-8682-32eac38c1958",
   "metadata": {},
   "outputs": [],
   "source": [
    "# Question 1 part (b) continued\n",
    "\n",
    "for i in classes:\n",
    "    # Number of labels with class i\n",
    "    count = np.sum(labels == i)\n",
    "    \n",
    "    # pdf of that class\n",
    "    pdf = count / n_samples\n",
    "    \n",
    "    # rounded to 5 decimal places\n",
    "    print(f'Class distribution for label {i} = {pdf:.5}')\n",
    "    "
   ]
  },
  {
   "cell_type": "code",
   "execution_count": null,
   "id": "19ba6634-7d7b-4c8f-bb8b-d9243bd3dcf7",
   "metadata": {},
   "outputs": [],
   "source": [
    "# Question 1 part (c)\n",
    "\n",
    "# To impute, we need to first calculate the means of the features\n",
    "feature_means = np.nanmean(features, axis=0)\n",
    "print(f'Mean Vector for the features = \\n{feature_means}')"
   ]
  },
  {
   "cell_type": "code",
   "execution_count": null,
   "id": "560c7bd6-3c98-46d2-a307-269f83633f1f",
   "metadata": {},
   "outputs": [],
   "source": [
    "# Question 1 part (c) continued\n",
    "\n",
    "# Imputing nan values,\n",
    "for i, m in enumerate(feature_means):\n",
    "    # determining where the nan's are in each column\n",
    "    nans = np.where(np.isnan(features[:,i]))[0]\n",
    "    for j in nans:\n",
    "        features[j, i] = m\n",
    "print(features)"
   ]
  },
  {
   "cell_type": "code",
   "execution_count": null,
   "id": "715d3c4d-38ab-4248-a94a-cbccd24fc108",
   "metadata": {},
   "outputs": [],
   "source": [
    "# Question 1 part (d)\n",
    "\n",
    "ratio = 0.8 # 80 / 20 split\n",
    "\n",
    "# Number of elements in the training set\n",
    "length = int(features.shape[0] * ratio)\n",
    "\n",
    "# get a random permutation of the indices.\n",
    "indices = np.random.permutation(features.shape[0])\n",
    "\n",
    "train_features = features[indices[:length]]\n",
    "train_labels   = labels[indices[:length]]\n",
    "test_features  = features[indices[length:]]\n",
    "test_labels    = labels[indices[length:]]\n",
    "\n",
    "print(\"Shape of training dataset's features =\", train_features.shape)\n",
    "print(\"Shape of training dataset's labels   =\", train_labels.shape)\n",
    "print(\"Shape of testing dataset's features  =\", test_features.shape)\n",
    "print(\"Shape of testing dataset's labels    =\", test_labels.shape)"
   ]
  },
  {
   "cell_type": "code",
   "execution_count": null,
   "id": "1aaebcf8-209c-445c-b75a-ad4289973f37",
   "metadata": {},
   "outputs": [],
   "source": [
    "# Question 1 part (e)\n",
    "\n",
    "max_vector = np.max(train_features, axis=0)\n",
    "min_vector = np.min(train_features, axis=0)\n",
    "print(max_vector)\n",
    "print(min_vector)"
   ]
  },
  {
   "cell_type": "code",
   "execution_count": null,
   "id": "35e7f832-c143-4c41-9000-3cd59908aedd",
   "metadata": {},
   "outputs": [],
   "source": [
    "scaled_features"
   ]
  },
  {
   "cell_type": "code",
   "execution_count": null,
   "id": "41b304e1-2646-44a6-90e0-d3e049b76ab3",
   "metadata": {},
   "outputs": [],
   "source": []
  }
 ],
 "metadata": {
  "kernelspec": {
   "display_name": "Python 3 (ipykernel)",
   "language": "python",
   "name": "python3"
  },
  "language_info": {
   "codemirror_mode": {
    "name": "ipython",
    "version": 3
   },
   "file_extension": ".py",
   "mimetype": "text/x-python",
   "name": "python",
   "nbconvert_exporter": "python",
   "pygments_lexer": "ipython3",
   "version": "3.9.6"
  }
 },
 "nbformat": 4,
 "nbformat_minor": 5
}
