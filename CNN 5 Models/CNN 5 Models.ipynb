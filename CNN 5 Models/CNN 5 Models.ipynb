{
 "cells": [
  {
   "cell_type": "markdown",
   "id": "864dff1c-4956-4f5f-938c-282598616bb0",
   "metadata": {},
   "source": [
    "# Question 1\n",
    "\n",
    "## Part (a)\n",
    "\n",
    "The filter size $f = 5 \\times 5$. The number of filters (channels) $K = 6$\n",
    "\n",
    "## Part (b)\n",
    "Including the bias, number of weights $N_{w} = \\left(\\left(5 \\times 5\\right) + 1\\right) \\times (120+1) = 26 \\times 121 = 3146$ weights"
   ]
  },
  {
   "cell_type": "markdown",
   "id": "5f03f77b-7cc7-4227-92b1-447ed3b27809",
   "metadata": {},
   "source": [
    "# Question 2\n",
    "\n",
    "## Part(a)\n",
    "\n",
    "The filter size $f = 3 \\times 3$. The padding per side $p = \\displaystyle \\frac{\\left(\\left(\\left(1 - 1\\right) \\times 28\\right) - 1 + 3 \\right)}{2} = 1$\n",
    "\n",
    "## Part (b)\n",
    "\n",
    "$K = 32$, $D = 192$, $N_{w} = 32 \\times 192 \\times 1 \\times 1 = 6144$"
   ]
  }
 ],
 "metadata": {
  "kernelspec": {
   "display_name": "Python 3 (ipykernel)",
   "language": "python",
   "name": "python3"
  },
  "language_info": {
   "codemirror_mode": {
    "name": "ipython",
    "version": 3
   },
   "file_extension": ".py",
   "mimetype": "text/x-python",
   "name": "python",
   "nbconvert_exporter": "python",
   "pygments_lexer": "ipython3",
   "version": "3.9.6"
  }
 },
 "nbformat": 4,
 "nbformat_minor": 5
}
