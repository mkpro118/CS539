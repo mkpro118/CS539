{
 "cells": [
  {
   "cell_type": "markdown",
   "id": "43bc6a81-ae22-496d-a96f-7cc3f004dd66",
   "metadata": {},
   "source": [
    "## Question 1\n",
    "\n",
    "$TP = 5$<br>\n",
    "$FN = 2$<br>\n",
    "$FP = 1$<br>\n",
    "$TN = 3$<br>\n",
    "<br>\n",
    "$\\text{Sensitivity} = \\displaystyle \\frac{5}{5+2} = \\frac{5}{7}$<br>\n",
    "$\\text{Specificity} = \\displaystyle \\frac{3}{3+1} = \\frac{3}{4}$<br>\n",
    "$\\text{Pr. Miss} = \\displaystyle \\frac{2}{5+2} = \\frac{2}/{7}$<br>\n",
    "$\\text{Pr. False Alarm} = \\displaystyle \\frac{1}{3+1} = \\frac{1}{4}$<br>\n",
    "$\\text{Precision} = \\displaystyle \\frac{5}{5+1} = \\frac{5}{6}$<br>\n",
    "$\\text{Recall} = \\text{Sensitivity} = \\displaystyle \\frac{5}{7}$<br>"
   ]
  },
  {
   "cell_type": "code",
   "execution_count": 1,
   "id": "06a8234e-a218-4f66-afd4-92f145a7b815",
   "metadata": {},
   "outputs": [
    {
     "data": {
      "image/png": "[encoded data removed]",
      "text/plain": [
       "<Figure size 432x432 with 1 Axes>"
      ]
     },
     "metadata": {},
     "output_type": "display_data"
    }
   ],
   "source": [
    "# Question 2\n",
    "\n",
    "# Setup\n",
    "%matplotlib inline\n",
    "import numpy as np\n",
    "from sklearn.metrics import roc_curve, roc_auc_score\n",
    "from matplotlib import pyplot as plt\n",
    "plt.style.use('dark_background')\n",
    "\n",
    "filename = 'Ex_PC_metric.csv'\n",
    "\n",
    "matrix = np.genfromtxt(filename, delimiter=',')\n",
    "\n",
    "fig, ax = plt.subplots(1, 1, figsize=(6,6))\n",
    "\n",
    "# ROC Curve\n",
    "fpr, tpr, _ = roc_curve(matrix[:, 0], matrix[:, 1])\n",
    "ax.plot(fpr, tpr)\n",
    "ax.set_xlabel('FPR')\n",
    "ax.set_xticks(np.arange(0, 1.1, 0.1))\n",
    "ax.set_ylabel('TPR')\n",
    "ax.set_yticks(np.arange(0, 1.1, 0.1))\n",
    "ax.set_title('ROC Curve')\n",
    "\n",
    "plt.show()"
   ]
  },
  {
   "cell_type": "code",
   "execution_count": 2,
   "id": "010d1c49-3fa8-4154-9943-eed798bcc45b",
   "metadata": {},
   "outputs": [
    {
     "name": "stdout",
     "output_type": "stream",
     "text": [
      "auc = 0.895\n"
     ]
    }
   ],
   "source": [
    "# Question 2 continued\n",
    "\n",
    "# AUC value\n",
    "auc = roc_auc_score(matrix[:, 0], matrix[:, 1])\n",
    "\n",
    "print(f'{auc = }')"
   ]
  }
 ],
 "metadata": {
  "kernelspec": {
   "display_name": "Python 3 (ipykernel)",
   "language": "python",
   "name": "python3"
  },
  "language_info": {
   "codemirror_mode": {
    "name": "ipython",
    "version": 3
   },
   "file_extension": ".py",
   "mimetype": "text/x-python",
   "name": "python",
   "nbconvert_exporter": "python",
   "pygments_lexer": "ipython3",
   "version": "3.9.6"
  }
 },
 "nbformat": 4,
 "nbformat_minor": 5
}
