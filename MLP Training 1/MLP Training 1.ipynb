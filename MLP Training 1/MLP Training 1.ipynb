{
 "cells": [
  {
   "cell_type": "code",
   "execution_count": 1,
   "id": "86104a8f-6ccf-43a1-9bc9-0ff08c2b0a45",
   "metadata": {},
   "outputs": [
    {
     "name": "stdout",
     "output_type": "stream",
     "text": [
      "X.shape = (150, 4)\n",
      "y.shape = (150,)\n"
     ]
    }
   ],
   "source": [
    "# Question 1\n",
    "\n",
    "import numpy as np\n",
    "\n",
    "rng = np.random.default_rng()\n",
    "\n",
    "filename = 'iris.csv'\n",
    "data = np.genfromtxt(filename, delimiter=',')\n",
    "\n",
    "X = data[:, :-1]\n",
    "y = data[:, -1]\n",
    "print(f'{X.shape = }')\n",
    "print(f'{y.shape = }')"
   ]
  },
  {
   "cell_type": "code",
   "execution_count": 2,
   "id": "f6179878-d619-41f9-8856-c63ebc06750a",
   "metadata": {},
   "outputs": [
    {
     "name": "stdout",
     "output_type": "stream",
     "text": [
      "y.shape = (150, 2)\n"
     ]
    }
   ],
   "source": [
    "def one_hot_encode(y:np.ndarray, n_classes: int, true_label: int) -> np.ndarray:\n",
    "    one_hot = np.zeros((y.shape[0], n_classes))\n",
    "    one_hot[y == true_label, 0] = 1\n",
    "    one_hot[y != true_label, 1] = 1\n",
    "    return one_hot\n",
    "\n",
    "y = one_hot_encode(y, 2, 1)\n",
    "print(f'{y.shape = }')"
   ]
  },
  {
   "cell_type": "code",
   "execution_count": 3,
   "id": "b9fac7da-c01c-4870-b850-9b1927253736",
   "metadata": {},
   "outputs": [
    {
     "name": "stdout",
     "output_type": "stream",
     "text": [
      "X_train.shape = (120, 4)\n",
      "y_train.shape = (120, 2)\n",
      "X_test.shape = (30, 4)\n",
      "y_test.shape = (30, 2)\n"
     ]
    }
   ],
   "source": [
    "from sklearn.model_selection import train_test_split\n",
    "\n",
    "X_train, X_test, y_train, y_test = train_test_split(X, y, test_size=0.2)\n",
    "print(f'{X_train.shape = }')\n",
    "print(f'{y_train.shape = }')\n",
    "print(f'{X_test.shape = }')\n",
    "print(f'{y_test.shape = }')"
   ]
  },
  {
   "cell_type": "code",
   "execution_count": 4,
   "id": "7ff2fddd-ba98-40fd-a3a7-a0ec9e7d5015",
   "metadata": {},
   "outputs": [],
   "source": [
    "def batches(X, y, batch_size=24):\n",
    "    indices = np.arange(len(X))\n",
    "    rng.shuffle(indices)\n",
    "    for i in range(0, len(X), batch_size):\n",
    "        idxs = indices[i : min(i + batch_size, len(X))]\n",
    "        yield X[idxs], y[idxs]"
   ]
  },
  {
   "cell_type": "code",
   "execution_count": 5,
   "id": "b514b4dc-55f6-4206-a34d-cc800553c150",
   "metadata": {},
   "outputs": [],
   "source": [
    "def softmax(X: np.ndarray) -> np.ndarray:\n",
    "    exp = np.exp(X)\n",
    "    return  (exp.T / np.sum(exp, axis=1)).T\n",
    "\n",
    "def cross_entropy(y_true: np.ndarray, y_pred: np.ndarray) -> np.ndarray:\n",
    "    return np.mean(-y_true * np.log(y_pred))"
   ]
  },
  {
   "cell_type": "code",
   "execution_count": 6,
   "id": "82894f46-e9ea-47ae-9c4b-35673dacb9c8",
   "metadata": {},
   "outputs": [
    {
     "name": "stdout",
     "output_type": "stream",
     "text": [
      "weights.shape = (4, 2)\n",
      "Weights=\n",
      "[[ 0.01263347  0.00060994]\n",
      " [ 0.01218962  0.01459617]\n",
      " [ 0.0123392  -0.00714873]\n",
      " [ 0.00227196  0.00280176]]\n",
      "\n",
      "bias.shape = (2,)\n",
      "Bias=\n",
      "[ 0.01301666 -0.01019408]\n"
     ]
    }
   ],
   "source": [
    "weights = rng.normal(0, 0.01, (4, 2))\n",
    "bias = rng.normal(0, 0.01, (2,))\n",
    "\n",
    "print(f'{weights.shape = }')\n",
    "print(f'Weights=\\n{weights}')\n",
    "print(f'\\n{bias.shape = }')\n",
    "print(f'Bias=\\n{bias}')"
   ]
  },
  {
   "cell_type": "code",
   "execution_count": 7,
   "id": "945c0b04-a1e3-444e-99c2-c3139ad96a2c",
   "metadata": {},
   "outputs": [
    {
     "name": "stdout",
     "output_type": "stream",
     "text": [
      "epoch =  1 | error = 0.2542950872741986\n",
      "epoch =  2 | error = 0.22344480376108758\n",
      "epoch =  3 | error = 0.19907463155343877\n",
      "epoch =  4 | error = 0.18112571911266134\n",
      "epoch =  5 | error = 0.16254339537292856\n",
      "epoch =  6 | error = 0.14741612383842662\n",
      "epoch =  7 | error = 0.13550725972502994\n",
      "epoch =  8 | error = 0.1246647198968357\n",
      "epoch =  9 | error = 0.1156318763538053\n",
      "epoch = 10 | error = 0.10778419249508744\n"
     ]
    }
   ],
   "source": [
    "def predict(X: np.ndarray) -> np.ndarray:\n",
    "    return softmax(X @ weights + bias)\n",
    "\n",
    "def run_batch(X, y, lr):\n",
    "    global weights, bias\n",
    "    output = predict(X)\n",
    "    e = output - y\n",
    "    weights -= (lr / len(X)) * (X.T @ e)\n",
    "    bias -= lr\n",
    "\n",
    "def run_epoch(X, y, lr):\n",
    "    for batch in batches(X, y):\n",
    "        run_batch(*batch, lr)\n",
    "\n",
    "def train(epochs: int = 5, learning_rate: float = 0.01) -> None:\n",
    "    for epoch in range(1, epochs + 1):\n",
    "        run_epoch(X_train, y_train, learning_rate)\n",
    "        error = cross_entropy(y, predict(X))\n",
    "        print(f'{epoch = :2d} | {error = }')\n",
    "\n",
    "train(10, 0.02)"
   ]
  },
  {
   "cell_type": "code",
   "execution_count": 9,
   "id": "ebd58b85-5115-4162-8b4c-b581e5af2196",
   "metadata": {},
   "outputs": [
    {
     "name": "stdout",
     "output_type": "stream",
     "text": [
      "Weights after training\n",
      "Weights=\n",
      "[[ 0.05611547 -0.04287206]\n",
      " [ 0.20413331 -0.17734752]\n",
      " [-0.33653632  0.34172679]\n",
      " [-0.15654333  0.16161704]]\n",
      "\n",
      "Bias=\n",
      "[-0.98698334 -1.01019408]\n"
     ]
    }
   ],
   "source": [
    "print('Weights after training')\n",
    "print(f'Weights=\\n{weights}')\n",
    "print(f'\\nBias=\\n{bias}')"
   ]
  },
  {
   "cell_type": "code",
   "execution_count": 11,
   "id": "04e1b9ac-df86-45e7-8a7c-6bc07d331e7c",
   "metadata": {},
   "outputs": [
    {
     "name": "stdout",
     "output_type": "stream",
     "text": [
      "Score = 100.00%\n"
     ]
    }
   ],
   "source": [
    "def score(y_true, y_pred):\n",
    "    return 1 - np.mean(\n",
    "        np.abs(\n",
    "            np.argmax(y_true, axis=1) - np.argmax(y_pred, axis=1)\n",
    "        )\n",
    "    )\n",
    "\n",
    "s = score(y_test, predict(X_test))\n",
    "print(f'Score = {s*100:.2f}%')"
   ]
  }
 ],
 "metadata": {
  "kernelspec": {
   "display_name": "Python 3 (ipykernel)",
   "language": "python",
   "name": "python3"
  },
  "language_info": {
   "codemirror_mode": {
    "name": "ipython",
    "version": 3
   },
   "file_extension": ".py",
   "mimetype": "text/x-python",
   "name": "python",
   "nbconvert_exporter": "python",
   "pygments_lexer": "ipython3",
   "version": "3.9.6"
  }
 },
 "nbformat": 4,
 "nbformat_minor": 5
}
