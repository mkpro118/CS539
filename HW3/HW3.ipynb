{
 "cells": [
  {
   "cell_type": "code",
   "execution_count": 1,
   "id": "d6301857-6c3a-49ff-b2ae-b9bc89df0394",
   "metadata": {},
   "outputs": [],
   "source": [
    "# Setup\n",
    "\n",
    "%matplotlib inline\n",
    "from matplotlib import pyplot as plt\n",
    "import numpy as np\n",
    "\n",
    "plt.style.use('dark_background')"
   ]
  },
  {
   "cell_type": "code",
   "execution_count": 2,
   "id": "d041205f-19b3-4841-87ab-969f1659d7dc",
   "metadata": {},
   "outputs": [
    {
     "name": "stdout",
     "output_type": "stream",
     "text": [
      "X.shape = (178, 13)\n",
      "y.shape = (178,)\n"
     ]
    }
   ],
   "source": [
    "# Question 1 part (a)\n",
    "\n",
    "# Setup\n",
    "from sklearn.naive_bayes import GaussianNB\n",
    "from sklearn.metrics import confusion_matrix\n",
    "from sklearn.model_selection import train_test_split\n",
    "\n",
    "classification_rate = lambda x: np.trace(x) / np.sum(x)\n",
    "\n",
    "filename = 'wine.csv'\n",
    "\n",
    "data = np.genfromtxt(filename, delimiter=',')\n",
    "# The first element is nan for an unknown reason\n",
    "data[0, 0] = 14.23\n",
    "\n",
    "X = data[:, :-1]\n",
    "y = data[:, -1]\n",
    "\n",
    "print(f'{X.shape = }')\n",
    "print(f'{y.shape = }')"
   ]
  },
  {
   "cell_type": "code",
   "execution_count": 3,
   "id": "b2421de1-b4e0-407d-87c4-218284f7b4f1",
   "metadata": {},
   "outputs": [
    {
     "name": "stdout",
     "output_type": "stream",
     "text": [
      "X_train.shape = (142, 13)\n",
      "y_train.shape = (142,)\n",
      "X_test.shape = (36, 13)\n",
      "y_test.shape = (36,)\n"
     ]
    }
   ],
   "source": [
    "# Question 1 part (a) continued\n",
    "\n",
    "X_train, X_test, y_train, y_test = train_test_split(X, y, test_size=0.2)\n",
    "\n",
    "print(f'{X_train.shape = }')\n",
    "print(f'{y_train.shape = }')\n",
    "print(f'{X_test.shape = }')\n",
    "print(f'{y_test.shape = }')"
   ]
  },
  {
   "cell_type": "code",
   "execution_count": 4,
   "id": "0a3873f2-2142-4104-a532-66c2756c2b6d",
   "metadata": {},
   "outputs": [
    {
     "name": "stdout",
     "output_type": "stream",
     "text": [
      "Confusion Matrix =\n",
      "[[15  1  0]\n",
      " [ 0  9  0]\n",
      " [ 0  0 11]]\n",
      "Classification Rate = 0.972\n"
     ]
    }
   ],
   "source": [
    "# Question 1 part (a) continued\n",
    "model = GaussianNB()\n",
    "model.fit(X_train, y_train)\n",
    "\n",
    "y_pred = model.predict(X_test)\n",
    "\n",
    "cm = confusion_matrix(y_test, y_pred)\n",
    "correct = classification_rate(cm)\n",
    "print(f'Confusion Matrix =\\n{cm}')\n",
    "print(f'Classification Rate = {correct:.3f}')"
   ]
  },
  {
   "cell_type": "code",
   "execution_count": 5,
   "id": "8a2afbfa-8428-46c9-844a-a5a56ea9f739",
   "metadata": {},
   "outputs": [
    {
     "name": "stdout",
     "output_type": "stream",
     "text": [
      "Confusion Matrix =\n",
      "[[14  2  0]\n",
      " [ 0  9  0]\n",
      " [ 0  1 10]]\n",
      "Classification Rate = 0.917\n"
     ]
    }
   ],
   "source": [
    "# Question 1 part (b)\n",
    "\n",
    "# Setup\n",
    "from sklearn.tree import DecisionTreeClassifier\n",
    "\n",
    "\n",
    "model = DecisionTreeClassifier()\n",
    "model.fit(X_train, y_train)\n",
    "\n",
    "y_pred = model.predict(X_test)\n",
    "\n",
    "cm = confusion_matrix(y_test, y_pred)\n",
    "correct = classification_rate(cm)\n",
    "print(f'Confusion Matrix =\\n{cm}')\n",
    "print(f'Classification Rate = {correct:.3f}')"
   ]
  },
  {
   "cell_type": "code",
   "execution_count": 6,
   "id": "5f73caaa-a4bf-4512-98e4-b5cbba9b7334",
   "metadata": {},
   "outputs": [
    {
     "name": "stdout",
     "output_type": "stream",
     "text": [
      "X_train.shape = (40, 1)\n",
      "y_train.shape = (40,)\n",
      "X_test.shape = (40, 1)\n",
      "y_test.shape = (40,)\n"
     ]
    }
   ],
   "source": [
    "# Question 2 part (a)\n",
    "\n",
    "# Setup\n",
    "from sklearn.linear_model import LinearRegression\n",
    "from sklearn.preprocessing import PolynomialFeatures\n",
    "\n",
    "filename = 'reg_train.csv'\n",
    "data = np.genfromtxt(filename, delimiter=',')\n",
    "X_train = data[:, 0:1]\n",
    "y_train = data[:, -1]\n",
    "\n",
    "filename = 'reg_train.csv'\n",
    "data = np.genfromtxt(filename, delimiter=',')\n",
    "X_test = data[:, 0:1]\n",
    "y_test = data[:, -1]\n",
    "\n",
    "def get_pf(n: int) -> PolynomialFeatures:\n",
    "    return PolynomialFeatures(degree=n, include_bias=False)\n",
    "\n",
    "print(f'{X_train.shape = }')\n",
    "print(f'{y_train.shape = }')\n",
    "print(f'{X_test.shape = }')\n",
    "print(f'{y_test.shape = }')"
   ]
  },
  {
   "cell_type": "code",
   "execution_count": 7,
   "id": "37f6d3c1-c02f-4bd6-8032-ce2d930ced9e",
   "metadata": {},
   "outputs": [
    {
     "name": "stdout",
     "output_type": "stream",
     "text": [
      "Best Accuracy achieved: 0.803 at degree 10\n"
     ]
    }
   ],
   "source": [
    "# Question 2 part (a) continued\n",
    "\n",
    "scores = []\n",
    "\n",
    "for i in range(2, 11):\n",
    "    pf = get_pf(i)\n",
    "    X = pf.fit_transform(X_train)\n",
    "    _X = pf.transform(X_test)\n",
    "    model = LinearRegression()\n",
    "    model.fit(X, y_train)\n",
    "    acc = model.score(_X, y_test)\n",
    "    scores.append((i, acc))\n",
    "\n",
    "deg, best = max(scores, key=lambda x: x[1])\n",
    "print(f'Best Accuracy achieved: {best:.3f} at degree {deg}')"
   ]
  },
  {
   "cell_type": "code",
   "execution_count": 8,
   "id": "ffa850ad-9005-402b-b5a9-240ba4ccbd44",
   "metadata": {},
   "outputs": [
    {
     "data": {
      "image/png": "[encoded data removed]",
      "text/plain": [
       "<Figure size 864x576 with 1 Axes>"
      ]
     },
     "metadata": {},
     "output_type": "display_data"
    }
   ],
   "source": [
    "# Question 2 part (a) continued\n",
    "\n",
    "fig, ax = plt.subplots(1, 1, figsize=(12, 8))\n",
    "\n",
    "pf = get_pf(deg)\n",
    "train_polynomial = pf.fit_transform(X_train)\n",
    "test_polynomial = pf.transform(X_test)\n",
    "\n",
    "model = LinearRegression()\n",
    "model.fit(train_polynomial, y_train)\n",
    "\n",
    "y_pred = model.predict(test_polynomial)\n",
    "\n",
    "indices = np.argsort(X_test.flatten())\n",
    "test_polynomial = X_test[indices]\n",
    "y_pred = y_pred[indices]\n",
    "\n",
    "ax.scatter(X_test, y_test, c='royalblue')\n",
    "ax.plot(test_polynomial, y_pred, c='hotpink', linewidth=3)\n",
    "\n",
    "plt.show()"
   ]
  },
  {
   "cell_type": "code",
   "execution_count": 9,
   "id": "db0c4ab3-8451-4a51-ad0b-68b242a73dd5",
   "metadata": {},
   "outputs": [
    {
     "name": "stdout",
     "output_type": "stream",
     "text": [
      "R2 Value = 0.661\n"
     ]
    }
   ],
   "source": [
    "# Question 2 part (b)\n",
    "\n",
    "model = LinearRegression()\n",
    "model.fit(X_train, y_train)\n",
    "\n",
    "r2_value = model.score(X_test, y_test)\n",
    "\n",
    "print(f'R2 Value = {r2_value:.3f}')"
   ]
  },
  {
   "cell_type": "code",
   "execution_count": 10,
   "id": "b2d161a8-446c-4fef-b470-926835272d4a",
   "metadata": {},
   "outputs": [
    {
     "name": "stdout",
     "output_type": "stream",
     "text": [
      "X.shape = (137, 4)\n",
      "y.shape = (137,)\n"
     ]
    }
   ],
   "source": [
    "# Question 3\n",
    "\n",
    "# Setup\n",
    "from sklearn.linear_model import LogisticRegression\n",
    "\n",
    "filename = 'RE_LR_data.csv'\n",
    "data = np.genfromtxt(filename, delimiter=',')\n",
    "\n",
    "X = data[:, 2:-1]\n",
    "X = np.hstack((X,) * 2)\n",
    "y = data[:, -1]\n",
    "\n",
    "print(f'{X.shape = }')\n",
    "print(f'{y.shape = }')"
   ]
  },
  {
   "cell_type": "code",
   "execution_count": 11,
   "id": "0b61c45a-4476-461c-b5d3-7ec974656a6b",
   "metadata": {},
   "outputs": [
    {
     "data": {
      "image/png": "[encoded data removed]",
      "text/plain": [
       "<Figure size 864x576 with 1 Axes>"
      ]
     },
     "metadata": {},
     "output_type": "display_data"
    }
   ],
   "source": [
    "# Question 3 continued\n",
    "\n",
    "model = LogisticRegression()\n",
    "model.fit(X, y)\n",
    "\n",
    "coefs = model.coef_\n",
    "xa = np.sum(X * coefs, axis=1)\n",
    "indices = np.argsort(xa.flatten())\n",
    "xa = xa[indices]\n",
    "Y = y[indices]\n",
    "\n",
    "y_pred = model.predict_proba(X)[:, 1]\n",
    "y_pred = y_pred[indices]\n",
    "\n",
    "fig, ax = plt.subplots(1, 1, figsize=(12, 8))\n",
    "ax.scatter(xa, Y, c='royalblue')\n",
    "ax.plot(xa, y_pred, c='hotpink', linewidth=3)\n",
    "\n",
    "plt.show()"
   ]
  }
 ],
 "metadata": {
  "kernelspec": {
   "display_name": "Python 3 (ipykernel)",
   "language": "python",
   "name": "python3"
  },
  "language_info": {
   "codemirror_mode": {
    "name": "ipython",
    "version": 3
   },
   "file_extension": ".py",
   "mimetype": "text/x-python",
   "name": "python",
   "nbconvert_exporter": "python",
   "pygments_lexer": "ipython3",
   "version": "3.9.6"
  }
 },
 "nbformat": 4,
 "nbformat_minor": 5
}
