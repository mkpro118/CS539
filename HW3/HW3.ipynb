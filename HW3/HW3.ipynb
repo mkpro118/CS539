{
 "cells": [
  {
   "cell_type": "code",
   "execution_count": 1,
   "id": "d6301857-6c3a-49ff-b2ae-b9bc89df0394",
   "metadata": {},
   "outputs": [],
   "source": [
    "# Setup\n",
    "\n",
    "%matplotlib inline\n",
    "from matplotlib import pyplot as plt\n",
    "from sklearn.model_selection import train_test_split\n",
    "import numpy as np\n",
    "\n",
    "plt.style.use('dark_background')"
   ]
  },
  {
   "cell_type": "code",
   "execution_count": 2,
   "id": "d041205f-19b3-4841-87ab-969f1659d7dc",
   "metadata": {},
   "outputs": [
    {
     "name": "stdout",
     "output_type": "stream",
     "text": [
      "X.shape = (178, 13)\n",
      "y.shape = (178,)\n"
     ]
    }
   ],
   "source": [
    "# Question 1 part (a)\n",
    "\n",
    "# Setup\n",
    "from sklearn.naive_bayes import GaussianNB\n",
    "from sklearn.metrics import confusion_matrix\n",
    "\n",
    "classification_rate = lambda x: np.trace(x) / np.sum(x)\n",
    "\n",
    "filename = 'wine.csv'\n",
    "\n",
    "data = np.genfromtxt(filename, delimiter=',')\n",
    "# The first element is nan for an unknown reason\n",
    "data[0, 0] = 14.23\n",
    "\n",
    "X = data[:, :-1]\n",
    "y = data[:, -1]\n",
    "\n",
    "print(f'{X.shape = }')\n",
    "print(f'{y.shape = }')"
   ]
  },
  {
   "cell_type": "code",
   "execution_count": 3,
   "id": "b2421de1-b4e0-407d-87c4-218284f7b4f1",
   "metadata": {},
   "outputs": [
    {
     "name": "stdout",
     "output_type": "stream",
     "text": [
      "X_train.shape = (142, 13)\n",
      "y_train.shape = (142,)\n",
      "X_test.shape = (36, 13)\n",
      "y_test.shape = (36,)\n"
     ]
    }
   ],
   "source": [
    "# Question 1 part (a) continued\n",
    "\n",
    "X_train, X_test, y_train, y_test = train_test_split(X, y, test_size=0.2)\n",
    "\n",
    "print(f'{X_train.shape = }')\n",
    "print(f'{y_train.shape = }')\n",
    "print(f'{X_test.shape = }')\n",
    "print(f'{y_test.shape = }')"
   ]
  },
  {
   "cell_type": "code",
   "execution_count": 6,
   "id": "0a3873f2-2142-4104-a532-66c2756c2b6d",
   "metadata": {},
   "outputs": [
    {
     "name": "stdout",
     "output_type": "stream",
     "text": [
      "Confusion Matrix =\n",
      "[[13  0  0]\n",
      " [ 0  9  0]\n",
      " [ 0  0 14]]\n",
      "Classification Rate = 1.000\n"
     ]
    }
   ],
   "source": [
    "# Question 1 part (a) continued\n",
    "model = GaussianNB()\n",
    "model.fit(X_train, y_train)\n",
    "\n",
    "y_pred = model.predict(X_test)\n",
    "\n",
    "cm = confusion_matrix(y_test, y_pred)\n",
    "correct = classification_rate(cm)\n",
    "print(f'Confusion Matrix =\\n{cm}')\n",
    "print(f'Classification Rate = {correct:.3f}')"
   ]
  },
  {
   "cell_type": "code",
   "execution_count": null,
   "id": "8a2afbfa-8428-46c9-844a-a5a56ea9f739",
   "metadata": {},
   "outputs": [],
   "source": [
    "# Question 1 part (b)\n",
    "\n",
    "# Setup\n",
    "from sklearn.tree import DecisionTreeClassifier\n",
    "\n",
    "\n",
    "model = DecisionTreeClassifier()\n",
    "model.fit(X_train, y_train)\n",
    "\n",
    "y_pred = model.predict(X_test)\n",
    "\n",
    "cm = confusion_matrix(y_test, y_pred)\n",
    "correct = classification_rate(cm)\n",
    "print(f'Confusion Matrix =\\n{cm}')\n",
    "print(f'Classification Rate = {correct:.3f}')"
   ]
  }
 ],
 "metadata": {
  "kernelspec": {
   "display_name": "Python 3 (ipykernel)",
   "language": "python",
   "name": "python3"
  },
  "language_info": {
   "codemirror_mode": {
    "name": "ipython",
    "version": 3
   },
   "file_extension": ".py",
   "mimetype": "text/x-python",
   "name": "python",
   "nbconvert_exporter": "python",
   "pygments_lexer": "ipython3",
   "version": "3.9.6"
  }
 },
 "nbformat": 4,
 "nbformat_minor": 5
}
