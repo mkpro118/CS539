{
 "cells": [
  {
   "cell_type": "code",
   "execution_count": 1,
   "id": "584e8859-37e7-4546-8455-69935ac16474",
   "metadata": {},
   "outputs": [
    {
     "name": "stdout",
     "output_type": "stream",
     "text": [
      "X.shape = (3, 2)\n",
      "y.shape = (3, 1)\n",
      "w1.shape = (2, 3)\n",
      "w2.shape = (3, 1)\n"
     ]
    }
   ],
   "source": [
    "# Question 1\n",
    "\n",
    "# Setup\n",
    "import numpy as np\n",
    "\n",
    "X = np.array([[1, 2, 3,], [2, -1, 0,],]).T\n",
    "y = np.array([[0, 1, 0,],]).T\n",
    "w1 = np.array([[1, 2, 0,], [-1, 0, 3,],]) / 10\n",
    "w2 = np.array([[5e-2, -1e-1, 2e-1,],]).T\n",
    "\n",
    "print(f'{X.shape = }')\n",
    "print(f'{y.shape = }')\n",
    "print(f'{w1.shape = }')\n",
    "print(f'{w2.shape = }')"
   ]
  },
  {
   "cell_type": "code",
   "execution_count": 2,
   "id": "35cc612b-7119-4931-9bc4-3864aa0b702d",
   "metadata": {},
   "outputs": [],
   "source": [
    "def square_loss(y_true: np.ndarray, y_pred: np.ndarray) -> float:\n",
    "    return np.mean((y_true - y_pred) ** 2)\n",
    "\n",
    "def sigmoid(X: np.ndarray) -> np.ndarray:\n",
    "    return (np.exp(-X) + 1) ** -1"
   ]
  },
  {
   "cell_type": "code",
   "execution_count": 3,
   "id": "93929b77-30ab-4fb9-b32e-f0174a808cf7",
   "metadata": {},
   "outputs": [
    {
     "name": "stdout",
     "output_type": "stream",
     "text": [
      "U1\n",
      "[[-0.1  0.2  0.6]\n",
      " [ 0.3  0.4 -0.3]\n",
      " [ 0.3  0.6  0. ]]\n"
     ]
    }
   ],
   "source": [
    "U1 = np.around(X @ w1, 3)\n",
    "print(f'U1\\n{U1}')"
   ]
  },
  {
   "cell_type": "code",
   "execution_count": 4,
   "id": "f80f6d31-9074-41f6-a2ee-121fc4cee038",
   "metadata": {},
   "outputs": [
    {
     "name": "stdout",
     "output_type": "stream",
     "text": [
      "Z1\n",
      "[[0.475 0.55  0.646]\n",
      " [0.574 0.599 0.426]\n",
      " [0.574 0.646 0.5  ]]\n"
     ]
    }
   ],
   "source": [
    "Z1 = np.around(sigmoid(U1), 3)\n",
    "print(f'Z1\\n{Z1}')"
   ]
  },
  {
   "cell_type": "code",
   "execution_count": 5,
   "id": "9888c6a9-7c5e-422d-a028-9ff18f971945",
   "metadata": {},
   "outputs": [
    {
     "name": "stdout",
     "output_type": "stream",
     "text": [
      "U2:\n",
      "[[0.098]\n",
      " [0.054]\n",
      " [0.064]]\n"
     ]
    }
   ],
   "source": [
    "U2 = np.around(Z1 @ w2, 3)\n",
    "print(f'U2:\\n{U2}')"
   ]
  },
  {
   "cell_type": "code",
   "execution_count": 6,
   "id": "7cd56b77-16cd-42ea-8c6d-5f0ca2e9f225",
   "metadata": {},
   "outputs": [
    {
     "name": "stdout",
     "output_type": "stream",
     "text": [
      "Z2:\n",
      "[[0.524]\n",
      " [0.513]\n",
      " [0.516]]\n"
     ]
    }
   ],
   "source": [
    "Z2 = np.around(sigmoid(U2), 3)\n",
    "print(f'Z2:\\n{Z2}')"
   ]
  },
  {
   "cell_type": "code",
   "execution_count": 7,
   "id": "b5cdac12-e9c7-4361-85c2-80f4582d24a5",
   "metadata": {},
   "outputs": [
    {
     "name": "stdout",
     "output_type": "stream",
     "text": [
      "Delta layer 2\n",
      "[[ 0.131]\n",
      " [-0.122]\n",
      " [ 0.129]]\n"
     ]
    }
   ],
   "source": [
    "delta_l2 = np.around(Z2 * (1-Z2) * (Z2 - y), 3)\n",
    "print(f'Delta layer 2\\n{delta_l2}')"
   ]
  },
  {
   "cell_type": "code",
   "execution_count": 8,
   "id": "76b1c41e-a009-4d95-8c25-1c499466ad22",
   "metadata": {},
   "outputs": [
    {
     "name": "stdout",
     "output_type": "stream",
     "text": [
      "Delta layer 1\n",
      "[[ 0.007 -0.013  0.026]\n",
      " [-0.006  0.012 -0.024]\n",
      " [ 0.006 -0.013  0.026]]\n"
     ]
    }
   ],
   "source": [
    "delta_l1 = np.around(delta_l2 @ w2.T, 3)\n",
    "print(f'Delta layer 1\\n{delta_l1}')"
   ]
  },
  {
   "cell_type": "code",
   "execution_count": 9,
   "id": "f4668ec0-2d12-48f6-8477-fd3dfde33f2b",
   "metadata": {},
   "outputs": [
    {
     "name": "stdout",
     "output_type": "stream",
     "text": [
      "Layer 2 weight gradient\n",
      "[[0.066]\n",
      " [0.082]\n",
      " [0.097]]\n"
     ]
    }
   ],
   "source": [
    "dw2 = np.around(Z1.T @ delta_l2, 3)\n",
    "print(f'Layer 2 weight gradient\\n{dw2}')"
   ]
  },
  {
   "cell_type": "code",
   "execution_count": 10,
   "id": "020396bc-bb6b-4ab7-959b-25610270e3f2",
   "metadata": {},
   "outputs": [
    {
     "name": "stdout",
     "output_type": "stream",
     "text": [
      "Layer 1 weight gradient\n",
      "[[ 0.013 -0.028  0.056]\n",
      " [ 0.02  -0.038  0.076]]\n"
     ]
    }
   ],
   "source": [
    "dw1 = np.around(X.T @ delta_l1, 3)\n",
    "print(f'Layer 1 weight gradient\\n{dw1}')"
   ]
  }
 ],
 "metadata": {
  "kernelspec": {
   "display_name": "Python 3 (ipykernel)",
   "language": "python",
   "name": "python3"
  },
  "language_info": {
   "codemirror_mode": {
    "name": "ipython",
    "version": 3
   },
   "file_extension": ".py",
   "mimetype": "text/x-python",
   "name": "python",
   "nbconvert_exporter": "python",
   "pygments_lexer": "ipython3",
   "version": "3.9.6"
  }
 },
 "nbformat": 4,
 "nbformat_minor": 5
}
