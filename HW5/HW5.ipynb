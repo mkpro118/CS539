{
  "cells": [
    {
      "cell_type": "markdown",
      "id": "79c93143-ad2e-428f-9f70-677a240329f0",
      "metadata": {
        "id": "79c93143-ad2e-428f-9f70-677a240329f0"
      },
      "source": [
        "# Question 1\n",
        "\n",
        "## Part (a)\n",
        "<div style=\"font-size:16px\">\n",
        "Given,<br>\n",
        "$\\begin{bmatrix}w_{1} \\\\ w_{2}\\end{bmatrix} = \\displaystyle \\frac{-w_0}{ad-bc}\\begin{bmatrix}d-b \\\\ a-c\\end{bmatrix}$<br>\n",
        "<br>\n",
        "Points on Line $L_{1}$ are $A:\\left(5, 8\\right)$ and $C:\\left(3, 5\\right)$<br>\n",
        "Using the two point form of a line,<br>\n",
        "$\\left(x_{2} - 8\\right) = \\displaystyle \\left(\\frac{8-5}{5-3}\\right) \\cdot \\left(x_{1} - 5\\right)$<br>\n",
        "$x_{2} - 8 = \\displaystyle \\frac{3}{2} \\cdot\\left(x_{1} - 5\\right)$<br>\n",
        "$2x_{2} - 16 = 3(x_{1} - 5)$<br>\n",
        "$L_{1}: 11 + 3x_{1} - 2x_{2} = 0$<br>\n",
        "<br>\n",
        "Similarly,<br>\n",
        "$L_{2}: -28 + 4x_{1} + x_{2} = 0$<br>\n",
        "$L_{3}: -18 + x_{1} + 3x_{2} = 0$\n",
        "</div>"
      ]
    },
    {
      "cell_type": "markdown",
      "id": "0bd311b6-01e1-451f-aaea-0a5f457bf77a",
      "metadata": {
        "id": "0bd311b6-01e1-451f-aaea-0a5f457bf77a"
      },
      "source": [
        "## Part (b)\n",
        "<div style=\"font-size:16px;\">\n",
        "$g_{1}(x_{1}, x_{2}) = 11 + 3x_{1} - 2x_{2}$<br>\n",
        "$g_{2}(x_{1}, x_{2}) = -28 + 4x_{1} + x_{2}$<br>\n",
        "$g_{3}(x_{1}, x_{2}) = -18 + x_{1} + 3x_{2}$<br>\n",
        "<br>\n",
        "Pluggin in Point $B$ in $g_{1}$ for $L_{1}$<br>\n",
        "$g_{1}(6, 4) = 21$<br>\n",
        "Required half plane is $g_1(x_{1}, x{2}) \\gt 0$<br>\n",
        "<br>\n",
        "Pluggin in Point $C$ in $g_{2}$ for $L_{2}$<br>\n",
        "$g_{2}(3, 5) = -11$<br>\n",
        "Required half plane is $g_2(x_{1}, x{2}) \\lt 0$<br>\n",
        "<br>\n",
        "Pluggin in Point $A$ in $g_{3}$ for $L_{3}$<br>\n",
        "$g_{3}(5, 8) = 11$<br>\n",
        "Required half plane is $g_3(x_{1}, x{2}) \\gt 0$<br>\n",
        "</div>"
      ]
    },
    {
      "cell_type": "markdown",
      "id": "46abf2a5-075f-4852-a60e-44660eff02ab",
      "metadata": {
        "id": "46abf2a5-075f-4852-a60e-44660eff02ab"
      },
      "source": [
        "## Part (c)\n",
        "\n",
        "<div style=\"font-size:16px\">\n",
        "We know that output should be 1 only if the input to the final layer is $X = \\begin{bmatrix}1 \\\\ 0 \\\\ 1\\end{bmatrix}$<br>\n",
        "Let $w^{T} = \\begin{bmatrix}w_{1} & w_{2} & w_{3}\\end{bmatrix}$, then<br>\n",
        "$w^{T}X + b > O$, if $X = \\begin{bmatrix}1 \\\\ 0 \\\\ 1\\end{bmatrix}$<br>\n",
        "$\\Rightarrow w_{1} + w_{3} + b \\gt 0$<br>\n",
        "\n",
        "But,<br>\n",
        "$w_{1} + w_{2} + b \\lt 0$<br>\n",
        "$w_{2} + w_{3} + b \\lt 0$<br>\n",
        "$w_{1} + b \\lt 0$<br>\n",
        "$w_{2} + b \\lt 0$<br>\n",
        "$w_{3} + b \\lt 0$<br>\n",
        "\n",
        "Any $X = \\begin{bmatrix}w_{1} \\\\ w_{2} \\\\ w_{3}\\end{bmatrix}$ that satisfies all above inequalities can achieve this MLP\n",
        "</div>\n",
        "\n",
        "<img src=\"./img.jpg\" width=\"500px\" height=\"500px\">"
      ]
    },
    {
      "cell_type": "markdown",
      "id": "01690472-ad5c-49ea-95ec-5c07072692af",
      "metadata": {
        "id": "01690472-ad5c-49ea-95ec-5c07072692af"
      },
      "source": [
        "# Question 2\n",
        "\n",
        "## Part (a)\n",
        "\n",
        "<div style=\"font-size:16px\">\n",
        "Softmax, $Z_{j} = \\displaystyle \\frac{\\displaystyle e^{X_{j}}}{\\displaystyle \\sum_{i=1}^{N} \\displaystyle e^{X_{i}}}$<br>\n",
        "<br>\n",
        "$\\text{Softmax}\\left(\\begin{bmatrix}3 & -2 & 1\\end{bmatrix}\\right) = \\begin{bmatrix}\\displaystyle \\frac{e^{3}}{e^{3} + e^{-2} + e^{1}} & \\displaystyle \\frac{e^{-2}}{e^{3} + e^{-2} + e^{1}} & \\displaystyle \\frac{e^{1}}{e^{3} + e^{-2} + e^{1}}\\end{bmatrix}$<br>\n",
        "$\\text{Softmax}\\left(\\begin{bmatrix}3 & -2 & 1\\end{bmatrix}\\right) = \\begin{bmatrix}0.876 & 0.006 & 0.118\\end{bmatrix}$<br>\n",
        "</div>"
      ]
    },
    {
      "cell_type": "code",
      "execution_count": 1,
      "id": "2214845c-6976-4d70-b09d-20bc0dbb1ee8",
      "metadata": {
        "colab": {
          "base_uri": "https://localhost:8080/"
        },
        "id": "2214845c-6976-4d70-b09d-20bc0dbb1ee8",
        "outputId": "f426d752-c05f-4010-cd7c-c24748ecf957"
      },
      "outputs": [
        {
          "output_type": "stream",
          "name": "stdout",
          "text": [
            "Z = [0.876 0.006 0.118]\n"
          ]
        }
      ],
      "source": [
        "import numpy as np\n",
        "def softmax(X: np.ndarray) -> np.ndarray:\n",
        "    exp = np.exp(X)\n",
        "    return  (exp / np.sum(exp))\n",
        "\n",
        "Z = np.around(softmax(np.array([3, -2, 1])), 3)\n",
        "print(f'Z = {Z}')"
      ]
    },
    {
      "cell_type": "markdown",
      "id": "a6139f4e-1377-4690-bf65-16692e6373e1",
      "metadata": {
        "id": "a6139f4e-1377-4690-bf65-16692e6373e1"
      },
      "source": [
        "## Part (b)\n",
        "\n",
        "<div style=\"font-size:16px\">\n",
        "$J = \\begin{bmatrix}Z_{1}\\cdot \\left(1-Z_{1}\\right) && -Z_{1} \\cdot Z_{2} && -Z_{1} \\cdot Z_{3} \\\\-Z_{2} \\cdot Z_{1} && Z_{2}\\cdot \\left(1-Z_{2}\\right) && -Z_{2} \\cdot Z_{3} \\\\-Z_{3} \\cdot Z_{1} && -Z_{3} \\cdot Z_{2} && Z_{3}\\cdot \\left(1-Z_{3}\\right) \\\\\\end{bmatrix}$<br><br>\n",
        "$J = \\begin{bmatrix}0.109 && -0.005 && 0.103 \\\\-0.005 && 0.006 && -0.001 \\\\-0.103 && -0.001 && 0.104 \\\\\\end{bmatrix}$\n",
        "</div>"
      ]
    },
    {
      "cell_type": "code",
      "execution_count": 2,
      "id": "06e67ae4-df4a-47ce-9b17-46f83ded1b7b",
      "metadata": {
        "colab": {
          "base_uri": "https://localhost:8080/"
        },
        "id": "06e67ae4-df4a-47ce-9b17-46f83ded1b7b",
        "outputId": "2b2dc179-19ea-4fbe-bedf-ab8ae985bdaf"
      },
      "outputs": [
        {
          "output_type": "stream",
          "name": "stdout",
          "text": [
            "Z1 * (1 - Z1) = 0.109\n",
            "-Z1 * Z2 = -0.005\n",
            "-Z1 * Z3 = -0.103\n",
            "-Z2 * Z1 = -0.005\n",
            "Z2 * (1 - Z2) = 0.006\n",
            "-Z2 * Z3 = -0.001\n",
            "-Z3 * Z1 = -0.103\n",
            "-Z3 * Z2 = -0.001\n",
            "Z3 * (1 - Z3) = 0.104\n"
          ]
        }
      ],
      "source": [
        "for index1, value1 in enumerate(Z, 1):\n",
        "    for index2, value2 in enumerate(Z, 1):\n",
        "        if index1 == index2:\n",
        "            print(f'Z{index1} * (1 - Z{index2}) = {np.around(value1 * (1 - value2), 3)}')\n",
        "        else:\n",
        "            print(f'-Z{index1} * Z{index2} = {np.around(-value1 * value2, 3)}')"
      ]
    },
    {
      "cell_type": "markdown",
      "id": "9002f11a-8574-44bd-aa73-1d15479fb5fe",
      "metadata": {
        "id": "9002f11a-8574-44bd-aa73-1d15479fb5fe"
      },
      "source": [
        "## Part (c)\n",
        "<div style=\"font-size:16px\">\n",
        "Cross Entropy, $L = - \\displaystyle \\sum_{i=1}^{K}y_{i} \\cdot \\log_{2}\\left(\\hat y \\right)$<br>\n",
        "$\\text{Cross Entropy}\\left(\\begin{bmatrix}0.876& 0.006 & 0.118\\end{bmatrix}\\right) = - \\left(0 \\cdot \\log_{2}(0.876) + 0 \\cdot \\log_{2}(0.006) + 1 \\cdot \\log_{2}(0.118)\\right)$<br>\n",
        "$\\text{Cross Entropy}\\left(\\begin{bmatrix}0.876& 0.006 & 0.118\\end{bmatrix}\\right) = -\\left(−3.083\\right) = 3.083$\n",
        "</div>"
      ]
    },
    {
      "cell_type": "code",
      "execution_count": 3,
      "id": "1dcba61a-815f-4537-9afc-e78fe241e072",
      "metadata": {
        "colab": {
          "base_uri": "https://localhost:8080/"
        },
        "id": "1dcba61a-815f-4537-9afc-e78fe241e072",
        "outputId": "7969d713-30ec-49af-d6b9-0f07d3f04d6e"
      },
      "outputs": [
        {
          "output_type": "stream",
          "name": "stdout",
          "text": [
            "loss = 3.083\n"
          ]
        }
      ],
      "source": [
        "def cross_entropy(y_true: np.ndarray, y_pred: np.ndarray) -> np.ndarray:\n",
        "    return np.sum(-y_true * np.log2(y_pred))\n",
        "\n",
        "loss = cross_entropy(np.array([0, 0, 1]), np.array([0.876, 0.006, 0.118]))\n",
        "loss = np.around(loss, 3)\n",
        "print(f'loss = {loss}')"
      ]
    },
    {
      "cell_type": "code",
      "execution_count": 4,
      "id": "26256ccc-4768-4834-837e-b4f20a2d1035",
      "metadata": {
        "colab": {
          "base_uri": "https://localhost:8080/"
        },
        "id": "26256ccc-4768-4834-837e-b4f20a2d1035",
        "outputId": "154a907a-a8eb-4f28-a265-883ba8fc6625"
      },
      "outputs": [
        {
          "output_type": "stream",
          "name": "stdout",
          "text": [
            "X.shape = (4897, 11)\n",
            "y.shape = (4897,)\n"
          ]
        }
      ],
      "source": [
        "# Setup for questions 3 and 4\n",
        "\n",
        "from sklearn.model_selection import train_test_split, KFold\n",
        "\n",
        "filename = 'winequality-white.csv'\n",
        "data = np.genfromtxt(filename, delimiter=',')[1:]\n",
        "X = (data[1:, :-1]).astype(float)\n",
        "y = (data[1:, -1]).astype(int)\n",
        "\n",
        "print(f'X.shape = {X.shape}')\n",
        "print(f'y.shape = {y.shape}')"
      ]
    },
    {
      "cell_type": "code",
      "execution_count": 5,
      "id": "af3544c7-4240-4f50-b800-ded0924febdf",
      "metadata": {
        "colab": {
          "base_uri": "https://localhost:8080/"
        },
        "id": "af3544c7-4240-4f50-b800-ded0924febdf",
        "outputId": "6ee27156-42c8-4eac-e1d1-75ab0450366d"
      },
      "outputs": [
        {
          "output_type": "stream",
          "name": "stdout",
          "text": [
            "X_train.shape = (3917, 11)\n",
            "y_train.shape = (3917,)\n",
            "X_test.shape = (980, 11)\n",
            "y_test.shape = (980,)\n"
          ]
        }
      ],
      "source": [
        "# Setup continued, Train-Test split\n",
        "\n",
        "X_train, X_test, y_train, y_test = train_test_split(X, y, test_size=0.2)\n",
        "print(f'X_train.shape = {X_train.shape}')\n",
        "print(f'y_train.shape = {y_train.shape}')\n",
        "print(f'X_test.shape = {X_test.shape}')\n",
        "print(f'y_test.shape = {y_test.shape}')"
      ]
    },
    {
      "cell_type": "code",
      "execution_count": 6,
      "id": "eb2374d3-7070-43a3-9fff-aff0e9d9a404",
      "metadata": {
        "colab": {
          "base_uri": "https://localhost:8080/"
        },
        "id": "eb2374d3-7070-43a3-9fff-aff0e9d9a404",
        "outputId": "52f89629-9600-4c5e-8cbe-a550d8b46f1a"
      },
      "outputs": [
        {
          "output_type": "stream",
          "name": "stdout",
          "text": [
            "y_train.shape = (3917, 7)\n",
            "y_test.shape = (980, 7)\n"
          ]
        }
      ],
      "source": [
        "# Setup continued, One hot encoding\n",
        "\n",
        "import tensorflow as tf\n",
        "from tensorflow import keras\n",
        "\n",
        "y_train = keras.utils.to_categorical(y_train-3)\n",
        "y_test = keras.utils.to_categorical(y_test-3)\n",
        "\n",
        "print(f'y_train.shape = {y_train.shape}')\n",
        "print(f'y_test.shape = {y_test.shape}')"
      ]
    },
    {
      "cell_type": "code",
      "execution_count": 7,
      "id": "4d96bf15-391b-4751-addd-28e029fb168e",
      "metadata": {
        "id": "4d96bf15-391b-4751-addd-28e029fb168e"
      },
      "outputs": [],
      "source": [
        "# Setup continued, K-Fold Validation splits\n",
        "# Will use the same splits for Question 3 and 4\n",
        "\n",
        "splits = KFold(n_splits=4).split(X_train, y_train)\n",
        "splits = tuple(splits)"
      ]
    },
    {
      "cell_type": "code",
      "source": [
        "# Question 3\n",
        "\n",
        "for index, (training, validating) in enumerate(splits, 1):\n",
        "    print(f'split {index}\\n')\n",
        "    net = tf.keras.models.Sequential([\n",
        "        tf.keras.layers.Dense(8, input_dim=11, activation = 'relu'),\n",
        "        tf.keras.layers.Dense(7, activation='softmax')])\n",
        "    \n",
        "    net.compile(loss='categorical_crossentropy', optimizer='sgd', metrics=['accuracy'])\n",
        "\n",
        "    net.fit(X_train, y_train, epochs=150, batch_size=256, verbose=0)\n",
        "    score = net.evaluate(X_test, y_test, verbose=0)\n",
        "    print(f'Test loss:{score[0]:.3f}')\n",
        "    print(f'Test accuracy: {score[1] * 100:.3f}%')\n",
        "    print('-' * 100)"
      ],
      "metadata": {
        "colab": {
          "base_uri": "https://localhost:8080/"
        },
        "id": "QG9FjLR9dxq5",
        "outputId": "2b869620-a68d-4308-b4cb-15accc4a8d4b"
      },
      "id": "QG9FjLR9dxq5",
      "execution_count": 8,
      "outputs": [
        {
          "output_type": "stream",
          "name": "stdout",
          "text": [
            "split 1\n",
            "\n",
            "Test loss:1.365\n",
            "Test accuracy: 43.061%\n",
            "----------------------------------------------------------------------------------------------------\n",
            "split 2\n",
            "\n",
            "Test loss:1.366\n",
            "Test accuracy: 43.061%\n",
            "----------------------------------------------------------------------------------------------------\n",
            "split 3\n",
            "\n",
            "Test loss:1.366\n",
            "Test accuracy: 43.061%\n",
            "----------------------------------------------------------------------------------------------------\n",
            "split 4\n",
            "\n",
            "Test loss:1.366\n",
            "Test accuracy: 43.061%\n",
            "----------------------------------------------------------------------------------------------------\n"
          ]
        }
      ]
    },
    {
      "cell_type": "code",
      "source": [
        "# Question 4\n",
        "\n",
        "for index, (training, validating) in enumerate(splits, 1):\n",
        "    print(f'split {index}\\n')\n",
        "    net = tf.keras.models.Sequential([\n",
        "        tf.keras.layers.Dense(10, input_dim=11, activation = 'relu'),\n",
        "        tf.keras.layers.Dense(10, activation = 'relu'),\n",
        "        tf.keras.layers.Dense(10, activation = 'relu'),\n",
        "        tf.keras.layers.Dense(7, activation='softmax')])\n",
        "    \n",
        "    net.compile(loss='categorical_crossentropy', optimizer='sgd', metrics=['accuracy'])\n",
        "\n",
        "    net.fit(X_train, y_train, epochs=150, batch_size=256, verbose=0)\n",
        "    score = net.evaluate(X_test, y_test, verbose=0)\n",
        "    print(f'Test loss:{score[0]:.3f}')\n",
        "    print(f'Test accuracy: {score[1] * 100:.3f}%')\n",
        "    print('-' * 100)"
      ],
      "metadata": {
        "colab": {
          "base_uri": "https://localhost:8080/"
        },
        "id": "2YBiJM3Gfrid",
        "outputId": "8d44f951-bb32-4b01-dc48-78d08587b102"
      },
      "id": "2YBiJM3Gfrid",
      "execution_count": 9,
      "outputs": [
        {
          "output_type": "stream",
          "name": "stdout",
          "text": [
            "split 1\n",
            "\n",
            "Test loss:1.353\n",
            "Test accuracy: 43.061%\n",
            "----------------------------------------------------------------------------------------------------\n",
            "split 2\n",
            "\n",
            "Test loss:1.331\n",
            "Test accuracy: 43.061%\n",
            "----------------------------------------------------------------------------------------------------\n",
            "split 3\n",
            "\n",
            "Test loss:1.331\n",
            "Test accuracy: 42.551%\n",
            "----------------------------------------------------------------------------------------------------\n",
            "split 4\n",
            "\n",
            "Test loss:1.353\n",
            "Test accuracy: 43.061%\n",
            "----------------------------------------------------------------------------------------------------\n"
          ]
        }
      ]
    }
  ],
  "metadata": {
    "kernelspec": {
      "display_name": "Python 3 (ipykernel)",
      "language": "python",
      "name": "python3"
    },
    "language_info": {
      "codemirror_mode": {
        "name": "ipython",
        "version": 3
      },
      "file_extension": ".py",
      "mimetype": "text/x-python",
      "name": "python",
      "nbconvert_exporter": "python",
      "pygments_lexer": "ipython3",
      "version": "3.9.6"
    },
    "colab": {
      "name": "HW5.ipynb",
      "provenance": []
    }
  },
  "nbformat": 4,
  "nbformat_minor": 5
}