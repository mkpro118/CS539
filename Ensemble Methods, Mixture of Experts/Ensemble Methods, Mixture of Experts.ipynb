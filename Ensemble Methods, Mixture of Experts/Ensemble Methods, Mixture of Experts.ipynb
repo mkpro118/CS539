{
 "cells": [
  {
   "cell_type": "markdown",
   "id": "703b9308-5498-47e6-9099-d2033fffde9d",
   "metadata": {},
   "source": [
    "# Question 1\n",
    "\n",
    "<div style=\"font-size:16px\">\n",
    "$\\text{Gating Network Output} = \\displaystyle \\begin{bmatrix}A & A & A & B & A & A & A & A & A & B\\end{bmatrix}$<br>\n",
    "$\\text{MoE} = \\displaystyle \\begin{bmatrix}0 & 0 & 1 & 0 & 0 & 1 & 1 & 1 & 1 & 1\\end{bmatrix}$<br>\n",
    "$P_{\\text{Misclassification}} = \\displaystyle \\frac{1}{10} = 0.1$\n",
    "</div>"
   ]
  },
  {
   "cell_type": "code",
   "execution_count": 1,
   "id": "be25109e-2749-42f7-8db1-64419ff5022d",
   "metadata": {},
   "outputs": [],
   "source": [
    "# Question 2\n",
    "\n",
    "import numpy as np\n",
    "from sklearn.model_selection import train_test_split\n",
    "\n",
    "filename = 'winequality-white.csv'\n",
    "data = np.genfromtxt(filename, dtype='f4', delimiter=',')\n",
    "\n",
    "X = data[1:, :-1]\n",
    "y = data[1:,  -1]\n",
    "\n",
    "X_train, X_test, y_train, y_test = train_test_split(X, y, test_size=0.30, shuffle=None)"
   ]
  },
  {
   "cell_type": "code",
   "execution_count": 2,
   "id": "85b2124f-9877-4ee1-9907-a184fddcb942",
   "metadata": {},
   "outputs": [],
   "source": [
    "mean_scaled = np.mean(X_train, axis=0)\n",
    "std_scaled = np.std(X_train, axis=0)\n",
    "\n",
    "def normalize(X: np.ndarray) -> np.ndarray:\n",
    "    return (X - mean_scaled) / std_scaled\n",
    "\n",
    "X_train = normalize(X_train)\n",
    "X_test = normalize(X_test)"
   ]
  },
  {
   "cell_type": "code",
   "execution_count": 3,
   "id": "16e7446f-681c-434f-aab3-10a4b02274c1",
   "metadata": {},
   "outputs": [],
   "source": [
    "# Gating Network initiation: Using kmeans algorithm to partition the data into 3 clusters\n",
    "from sklearn.cluster import KMeans\n",
    "\n",
    "C = 7\n",
    "kmeans = KMeans(n_clusters=C, random_state=0).fit(X_train)\n",
    "idx = kmeans.labels_"
   ]
  },
  {
   "cell_type": "code",
   "execution_count": 4,
   "id": "6f236243-7838-41f5-8205-cfe260d34dfb",
   "metadata": {},
   "outputs": [],
   "source": [
    "# Traing the gating network model using a naive baysian classifier using the clustering indices obtained after clustering\n",
    "from sklearn.naive_bayes import GaussianNB\n",
    "\n",
    "gNet = GaussianNB().fit(X_train, idx)"
   ]
  },
  {
   "cell_type": "code",
   "execution_count": 5,
   "id": "817bc59b-147b-4eab-aff0-3eaef5dd5ac2",
   "metadata": {},
   "outputs": [],
   "source": [
    "# Traing individual expert classifiers using each cluster of training data\n",
    "from sklearn.tree import DecisionTreeClassifier\n",
    "\n",
    "Exp = []\n",
    "for k in range(C):\n",
    "    Exp.append(DecisionTreeClassifier(random_state=0).fit(X_train[idx==k], y_train[idx==k]))"
   ]
  },
  {
   "cell_type": "code",
   "execution_count": 6,
   "id": "4264e1b6-be77-4bda-9f10-4cd4e11139ef",
   "metadata": {},
   "outputs": [],
   "source": [
    "# Validation with X_test, y_test\n",
    "from keras.utils.np_utils import to_categorical   \n",
    "\n",
    "# Gating network output\n",
    "y_gNet = gNet.predict(X_test)\n",
    "y_gNet_1h = to_categorical(y_gNet)\n",
    "\n",
    "\n",
    "# Let each expert predict for the entire validation data set\n",
    "y_exp = []\n",
    "for k in range(C):\n",
    "    y_exp.append(Exp[k].predict(X_test))\n",
    "\n",
    "# Selecting the prediction from corresponding expert assigned by the gating network\n",
    "y_exp_T = np.array(y_exp).T\n",
    "y_gated = np.sum(y_exp_T * y_gNet_1h, axis=1)"
   ]
  },
  {
   "cell_type": "code",
   "execution_count": 7,
   "id": "46346f26-f3e9-4805-bcdd-b8c06d3e5531",
   "metadata": {},
   "outputs": [
    {
     "name": "stdout",
     "output_type": "stream",
     "text": [
      "Expert #0\n",
      " [[  1   0   5   5   0   0]\n",
      " [  0   1  26  14  11   0]\n",
      " [  0  28 210 148  49   1]\n",
      " [  0  54 210 248 152   1]\n",
      " [  0  15 106  69  63   2]\n",
      " [  0   2  20   8  19   2]]\n",
      "Expert #1\n",
      " [[  0   0   3   8   0   0]\n",
      " [  0   1   6  44   1   0]\n",
      " [  0   2 112 302  20   0]\n",
      " [  0   3  83 544  35   0]\n",
      " [  0   0  17 227  11   0]\n",
      " [  0   0   1  46   4   0]]\n",
      "Expert #2\n",
      " [[  0   1   5   4   1   0   0]\n",
      " [  0  13  17  11  11   0   0]\n",
      " [  0  27 220 124  59   4   2]\n",
      " [  0  38 112 277 225  12   1]\n",
      " [  0  15  21  43 169   7   0]\n",
      " [  0   3   4   7  31   6   0]\n",
      " [  0   0   0   0   0   0   0]]\n",
      "Expert #3\n",
      " [[  1   1   2   4   3   0   0]\n",
      " [  2   7  16  25   2   0   0]\n",
      " [  4  15 120 243  49   5   0]\n",
      " [  1  11 149 345 127  21  11]\n",
      " [  0   1  43  98  89  13  11]\n",
      " [  0   1  11  16  16   5   2]\n",
      " [  0   0   0   0   0   0   0]]\n",
      "Expert #4\n",
      " [[  0   2   3   6   0   0]\n",
      " [  0  16  18  15   1   2]\n",
      " [  0  68 173 168  16  11]\n",
      " [  0  79 181 248 100  57]\n",
      " [  0  27  31  75  72  50]\n",
      " [  0   4   5  23  13   6]]\n",
      "Expert #5\n",
      " [[  0   1   3   2   5   0]\n",
      " [  0   2  18  21  11   0]\n",
      " [  0  34 146 173  78   5]\n",
      " [  0  34 152 321 142  16]\n",
      " [  0   6  62  98  80   9]\n",
      " [  0   1   6  22  12  10]]\n",
      "Expert #6\n",
      " [[  0   2   3   4   2   0   0]\n",
      " [  1   6  27   7  10   1   0]\n",
      " [  0  40 194  75 117  10   0]\n",
      " [  0  42 166 212 228  15   2]\n",
      " [  0   2  32  81 124  15   1]\n",
      " [  0   0   6  24  16   5   0]\n",
      " [  0   0   0   0   0   0   0]]\n",
      "Gated \n",
      " [[  1   1   4   5   0   0   0]\n",
      " [  0  12  20  16   3   1   0]\n",
      " [  0  17 258 113  37  10   1]\n",
      " [  0  15 130 399 102  18   1]\n",
      " [  0   2  23  77 140  13   0]\n",
      " [  0   0   3  18  10  20   0]\n",
      " [  0   0   0   0   0   0   0]]\n"
     ]
    }
   ],
   "source": [
    "# Check results\n",
    "from sklearn.metrics import confusion_matrix\n",
    "\n",
    "# expert classifier's performance w.r.t. the entire validation dataset\n",
    "for k in range(C):\n",
    "    print(f'Expert #{k}\\n',confusion_matrix(y_test,y_exp[k]))\n",
    "\n",
    "print('Gated \\n', confusion_matrix(y_test,y_gated))"
   ]
  },
  {
   "cell_type": "code",
   "execution_count": 8,
   "id": "543a1c0e-3b19-4385-85bc-72ada9e83295",
   "metadata": {},
   "outputs": [
    {
     "name": "stdout",
     "output_type": "stream",
     "text": [
      "expert # [6 6 2 3 6 2 3 0 6 2 6 6 3 2 6 0 2 6 0 3 2 2 0 4 2 4 6 2 1 6 2 3 3 6 2 6 1\n",
      " 6 2 2 6 0 5 3 2 6 3 4 6 2 6 6 0 6 6 3 5 6 2 6 2 6 6 6 3 6 3 6 2 6 2 6 6 6\n",
      " 6 6 6 5 0 4 2 0 6 2 0 5 6 5 6 6 6 4 6 6 3 2 6 3 2 6 5 6 5 2 5 6 6 3 2 0 6\n",
      " 6 2 2 6 6 0 6 0 6 3 6 6 6 3 6 3 2 6 0 0 4 4 6 6 6 3 4 4 6 2 6 2 3 6 4 0 3\n",
      " 3 3 3 2 0 2 5 0 6 2 6 6 6 6 6 0 4 5 6 2 6 6 5 4 2 0 4 6 6 5 6 2 0 3 0 3 3\n",
      " 2 3 3 6 5 2 6 2 3 6 6 3 0 6 2 5 2 5 3 6 0 0 3 6 0 0 5 2 6 6 6 6 3 0 6 5 4\n",
      " 6 0 6 5 4 4 5 6 5 6 3 2 2 2 4 3 2 6 6 6 6 5 3 2 6 3 2 5 4 2 2 2 3 5 6 3 3\n",
      " 6 6 6 0 2 6 3 2 3 5 2 3 2 5 6 5 2 6 3 2 6 5 0 3 3 3 4 5 1 5 6 0 3 3 2 2 2\n",
      " 3 3 6 6 5 2 2 6 2 1 6 6 6 5 6 6 3 2 0 6 3 6 2 2 6 6 3 4 6 5 5 3 6 6 1 6 6\n",
      " 2 2 3 4 3 2 5 6 3 3 6 3 3 3 6 5 6 6 6 3 0 2 3 6 6 6 2 6 5 3 6 3 2 5 6 2 2\n",
      " 2 3 3 5 2 0 6 2 4 2 4 3 2 3 2 3 5 5 6 3 3 2 4 2 3 6 6 6 6 3 2 6 3 6 6 2 3\n",
      " 0 5 3 6 6 0 6 1 5 4 5 2 2 6 0 5 2 5 4 0 2 6 6 3 3 6 2 1 4 0 2 3 2 2 0 6 6\n",
      " 4 6 4 5 4 2 3 3 0 6 5 2 3 6 0 4 3 6 3 6 3 6 0 5 5 2 2 1 0 6 2 2 6 3 4 3 4\n",
      " 2 3 6 2 6 6 5 6 3 2 2 5 3 6 2 3 3 3 3 0 0 1 6 6 6 6 6 3 6 6 2 6 0 3 2 2 6\n",
      " 6 5 0 2 4 6 2 2 2 2 2 5 4 2 6 5 2 0 3 2 6 5 6 6 5 6 6 2 6 2 6 3 2 6 2 6 3\n",
      " 2 0 1 6 6 3 2 5 2 1 6 3 6 2 2 2 3 0 2 6 4 6 3 0 5 6 5 6 6 2 3 5 0 6 6 3 5\n",
      " 5 4 3 5 3 0 4 2 6 6 5 3 6 6 3 5 6 6 6 3 6 6 6 4 4 5 5 1 2 6 2 2 2 0 2 2 2\n",
      " 5 6 2 6 6 2 1 4 0 2 6] made incorrect prediction\n"
     ]
    }
   ],
   "source": [
    "# find which expert made the wrong classification\n",
    "print('expert #',y_gNet[y_gated != y_test],'made incorrect prediction')"
   ]
  }
 ],
 "metadata": {
  "kernelspec": {
   "display_name": "Python 3 (ipykernel)",
   "language": "python",
   "name": "python3"
  },
  "language_info": {
   "codemirror_mode": {
    "name": "ipython",
    "version": 3
   },
   "file_extension": ".py",
   "mimetype": "text/x-python",
   "name": "python",
   "nbconvert_exporter": "python",
   "pygments_lexer": "ipython3",
   "version": "3.9.6"
  }
 },
 "nbformat": 4,
 "nbformat_minor": 5
}
