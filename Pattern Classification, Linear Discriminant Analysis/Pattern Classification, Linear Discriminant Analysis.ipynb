{
 "cells": [
  {
   "cell_type": "code",
   "execution_count": 1,
   "id": "62e9cdb6-becd-4f6b-99e2-27bdbb9c4f80",
   "metadata": {},
   "outputs": [
    {
     "name": "stdout",
     "output_type": "stream",
     "text": [
      "X = \n",
      "[[-1 -1]\n",
      " [-2 -1]\n",
      " [-3 -2]\n",
      " [ 1  1]\n",
      " [ 2  1]\n",
      " [ 3  2]]\n",
      "y = [1 1 1 2 2 2]\n"
     ]
    }
   ],
   "source": [
    "# Question 1\n",
    "\n",
    "# setup\n",
    "import numpy as np\n",
    "\n",
    "# Feature matrix and Label vectors\n",
    "X = np.array([[-1, -1], [-2, -1], [-3, -2], [1, 1], [2, 1], [3, 2]])\n",
    "y = np.array([1, 1, 1, 2, 2, 2])\n",
    "\n",
    "# Label filters\n",
    "_y1 = y == 1\n",
    "_y2 = y == 2\n",
    "\n",
    "print(f'X = \\n{X}')\n",
    "print(f'y = {y}')"
   ]
  },
  {
   "cell_type": "code",
   "execution_count": 2,
   "id": "bc26d30b-b59e-4db4-b611-e0b3bf47b7ab",
   "metadata": {},
   "outputs": [
    {
     "name": "stdout",
     "output_type": "stream",
     "text": [
      "  Overall mean vector   = [0. 0.]\n",
      "Mean vector for label 1 = [-2.         -1.33333333]\n",
      "Mean vector for label 2 = [2.         1.33333333]\n"
     ]
    }
   ],
   "source": [
    "# Question 1 part (a)\n",
    "\n",
    "mean = np.mean(X, axis=0)\n",
    "mean1 = np.mean(X[_y1], axis=0)\n",
    "mean2 = np.mean(X[_y2], axis=0)\n",
    "\n",
    "print(f'  Overall mean vector   = {mean}')\n",
    "print(f'Mean vector for label 1 = {mean1}')\n",
    "print(f'Mean vector for label 2 = {mean2}')"
   ]
  },
  {
   "cell_type": "code",
   "execution_count": 3,
   "id": "73ed8872-1cc6-46d9-81f4-7d633df88cd4",
   "metadata": {},
   "outputs": [
    {
     "name": "stdout",
     "output_type": "stream",
     "text": [
      "S1 =\n",
      "[[2.         1.        ]\n",
      " [1.         0.66666667]]\n",
      "S2 =\n",
      "[[2.         1.        ]\n",
      " [1.         0.66666667]]\n"
     ]
    }
   ],
   "source": [
    "# Question 1 part (b)\n",
    "\n",
    "S1 = (x := (X[_y1] - mean1)).T @ x\n",
    "S2 = (x := (X[_y2] - mean2)).T @ x\n",
    "\n",
    "print(f'S1 =\\n{S1}')\n",
    "print(f'S2 =\\n{S2}')"
   ]
  },
  {
   "cell_type": "code",
   "execution_count": 4,
   "id": "80e3a49c-12d2-4ea4-819f-502b685346ac",
   "metadata": {},
   "outputs": [
    {
     "name": "stdout",
     "output_type": "stream",
     "text": [
      "Sw = \n",
      "[[4.         2.        ]\n",
      " [2.         1.33333333]]\n",
      "Sb = \n",
      "[[24.         16.        ]\n",
      " [16.         10.66666667]]\n"
     ]
    }
   ],
   "source": [
    "# Question 1 part (c)\n",
    "\n",
    "# Within cluster scattering matrix\n",
    "Sw = S1 + S2\n",
    "\n",
    "# Between cluster scattering matrix\n",
    "m1 = (mean1 - mean).reshape((2, 1))\n",
    "m2 = (mean2 - mean).reshape((2, 1))\n",
    "Sb = np.sum(_y1) * (m1 @ m1.T) + np.sum(_y2) * m2 @ m2.T\n",
    "\n",
    "print(f'Sw = \\n{Sw}')\n",
    "print(f'Sb = \\n{Sb}')"
   ]
  },
  {
   "cell_type": "code",
   "execution_count": 5,
   "id": "076b58c5-00c4-412b-ab22-9cd2c0899431",
   "metadata": {},
   "outputs": [
    {
     "name": "stdout",
     "output_type": "stream",
     "text": [
      "w_LDA =\n",
      "[[ 3.70074342e-17]\n",
      " [-1.00000000e+00]]\n"
     ]
    }
   ],
   "source": [
    "# Question 1 part (d)\n",
    "\n",
    "Sw_inv_Sb = np.linalg.inv(Sw) @ Sb\n",
    "\n",
    "# Eigen Value and Vectors\n",
    "eig_val, eig_vec = np.linalg.eig(Sw_inv_Sb)\n",
    "\n",
    "w_LDA = eig_vec[:, eig_val.argmax()].reshape((2, 1))\n",
    "print(f'w_LDA =\\n{w_LDA}')"
   ]
  },
  {
   "cell_type": "code",
   "execution_count": 6,
   "id": "f67f176d-8355-49d0-990c-a7f1fe9d9e0a",
   "metadata": {},
   "outputs": [
    {
     "name": "stdout",
     "output_type": "stream",
     "text": [
      "y1 = array([[1.]])\n",
      "y2 = array([[1.]])\n",
      "y3 = array([[2.]])\n",
      "y4 = array([[-1.]])\n",
      "y5 = array([[-1.]])\n",
      "y6 = array([[-2.]])\n"
     ]
    }
   ],
   "source": [
    "# Question 1 part (e)\n",
    "\n",
    "y1 = w_LDA.T @ X[0].reshape((2, 1))\n",
    "y2 = w_LDA.T @ X[1].reshape((2, 1))\n",
    "y3 = w_LDA.T @ X[2].reshape((2, 1))\n",
    "y4 = w_LDA.T @ X[3].reshape((2, 1))\n",
    "y5 = w_LDA.T @ X[4].reshape((2, 1))\n",
    "y6 = w_LDA.T @ X[5].reshape((2, 1))\n",
    "\n",
    "print(f'{y1 = }')\n",
    "print(f'{y2 = }')\n",
    "print(f'{y3 = }')\n",
    "print(f'{y4 = }')\n",
    "print(f'{y5 = }')\n",
    "print(f'{y6 = }')"
   ]
  },
  {
   "cell_type": "code",
   "execution_count": 9,
   "id": "41294965-3b58-4865-9e2b-69ea1473b137",
   "metadata": {},
   "outputs": [
    {
     "name": "stdout",
     "output_type": "stream",
     "text": [
      "[[-1.73205081]\n",
      " [-1.73205081]\n",
      " [-3.46410162]\n",
      " [ 1.73205081]\n",
      " [ 1.73205081]\n",
      " [ 3.46410162]]\n"
     ]
    }
   ],
   "source": [
    "# Answer is not equivalent to the sklearn answer!!\n",
    "\n",
    "from sklearn.discriminant_analysis import LinearDiscriminantAnalysis as LDA\n",
    "print(LDA(n_components=1).fit_transform(X, y))"
   ]
  }
 ],
 "metadata": {
  "kernelspec": {
   "display_name": "Python 3 (ipykernel)",
   "language": "python",
   "name": "python3"
  },
  "language_info": {
   "codemirror_mode": {
    "name": "ipython",
    "version": 3
   },
   "file_extension": ".py",
   "mimetype": "text/x-python",
   "name": "python",
   "nbconvert_exporter": "python",
   "pygments_lexer": "ipython3",
   "version": "3.9.6"
  }
 },
 "nbformat": 4,
 "nbformat_minor": 5
}
