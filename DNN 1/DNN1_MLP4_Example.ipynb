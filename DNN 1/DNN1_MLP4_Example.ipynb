{
 "cells": [
  {
   "cell_type": "code",
   "execution_count": 2,
   "id": "717a35ac",
   "metadata": {
    "executionInfo": {
     "elapsed": 348,
     "status": "ok",
     "timestamp": 1658075974311,
     "user": {
      "displayName": "YU HEN HU",
      "userId": "04083449072545068296"
     },
     "user_tz": 300
    },
    "id": "717a35ac"
   },
   "outputs": [],
   "source": [
    "# part of the code also refers to:\n",
    "# https://machinelearningmastery.com/tutorial-first-neural-network-python-keras/\n",
    "# !pip install d2l==0.17.0\n",
    "import tensorflow as tf\n",
    "import numpy as np\n",
    "from google.colab import drive\n",
    "from tensorflow import keras\n",
    "from sklearn.model_selection import train_test_split"
   ]
  },
  {
   "cell_type": "code",
   "execution_count": 3,
   "id": "71cfbd08",
   "metadata": {
    "colab": {
     "base_uri": "https://localhost:8080/"
    },
    "executionInfo": {
     "elapsed": 19321,
     "status": "ok",
     "timestamp": 1658075997571,
     "user": {
      "displayName": "YU HEN HU",
      "userId": "04083449072545068296"
     },
     "user_tz": 300
    },
    "id": "71cfbd08",
    "outputId": "43432a50-46b5-4978-c937-5cf19ec0fb6f"
   },
   "outputs": [
    {
     "name": "stdout",
     "output_type": "stream",
     "text": [
      "Mounted at /content/drive\n"
     ]
    }
   ],
   "source": [
    "# import data\n",
    "drive.mount('/content/drive')\n",
    "with open('/content/drive/My Drive/Colab Notebooks/data/iris.csv', 'r') as f: \n",
    "  data = np.genfromtxt(f, dtype='f4', delimiter=',')\n",
    "X = data[:,:4]\n",
    "# y = [data[:,4] == 1, data[:,4] == 2, data[:,4] == 3]\n",
    "y = data[:,4]"
   ]
  },
  {
   "cell_type": "code",
   "execution_count": 7,
   "id": "7501ce39",
   "metadata": {
    "executionInfo": {
     "elapsed": 132,
     "status": "ok",
     "timestamp": 1658076028964,
     "user": {
      "displayName": "YU HEN HU",
      "userId": "04083449072545068296"
     },
     "user_tz": 300
    },
    "id": "7501ce39"
   },
   "outputs": [],
   "source": [
    "# partition into training and validation set at 80/20 division\n",
    "X_train, X_test, y_train, y_test = train_test_split(X, y, test_size=0.20)\n",
    "# Converting y_r and y_t into one-hot encoding using a keras utility\n",
    "#  to_categorical\n",
    "# The class vector to be converted into a matrix is assumed to contain\n",
    "#  integers from 0 to num_classes. The label in iris.csv is 1, 2, 3\n",
    "#  Hence we subtract it by 1 before conversion\n",
    "y_train = keras.utils.to_categorical(y_train-1)\n",
    "y_test = keras.utils.to_categorical(y_test-1)"
   ]
  },
  {
   "cell_type": "code",
   "execution_count": 8,
   "id": "57fa02c9",
   "metadata": {
    "executionInfo": {
     "elapsed": 157,
     "status": "ok",
     "timestamp": 1658076032923,
     "user": {
      "displayName": "YU HEN HU",
      "userId": "04083449072545068296"
     },
     "user_tz": 300
    },
    "id": "57fa02c9"
   },
   "outputs": [],
   "source": [
    "# define the keras model\n",
    "# 4-10-10-10-3 configuration, relu and softmax activation for the \n",
    "# hidden layer and output layer respectively\n",
    "net = tf.keras.models.Sequential([\n",
    "    tf.keras.layers.Dense(10, input_dim=4, activation = 'relu'),\n",
    "    tf.keras.layers.Dense(10, activation = 'relu'),\n",
    "    tf.keras.layers.Dense(10, activation = 'relu'),\n",
    "    tf.keras.layers.Dense(3, activation='softmax')])"
   ]
  },
  {
   "cell_type": "code",
   "execution_count": 9,
   "id": "2f08f1cb",
   "metadata": {
    "executionInfo": {
     "elapsed": 134,
     "status": "ok",
     "timestamp": 1658076035536,
     "user": {
      "displayName": "YU HEN HU",
      "userId": "04083449072545068296"
     },
     "user_tz": 300
    },
    "id": "2f08f1cb"
   },
   "outputs": [],
   "source": [
    "# compile the keras model\n",
    "net.compile(loss='binary_crossentropy', optimizer='adam', \n",
    "              metrics=['accuracy'])"
   ]
  },
  {
   "cell_type": "code",
   "execution_count": 10,
   "id": "cb0ad23a",
   "metadata": {
    "colab": {
     "base_uri": "https://localhost:8080/"
    },
    "executionInfo": {
     "elapsed": 9170,
     "status": "ok",
     "timestamp": 1658076047055,
     "user": {
      "displayName": "YU HEN HU",
      "userId": "04083449072545068296"
     },
     "user_tz": 300
    },
    "id": "cb0ad23a",
    "outputId": "99372b8a-8b13-417a-a67b-abaddbb278af"
   },
   "outputs": [
    {
     "name": "stdout",
     "output_type": "stream",
     "text": [
      "Epoch 1/150\n",
      "12/12 [==============================] - 1s 2ms/step - loss: 0.7182 - accuracy: 0.3167\n",
      "Epoch 2/150\n",
      "12/12 [==============================] - 0s 2ms/step - loss: 0.6664 - accuracy: 0.3250\n",
      "Epoch 3/150\n",
      "12/12 [==============================] - 0s 2ms/step - loss: 0.6348 - accuracy: 0.5583\n",
      "Epoch 4/150\n",
      "12/12 [==============================] - 0s 2ms/step - loss: 0.6070 - accuracy: 0.6417\n",
      "Epoch 5/150\n",
      "12/12 [==============================] - 0s 3ms/step - loss: 0.5849 - accuracy: 0.7167\n",
      "Epoch 6/150\n",
      "12/12 [==============================] - 0s 2ms/step - loss: 0.5662 - accuracy: 0.9250\n",
      "Epoch 7/150\n",
      "12/12 [==============================] - 0s 2ms/step - loss: 0.5492 - accuracy: 0.9583\n",
      "Epoch 8/150\n",
      "12/12 [==============================] - 0s 2ms/step - loss: 0.5341 - accuracy: 0.8500\n",
      "Epoch 9/150\n",
      "12/12 [==============================] - 0s 2ms/step - loss: 0.5180 - accuracy: 0.8167\n",
      "Epoch 10/150\n",
      "12/12 [==============================] - 0s 2ms/step - loss: 0.5027 - accuracy: 0.7083\n",
      "Epoch 11/150\n",
      "12/12 [==============================] - 0s 2ms/step - loss: 0.4872 - accuracy: 0.6833\n",
      "Epoch 12/150\n",
      "12/12 [==============================] - 0s 2ms/step - loss: 0.4718 - accuracy: 0.6833\n",
      "Epoch 13/150\n",
      "12/12 [==============================] - 0s 3ms/step - loss: 0.4566 - accuracy: 0.6833\n",
      "Epoch 14/150\n",
      "12/12 [==============================] - 0s 2ms/step - loss: 0.4415 - accuracy: 0.6750\n",
      "Epoch 15/150\n",
      "12/12 [==============================] - 0s 2ms/step - loss: 0.4285 - accuracy: 0.6750\n",
      "Epoch 16/150\n",
      "12/12 [==============================] - 0s 3ms/step - loss: 0.4135 - accuracy: 0.6750\n",
      "Epoch 17/150\n",
      "12/12 [==============================] - 0s 3ms/step - loss: 0.4001 - accuracy: 0.6750\n",
      "Epoch 18/150\n",
      "12/12 [==============================] - 0s 2ms/step - loss: 0.3876 - accuracy: 0.6750\n",
      "Epoch 19/150\n",
      "12/12 [==============================] - 0s 2ms/step - loss: 0.3763 - accuracy: 0.6833\n",
      "Epoch 20/150\n",
      "12/12 [==============================] - 0s 3ms/step - loss: 0.3661 - accuracy: 0.6833\n",
      "Epoch 21/150\n",
      "12/12 [==============================] - 0s 2ms/step - loss: 0.3541 - accuracy: 0.6833\n",
      "Epoch 22/150\n",
      "12/12 [==============================] - 0s 2ms/step - loss: 0.3454 - accuracy: 0.7000\n",
      "Epoch 23/150\n",
      "12/12 [==============================] - 0s 3ms/step - loss: 0.3362 - accuracy: 0.7000\n",
      "Epoch 24/150\n",
      "12/12 [==============================] - 0s 2ms/step - loss: 0.3280 - accuracy: 0.7500\n",
      "Epoch 25/150\n",
      "12/12 [==============================] - 0s 2ms/step - loss: 0.3216 - accuracy: 0.7250\n",
      "Epoch 26/150\n",
      "12/12 [==============================] - 0s 2ms/step - loss: 0.3128 - accuracy: 0.8500\n",
      "Epoch 27/150\n",
      "12/12 [==============================] - 0s 2ms/step - loss: 0.3058 - accuracy: 0.8500\n",
      "Epoch 28/150\n",
      "12/12 [==============================] - 0s 3ms/step - loss: 0.2998 - accuracy: 0.8333\n",
      "Epoch 29/150\n",
      "12/12 [==============================] - 0s 2ms/step - loss: 0.2910 - accuracy: 0.8500\n",
      "Epoch 30/150\n",
      "12/12 [==============================] - 0s 3ms/step - loss: 0.2844 - accuracy: 0.8750\n",
      "Epoch 31/150\n",
      "12/12 [==============================] - 0s 5ms/step - loss: 0.2780 - accuracy: 0.8583\n",
      "Epoch 32/150\n",
      "12/12 [==============================] - 0s 6ms/step - loss: 0.2719 - accuracy: 0.8917\n",
      "Epoch 33/150\n",
      "12/12 [==============================] - 0s 7ms/step - loss: 0.2650 - accuracy: 0.8833\n",
      "Epoch 34/150\n",
      "12/12 [==============================] - 0s 3ms/step - loss: 0.2609 - accuracy: 0.8750\n",
      "Epoch 35/150\n",
      "12/12 [==============================] - 0s 8ms/step - loss: 0.2549 - accuracy: 0.9417\n",
      "Epoch 36/150\n",
      "12/12 [==============================] - 0s 3ms/step - loss: 0.2468 - accuracy: 0.9333\n",
      "Epoch 37/150\n",
      "12/12 [==============================] - 0s 3ms/step - loss: 0.2422 - accuracy: 0.9417\n",
      "Epoch 38/150\n",
      "12/12 [==============================] - 0s 4ms/step - loss: 0.2380 - accuracy: 0.9167\n",
      "Epoch 39/150\n",
      "12/12 [==============================] - 0s 4ms/step - loss: 0.2297 - accuracy: 0.9583\n",
      "Epoch 40/150\n",
      "12/12 [==============================] - 0s 4ms/step - loss: 0.2250 - accuracy: 0.9500\n",
      "Epoch 41/150\n",
      "12/12 [==============================] - 0s 4ms/step - loss: 0.2183 - accuracy: 0.9417\n",
      "Epoch 42/150\n",
      "12/12 [==============================] - 0s 4ms/step - loss: 0.2154 - accuracy: 0.9750\n",
      "Epoch 43/150\n",
      "12/12 [==============================] - 0s 3ms/step - loss: 0.2102 - accuracy: 0.9500\n",
      "Epoch 44/150\n",
      "12/12 [==============================] - 0s 3ms/step - loss: 0.2079 - accuracy: 0.9750\n",
      "Epoch 45/150\n",
      "12/12 [==============================] - 0s 3ms/step - loss: 0.2017 - accuracy: 0.9417\n",
      "Epoch 46/150\n",
      "12/12 [==============================] - 0s 3ms/step - loss: 0.1933 - accuracy: 0.9750\n",
      "Epoch 47/150\n",
      "12/12 [==============================] - 0s 3ms/step - loss: 0.1884 - accuracy: 0.9667\n",
      "Epoch 48/150\n",
      "12/12 [==============================] - 0s 3ms/step - loss: 0.1875 - accuracy: 0.9583\n",
      "Epoch 49/150\n",
      "12/12 [==============================] - 0s 4ms/step - loss: 0.1800 - accuracy: 0.9750\n",
      "Epoch 50/150\n",
      "12/12 [==============================] - 0s 3ms/step - loss: 0.1798 - accuracy: 0.9750\n",
      "Epoch 51/150\n",
      "12/12 [==============================] - 0s 3ms/step - loss: 0.1727 - accuracy: 0.9583\n",
      "Epoch 52/150\n",
      "12/12 [==============================] - 0s 3ms/step - loss: 0.1699 - accuracy: 0.9750\n",
      "Epoch 53/150\n",
      "12/12 [==============================] - 0s 3ms/step - loss: 0.1636 - accuracy: 0.9667\n",
      "Epoch 54/150\n",
      "12/12 [==============================] - 0s 5ms/step - loss: 0.1599 - accuracy: 0.9750\n",
      "Epoch 55/150\n",
      "12/12 [==============================] - 0s 3ms/step - loss: 0.1563 - accuracy: 0.9750\n",
      "Epoch 56/150\n",
      "12/12 [==============================] - 0s 3ms/step - loss: 0.1548 - accuracy: 0.9667\n",
      "Epoch 57/150\n",
      "12/12 [==============================] - 0s 4ms/step - loss: 0.1511 - accuracy: 0.9750\n",
      "Epoch 58/150\n",
      "12/12 [==============================] - 0s 3ms/step - loss: 0.1544 - accuracy: 0.9500\n",
      "Epoch 59/150\n",
      "12/12 [==============================] - 0s 4ms/step - loss: 0.1517 - accuracy: 0.9583\n",
      "Epoch 60/150\n",
      "12/12 [==============================] - 0s 3ms/step - loss: 0.1459 - accuracy: 0.9583\n",
      "Epoch 61/150\n",
      "12/12 [==============================] - 0s 3ms/step - loss: 0.1373 - accuracy: 0.9750\n",
      "Epoch 62/150\n",
      "12/12 [==============================] - 0s 3ms/step - loss: 0.1338 - accuracy: 0.9750\n",
      "Epoch 63/150\n",
      "12/12 [==============================] - 0s 4ms/step - loss: 0.1324 - accuracy: 0.9667\n",
      "Epoch 64/150\n",
      "12/12 [==============================] - 0s 7ms/step - loss: 0.1332 - accuracy: 0.9750\n",
      "Epoch 65/150\n",
      "12/12 [==============================] - 0s 8ms/step - loss: 0.1276 - accuracy: 0.9750\n",
      "Epoch 66/150\n",
      "12/12 [==============================] - 0s 3ms/step - loss: 0.1258 - accuracy: 0.9667\n",
      "Epoch 67/150\n",
      "12/12 [==============================] - 0s 3ms/step - loss: 0.1212 - accuracy: 0.9750\n",
      "Epoch 68/150\n",
      "12/12 [==============================] - 0s 3ms/step - loss: 0.1196 - accuracy: 0.9750\n",
      "Epoch 69/150\n",
      "12/12 [==============================] - 0s 4ms/step - loss: 0.1175 - accuracy: 0.9750\n",
      "Epoch 70/150\n",
      "12/12 [==============================] - 0s 4ms/step - loss: 0.1138 - accuracy: 0.9750\n",
      "Epoch 71/150\n",
      "12/12 [==============================] - 0s 4ms/step - loss: 0.1126 - accuracy: 0.9750\n",
      "Epoch 72/150\n",
      "12/12 [==============================] - 0s 4ms/step - loss: 0.1127 - accuracy: 0.9667\n",
      "Epoch 73/150\n",
      "12/12 [==============================] - 0s 4ms/step - loss: 0.1110 - accuracy: 0.9750\n",
      "Epoch 74/150\n",
      "12/12 [==============================] - 0s 4ms/step - loss: 0.1090 - accuracy: 0.9667\n",
      "Epoch 75/150\n",
      "12/12 [==============================] - 0s 3ms/step - loss: 0.1059 - accuracy: 0.9750\n",
      "Epoch 76/150\n",
      "12/12 [==============================] - 0s 3ms/step - loss: 0.1053 - accuracy: 0.9750\n",
      "Epoch 77/150\n",
      "12/12 [==============================] - 0s 6ms/step - loss: 0.1019 - accuracy: 0.9667\n",
      "Epoch 78/150\n",
      "12/12 [==============================] - 0s 7ms/step - loss: 0.1007 - accuracy: 0.9750\n",
      "Epoch 79/150\n",
      "12/12 [==============================] - 0s 4ms/step - loss: 0.1026 - accuracy: 0.9583\n",
      "Epoch 80/150\n",
      "12/12 [==============================] - 0s 6ms/step - loss: 0.1005 - accuracy: 0.9417\n",
      "Epoch 81/150\n",
      "12/12 [==============================] - 0s 3ms/step - loss: 0.0945 - accuracy: 0.9750\n",
      "Epoch 82/150\n",
      "12/12 [==============================] - 0s 3ms/step - loss: 0.0959 - accuracy: 0.9667\n",
      "Epoch 83/150\n",
      "12/12 [==============================] - 0s 3ms/step - loss: 0.0948 - accuracy: 0.9583\n",
      "Epoch 84/150\n",
      "12/12 [==============================] - 0s 3ms/step - loss: 0.0934 - accuracy: 0.9667\n",
      "Epoch 85/150\n",
      "12/12 [==============================] - 0s 6ms/step - loss: 0.0907 - accuracy: 0.9750\n",
      "Epoch 86/150\n",
      "12/12 [==============================] - 0s 4ms/step - loss: 0.0912 - accuracy: 0.9583\n",
      "Epoch 87/150\n",
      "12/12 [==============================] - 0s 4ms/step - loss: 0.0874 - accuracy: 0.9750\n",
      "Epoch 88/150\n",
      "12/12 [==============================] - 0s 3ms/step - loss: 0.0926 - accuracy: 0.9667\n",
      "Epoch 89/150\n",
      "12/12 [==============================] - 0s 3ms/step - loss: 0.0910 - accuracy: 0.9500\n",
      "Epoch 90/150\n",
      "12/12 [==============================] - 0s 3ms/step - loss: 0.0853 - accuracy: 0.9750\n",
      "Epoch 91/150\n",
      "12/12 [==============================] - 0s 3ms/step - loss: 0.0848 - accuracy: 0.9750\n",
      "Epoch 92/150\n",
      "12/12 [==============================] - 0s 3ms/step - loss: 0.0832 - accuracy: 0.9750\n",
      "Epoch 93/150\n",
      "12/12 [==============================] - 0s 3ms/step - loss: 0.0816 - accuracy: 0.9750\n",
      "Epoch 94/150\n",
      "12/12 [==============================] - 0s 6ms/step - loss: 0.0820 - accuracy: 0.9583\n",
      "Epoch 95/150\n",
      "12/12 [==============================] - 0s 5ms/step - loss: 0.0871 - accuracy: 0.9750\n",
      "Epoch 96/150\n",
      "12/12 [==============================] - 0s 3ms/step - loss: 0.0791 - accuracy: 0.9750\n",
      "Epoch 97/150\n",
      "12/12 [==============================] - 0s 3ms/step - loss: 0.0794 - accuracy: 0.9667\n",
      "Epoch 98/150\n",
      "12/12 [==============================] - 0s 3ms/step - loss: 0.0817 - accuracy: 0.9750\n",
      "Epoch 99/150\n",
      "12/12 [==============================] - 0s 6ms/step - loss: 0.0759 - accuracy: 0.9667\n",
      "Epoch 100/150\n",
      "12/12 [==============================] - 0s 4ms/step - loss: 0.0796 - accuracy: 0.9500\n",
      "Epoch 101/150\n",
      "12/12 [==============================] - 0s 4ms/step - loss: 0.0758 - accuracy: 0.9750\n",
      "Epoch 102/150\n",
      "12/12 [==============================] - 0s 3ms/step - loss: 0.0814 - accuracy: 0.9583\n",
      "Epoch 103/150\n",
      "12/12 [==============================] - 0s 5ms/step - loss: 0.0770 - accuracy: 0.9750\n",
      "Epoch 104/150\n",
      "12/12 [==============================] - 0s 5ms/step - loss: 0.0769 - accuracy: 0.9750\n",
      "Epoch 105/150\n",
      "12/12 [==============================] - 0s 6ms/step - loss: 0.0762 - accuracy: 0.9500\n",
      "Epoch 106/150\n",
      "12/12 [==============================] - 0s 3ms/step - loss: 0.0748 - accuracy: 0.9750\n",
      "Epoch 107/150\n",
      "12/12 [==============================] - 0s 3ms/step - loss: 0.0727 - accuracy: 0.9750\n",
      "Epoch 108/150\n",
      "12/12 [==============================] - 0s 4ms/step - loss: 0.0721 - accuracy: 0.9750\n",
      "Epoch 109/150\n",
      "12/12 [==============================] - 0s 7ms/step - loss: 0.0717 - accuracy: 0.9750\n",
      "Epoch 110/150\n",
      "12/12 [==============================] - 0s 5ms/step - loss: 0.0707 - accuracy: 0.9750\n",
      "Epoch 111/150\n",
      "12/12 [==============================] - 0s 6ms/step - loss: 0.0707 - accuracy: 0.9583\n",
      "Epoch 112/150\n",
      "12/12 [==============================] - 0s 6ms/step - loss: 0.0712 - accuracy: 0.9750\n",
      "Epoch 113/150\n",
      "12/12 [==============================] - 0s 3ms/step - loss: 0.0694 - accuracy: 0.9750\n",
      "Epoch 114/150\n",
      "12/12 [==============================] - 0s 3ms/step - loss: 0.0694 - accuracy: 0.9750\n",
      "Epoch 115/150\n",
      "12/12 [==============================] - 0s 4ms/step - loss: 0.0683 - accuracy: 0.9667\n",
      "Epoch 116/150\n",
      "12/12 [==============================] - 0s 3ms/step - loss: 0.0703 - accuracy: 0.9750\n",
      "Epoch 117/150\n",
      "12/12 [==============================] - 0s 4ms/step - loss: 0.0666 - accuracy: 0.9750\n",
      "Epoch 118/150\n",
      "12/12 [==============================] - 0s 4ms/step - loss: 0.0699 - accuracy: 0.9583\n",
      "Epoch 119/150\n",
      "12/12 [==============================] - 0s 3ms/step - loss: 0.0669 - accuracy: 0.9750\n",
      "Epoch 120/150\n",
      "12/12 [==============================] - 0s 3ms/step - loss: 0.0676 - accuracy: 0.9750\n",
      "Epoch 121/150\n",
      "12/12 [==============================] - 0s 3ms/step - loss: 0.0678 - accuracy: 0.9500\n",
      "Epoch 122/150\n",
      "12/12 [==============================] - 0s 7ms/step - loss: 0.0676 - accuracy: 0.9750\n",
      "Epoch 123/150\n",
      "12/12 [==============================] - 0s 4ms/step - loss: 0.0672 - accuracy: 0.9667\n",
      "Epoch 124/150\n",
      "12/12 [==============================] - 0s 4ms/step - loss: 0.0660 - accuracy: 0.9750\n",
      "Epoch 125/150\n",
      "12/12 [==============================] - 0s 4ms/step - loss: 0.0657 - accuracy: 0.9750\n",
      "Epoch 126/150\n",
      "12/12 [==============================] - 0s 3ms/step - loss: 0.0680 - accuracy: 0.9500\n",
      "Epoch 127/150\n",
      "12/12 [==============================] - 0s 3ms/step - loss: 0.0656 - accuracy: 0.9750\n",
      "Epoch 128/150\n",
      "12/12 [==============================] - 0s 7ms/step - loss: 0.0647 - accuracy: 0.9750\n",
      "Epoch 129/150\n",
      "12/12 [==============================] - 0s 7ms/step - loss: 0.0652 - accuracy: 0.9500\n",
      "Epoch 130/150\n",
      "12/12 [==============================] - 0s 2ms/step - loss: 0.0644 - accuracy: 0.9750\n",
      "Epoch 131/150\n",
      "12/12 [==============================] - 0s 2ms/step - loss: 0.0656 - accuracy: 0.9667\n",
      "Epoch 132/150\n",
      "12/12 [==============================] - 0s 2ms/step - loss: 0.0648 - accuracy: 0.9750\n",
      "Epoch 133/150\n",
      "12/12 [==============================] - 0s 2ms/step - loss: 0.0646 - accuracy: 0.9750\n",
      "Epoch 134/150\n",
      "12/12 [==============================] - 0s 2ms/step - loss: 0.0623 - accuracy: 0.9667\n",
      "Epoch 135/150\n",
      "12/12 [==============================] - 0s 2ms/step - loss: 0.0630 - accuracy: 0.9583\n",
      "Epoch 136/150\n",
      "12/12 [==============================] - 0s 2ms/step - loss: 0.0627 - accuracy: 0.9750\n",
      "Epoch 137/150\n",
      "12/12 [==============================] - 0s 2ms/step - loss: 0.0616 - accuracy: 0.9667\n",
      "Epoch 138/150\n",
      "12/12 [==============================] - 0s 2ms/step - loss: 0.0617 - accuracy: 0.9750\n",
      "Epoch 139/150\n",
      "12/12 [==============================] - 0s 2ms/step - loss: 0.0611 - accuracy: 0.9750\n",
      "Epoch 140/150\n",
      "12/12 [==============================] - 0s 2ms/step - loss: 0.0653 - accuracy: 0.9750\n",
      "Epoch 141/150\n",
      "12/12 [==============================] - 0s 2ms/step - loss: 0.0602 - accuracy: 0.9667\n",
      "Epoch 142/150\n",
      "12/12 [==============================] - 0s 3ms/step - loss: 0.0613 - accuracy: 0.9667\n",
      "Epoch 143/150\n",
      "12/12 [==============================] - 0s 2ms/step - loss: 0.0625 - accuracy: 0.9667\n",
      "Epoch 144/150\n",
      "12/12 [==============================] - 0s 2ms/step - loss: 0.0641 - accuracy: 0.9750\n",
      "Epoch 145/150\n",
      "12/12 [==============================] - 0s 2ms/step - loss: 0.0659 - accuracy: 0.9583\n",
      "Epoch 146/150\n",
      "12/12 [==============================] - 0s 2ms/step - loss: 0.0581 - accuracy: 0.9750\n",
      "Epoch 147/150\n",
      "12/12 [==============================] - 0s 3ms/step - loss: 0.0588 - accuracy: 0.9750\n",
      "Epoch 148/150\n",
      "12/12 [==============================] - 0s 2ms/step - loss: 0.0586 - accuracy: 0.9583\n",
      "Epoch 149/150\n",
      "12/12 [==============================] - 0s 2ms/step - loss: 0.0609 - accuracy: 0.9750\n",
      "Epoch 150/150\n",
      "12/12 [==============================] - 0s 3ms/step - loss: 0.0586 - accuracy: 0.9667\n"
     ]
    },
    {
     "data": {
      "text/plain": [
       "<keras.callbacks.History at 0x7f343e372190>"
      ]
     },
     "execution_count": 10,
     "metadata": {},
     "output_type": "execute_result"
    }
   ],
   "source": [
    "# fit the keras model on the dataset\n",
    "net.fit(X_train, y_train, epochs=150, batch_size=10)"
   ]
  },
  {
   "cell_type": "code",
   "execution_count": 12,
   "id": "3261fe2f",
   "metadata": {
    "colab": {
     "base_uri": "https://localhost:8080/"
    },
    "executionInfo": {
     "elapsed": 131,
     "status": "ok",
     "timestamp": 1658076079439,
     "user": {
      "displayName": "YU HEN HU",
      "userId": "04083449072545068296"
     },
     "user_tz": 300
    },
    "id": "3261fe2f",
    "outputId": "c5a184cd-3074-4ef2-b849-533072527cad"
   },
   "outputs": [
    {
     "name": "stdout",
     "output_type": "stream",
     "text": [
      "Test loss: 0.0376\n",
      "Test accuracy: 1.0\n"
     ]
    }
   ],
   "source": [
    "# Evaluate the trained model using keras built-in function\n",
    "score = net.evaluate(X_test, y_test, verbose=0)\n",
    "print(\"Test loss:\", format(score[0],\".4f\"))\n",
    "print(\"Test accuracy:\", score[1])"
   ]
  },
  {
   "cell_type": "code",
   "execution_count": 13,
   "id": "f2d65598",
   "metadata": {
    "colab": {
     "base_uri": "https://localhost:8080/"
    },
    "executionInfo": {
     "elapsed": 303,
     "status": "ok",
     "timestamp": 1658076087218,
     "user": {
      "displayName": "YU HEN HU",
      "userId": "04083449072545068296"
     },
     "user_tz": 300
    },
    "id": "f2d65598",
    "outputId": "65c58ecf-f4a6-4c3b-f3c9-d92370b6e189"
   },
   "outputs": [
    {
     "name": "stdout",
     "output_type": "stream",
     "text": [
      "tf.Tensor(\n",
      "[[12  0  0]\n",
      " [ 0 11  0]\n",
      " [ 0  0  7]], shape=(3, 3), dtype=int32)\n"
     ]
    }
   ],
   "source": [
    "# Evaluate predicted testing output\n",
    "# Since softmax output is used, these outputs are probability \n",
    "# vectors of value between 0 and 1 and values of each output \n",
    "# vector added to 1\n",
    "y_softmax = net.predict(X_test)\n",
    "# y_pc gives the indices (strating from 0) of the max elements\n",
    "y_pc = np.argmax(y_softmax, axis = -1)\n",
    "# convert y_pc into one-hot encoding\n",
    "y_pred = keras.utils.to_categorical(y_pc)\n",
    "\n",
    "Cmat = tf.math.confusion_matrix(y_test.argmax(axis=-1),y_pred.argmax(axis=-1))\n",
    "print(Cmat)"
   ]
  },
  {
   "cell_type": "code",
   "execution_count": null,
   "id": "aGIafJJe-V3p",
   "metadata": {
    "id": "aGIafJJe-V3p"
   },
   "outputs": [],
   "source": [
    "drive.flush_and_unmount()"
   ]
  }
 ],
 "metadata": {
  "colab": {
   "collapsed_sections": [],
   "name": "DNN1_MLP4_Example",
   "provenance": []
  },
  "kernelspec": {
   "display_name": "Python 3 (ipykernel)",
   "language": "python",
   "name": "python3"
  },
  "language_info": {
   "codemirror_mode": {
    "name": "ipython",
    "version": 3
   },
   "file_extension": ".py",
   "mimetype": "text/x-python",
   "name": "python",
   "nbconvert_exporter": "python",
   "pygments_lexer": "ipython3",
   "version": "3.9.6"
  }
 },
 "nbformat": 4,
 "nbformat_minor": 5
}
