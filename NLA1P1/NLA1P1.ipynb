{
 "cells": [
  {
   "cell_type": "code",
   "execution_count": 1,
   "id": "d5c3fd7a-6120-4aa5-961a-d05819bc512c",
   "metadata": {},
   "outputs": [
    {
     "name": "stdout",
     "output_type": "stream",
     "text": [
      "rows = 150 columns = 5\n"
     ]
    }
   ],
   "source": [
    "# Part (a)\n",
    "import numpy as np\n",
    "import pandas as pd\n",
    "\n",
    "file_name = 'iris.csv'\n",
    "\n",
    "# A is the matrix represented by the csv file\n",
    "A = pd.read_csv(file_name, header=None)\n",
    "\n",
    "# For prettifying the DataFrame\n",
    "label_map = dict([(i, (f'Feature {i+1}' if i != 4 else 'Label')) for i in range(5)])\n",
    "A.rename(label_map, axis=1, inplace=True)\n",
    "\n",
    "# The rows and columns of matrix A\n",
    "rows, columns = A.shape\n",
    "print(f'{rows = }', f'{columns = }')"
   ]
  },
  {
   "cell_type": "code",
   "execution_count": 2,
   "id": "841910be-b015-4f77-ab44-4d54fc06ff2d",
   "metadata": {},
   "outputs": [
    {
     "data": {
      "text/html": [
       "<div>\n",
       "<style scoped>\n",
       "    .dataframe tbody tr th:only-of-type {\n",
       "        vertical-align: middle;\n",
       "    }\n",
       "\n",
       "    .dataframe tbody tr th {\n",
       "        vertical-align: top;\n",
       "    }\n",
       "\n",
       "    .dataframe thead th {\n",
       "        text-align: right;\n",
       "    }\n",
       "</style>\n",
       "<table border=\"1\" class=\"dataframe\">\n",
       "  <thead>\n",
       "    <tr style=\"text-align: right;\">\n",
       "      <th></th>\n",
       "      <th>Feature 1</th>\n",
       "      <th>Feature 2</th>\n",
       "      <th>Feature 3</th>\n",
       "      <th>Feature 4</th>\n",
       "    </tr>\n",
       "  </thead>\n",
       "  <tbody>\n",
       "    <tr>\n",
       "      <th>0</th>\n",
       "      <td>5.1</td>\n",
       "      <td>3.5</td>\n",
       "      <td>1.4</td>\n",
       "      <td>0.2</td>\n",
       "    </tr>\n",
       "    <tr>\n",
       "      <th>1</th>\n",
       "      <td>4.9</td>\n",
       "      <td>3.0</td>\n",
       "      <td>1.4</td>\n",
       "      <td>0.2</td>\n",
       "    </tr>\n",
       "    <tr>\n",
       "      <th>2</th>\n",
       "      <td>4.7</td>\n",
       "      <td>3.2</td>\n",
       "      <td>1.3</td>\n",
       "      <td>0.2</td>\n",
       "    </tr>\n",
       "    <tr>\n",
       "      <th>3</th>\n",
       "      <td>4.6</td>\n",
       "      <td>3.1</td>\n",
       "      <td>1.5</td>\n",
       "      <td>0.2</td>\n",
       "    </tr>\n",
       "    <tr>\n",
       "      <th>4</th>\n",
       "      <td>5.0</td>\n",
       "      <td>3.6</td>\n",
       "      <td>1.4</td>\n",
       "      <td>0.2</td>\n",
       "    </tr>\n",
       "    <tr>\n",
       "      <th>...</th>\n",
       "      <td>...</td>\n",
       "      <td>...</td>\n",
       "      <td>...</td>\n",
       "      <td>...</td>\n",
       "    </tr>\n",
       "    <tr>\n",
       "      <th>145</th>\n",
       "      <td>6.7</td>\n",
       "      <td>3.0</td>\n",
       "      <td>5.2</td>\n",
       "      <td>2.3</td>\n",
       "    </tr>\n",
       "    <tr>\n",
       "      <th>146</th>\n",
       "      <td>6.3</td>\n",
       "      <td>2.5</td>\n",
       "      <td>5.0</td>\n",
       "      <td>1.9</td>\n",
       "    </tr>\n",
       "    <tr>\n",
       "      <th>147</th>\n",
       "      <td>6.5</td>\n",
       "      <td>3.0</td>\n",
       "      <td>5.2</td>\n",
       "      <td>2.0</td>\n",
       "    </tr>\n",
       "    <tr>\n",
       "      <th>148</th>\n",
       "      <td>6.2</td>\n",
       "      <td>3.4</td>\n",
       "      <td>5.4</td>\n",
       "      <td>2.3</td>\n",
       "    </tr>\n",
       "    <tr>\n",
       "      <th>149</th>\n",
       "      <td>5.9</td>\n",
       "      <td>3.0</td>\n",
       "      <td>5.1</td>\n",
       "      <td>1.8</td>\n",
       "    </tr>\n",
       "  </tbody>\n",
       "</table>\n",
       "<p>150 rows × 4 columns</p>\n",
       "</div>"
      ],
      "text/plain": [
       "     Feature 1  Feature 2  Feature 3  Feature 4\n",
       "0          5.1        3.5        1.4        0.2\n",
       "1          4.9        3.0        1.4        0.2\n",
       "2          4.7        3.2        1.3        0.2\n",
       "3          4.6        3.1        1.5        0.2\n",
       "4          5.0        3.6        1.4        0.2\n",
       "..         ...        ...        ...        ...\n",
       "145        6.7        3.0        5.2        2.3\n",
       "146        6.3        2.5        5.0        1.9\n",
       "147        6.5        3.0        5.2        2.0\n",
       "148        6.2        3.4        5.4        2.3\n",
       "149        5.9        3.0        5.1        1.8\n",
       "\n",
       "[150 rows x 4 columns]"
      ]
     },
     "execution_count": 2,
     "metadata": {},
     "output_type": "execute_result"
    }
   ],
   "source": [
    "# Part (b)\n",
    "# X is the feature matrix, y is the label vector\n",
    "X, y = A[map(lambda x: f'Feature {x}', range(1,5))], A['Label']\n",
    "X # Printing the feature matrix"
   ]
  },
  {
   "cell_type": "code",
   "execution_count": 3,
   "id": "2e5fb18b-bcea-4c37-b7c2-1764c06f1751",
   "metadata": {},
   "outputs": [
    {
     "data": {
      "text/plain": [
       "0      1\n",
       "1      1\n",
       "2      1\n",
       "3      1\n",
       "4      1\n",
       "      ..\n",
       "145    3\n",
       "146    3\n",
       "147    3\n",
       "148    3\n",
       "149    3\n",
       "Name: Label, Length: 150, dtype: int64"
      ]
     },
     "execution_count": 3,
     "metadata": {},
     "output_type": "execute_result"
    }
   ],
   "source": [
    "#  Part (b) continued\n",
    "y # Printing the label vector"
   ]
  },
  {
   "cell_type": "code",
   "execution_count": 4,
   "id": "51edb165-414d-461a-bcfb-c88595259895",
   "metadata": {},
   "outputs": [
    {
     "name": "stdout",
     "output_type": "stream",
     "text": [
      "unique_label_count = 3\n"
     ]
    }
   ],
   "source": [
    "# Part (c)\n",
    "\n",
    "# The number of distinct label values\n",
    "unique_label_count = y.nunique()\n",
    "\n",
    "print(f'{unique_label_count = }')"
   ]
  },
  {
   "cell_type": "code",
   "execution_count": 5,
   "id": "c100b1f4-8eef-415b-a138-4215156bb5ab",
   "metadata": {},
   "outputs": [
    {
     "name": "stdout",
     "output_type": "stream",
     "text": [
      "1    50\n",
      "2    50\n",
      "3    50\n",
      "Name: Label, dtype: int64\n"
     ]
    }
   ],
   "source": [
    "# Part (c) continued\n",
    "\n",
    "number_of_occurences = y.value_counts()\n",
    "print(number_of_occurences)"
   ]
  },
  {
   "cell_type": "code",
   "execution_count": 6,
   "id": "98bba04b-3a54-4956-bf0a-d14c048cb0f4",
   "metadata": {},
   "outputs": [
    {
     "data": {
      "image/png": "[encoded data removed]",
      "text/plain": [
       "<Figure size 576x576 with 1 Axes>"
      ]
     },
     "metadata": {},
     "output_type": "display_data"
    }
   ],
   "source": [
    "# Part (d)\n",
    "\n",
    "# For drawing the scatter plot\n",
    "%matplotlib inline\n",
    "\n",
    "from matplotlib import pyplot as plt\n",
    "plt.style.use('dark_background') # Set a dark theme for the plot\n",
    "\n",
    "# Get the figure and axis to draw the scatter plot on\n",
    "figure, axis = plt.subplots(figsize=(8,8,))\n",
    "\n",
    "# Scatter plot with Feature 2 on the X-axis, Feature 3 on the Y-axis\n",
    "axis.scatter(x=X['Feature 2'], y=X['Feature 3'], c=y, cmap='rainbow', linewidth=0.5, edgecolor='w')\n",
    "axis.set_title('Feature 2 vs. Feature 3')\n",
    "axis.set_xlabel('Feature 2')\n",
    "axis.set_ylabel('Feature 3')\n",
    "\n",
    "plt.show()"
   ]
  },
  {
   "cell_type": "code",
   "execution_count": null,
   "id": "962c62d5-5ec6-4cfa-8d18-b83f5e9f17f6",
   "metadata": {},
   "outputs": [],
   "source": []
  }
 ],
 "metadata": {
  "kernelspec": {
   "display_name": "Python 3 (ipykernel)",
   "language": "python",
   "name": "python3"
  },
  "language_info": {
   "codemirror_mode": {
    "name": "ipython",
    "version": 3
   },
   "file_extension": ".py",
   "mimetype": "text/x-python",
   "name": "python",
   "nbconvert_exporter": "python",
   "pygments_lexer": "ipython3",
   "version": "3.9.6"
  }
 },
 "nbformat": 4,
 "nbformat_minor": 5
}
