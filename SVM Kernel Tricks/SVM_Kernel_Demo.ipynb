{
 "cells": [
  {
   "cell_type": "code",
   "execution_count": 1,
   "metadata": {
    "colab": {
     "base_uri": "https://localhost:8080/"
    },
    "executionInfo": {
     "elapsed": 18988,
     "status": "ok",
     "timestamp": 1659123178741,
     "user": {
      "displayName": "YU HEN HU",
      "userId": "04083449072545068296"
     },
     "user_tz": 300
    },
    "id": "JEFkJdqDBAZD",
    "outputId": "62b7fe97-afec-4950-8bbb-677a055a4f1f"
   },
   "outputs": [
    {
     "name": "stdout",
     "output_type": "stream",
     "text": [
      "Mounted at /content/drive\n"
     ]
    }
   ],
   "source": [
    "# Load Data\n",
    "import numpy as np\n",
    "\n"
   ]
  },
  {
   "cell_type": "code",
   "execution_count": 2,
   "metadata": {
    "executionInfo": {
     "elapsed": 611,
     "status": "ok",
     "timestamp": 1659123179346,
     "user": {
      "displayName": "YU HEN HU",
      "userId": "04083449072545068296"
     },
     "user_tz": 300
    },
    "id": "_8yX5MdifFkc"
   },
   "outputs": [],
   "source": [
    "# partition into train and test set at 70/30 ratio, stratified\n"
   ]
  },
  {
   "cell_type": "code",
   "execution_count": 3,
   "metadata": {
    "executionInfo": {
     "elapsed": 9,
     "status": "ok",
     "timestamp": 1659123179347,
     "user": {
      "displayName": "YU HEN HU",
      "userId": "04083449072545068296"
     },
     "user_tz": 300
    },
    "id": "BmT9f5-eBTYN"
   },
   "outputs": [],
   "source": [
    "# preprocessing-standardize\n",
    "# Note: fit with training data only, or else data leakage into testing set!\n"
   ]
  },
  {
   "cell_type": "code",
   "execution_count": 4,
   "metadata": {
    "colab": {
     "base_uri": "https://localhost:8080/"
    },
    "executionInfo": {
     "elapsed": 7,
     "status": "ok",
     "timestamp": 1659123179347,
     "user": {
      "displayName": "YU HEN HU",
      "userId": "04083449072545068296"
     },
     "user_tz": 300
    },
    "id": "6Q9qPtKhBXM4",
    "outputId": "7902b53c-dcab-4e72-eba5-0bd36ae91896"
   },
   "outputs": [
    {
     "name": "stdout",
     "output_type": "stream",
     "text": [
      "# features: 11\n",
      "mean:\n",
      "[ 2.0395639e-08 -1.2458205e-08  3.6844295e-08 -1.6361719e-08\n",
      " -1.4034825e-07 -8.1200024e-09  1.5179362e-08 -1.1792261e-07\n",
      " -1.8778592e-09 -4.0226180e-08 -1.7474523e-08]\n",
      "std:\n",
      "[1.0000025  1.0000012  0.99999774 0.9999992  0.99999505 0.9999994\n",
      " 0.99999964 1.0000044  1.0000024  1.         0.99999857]\n"
     ]
    }
   ],
   "source": [
    "# sanity check data info\n",
    "print(f'# features: {scaler.n_features_in_}')\n",
    "print(f'mean:\\n{np.mean(X_train,axis=0)}')\n",
    "print(f'std:\\n{np.std(X_train,axis=0)}')"
   ]
  },
  {
   "cell_type": "code",
   "execution_count": 5,
   "metadata": {
    "executionInfo": {
     "elapsed": 2500,
     "status": "ok",
     "timestamp": 1659123181843,
     "user": {
      "displayName": "YU HEN HU",
      "userId": "04083449072545068296"
     },
     "user_tz": 300
    },
    "id": "3nWCvrzpBZzK"
   },
   "outputs": [],
   "source": [
    "# models\n",
    "\n",
    "clf_a = SVC(kernel='linear').fit(X_train,y_train)\n",
    "clf_b = SVC(kernel='poly').fit(X_train,y_train)\n",
    "clf_c = SVC(kernel='rbf').fit(X_train,y_train)"
   ]
  },
  {
   "cell_type": "code",
   "execution_count": 6,
   "metadata": {
    "colab": {
     "base_uri": "https://localhost:8080/"
    },
    "executionInfo": {
     "elapsed": 1530,
     "status": "ok",
     "timestamp": 1659123183370,
     "user": {
      "displayName": "YU HEN HU",
      "userId": "04083449072545068296"
     },
     "user_tz": 300
    },
    "id": "XzA4MrMbTLqb",
    "outputId": "8c021d13-faa6-4cda-e083-ec35d26705fe"
   },
   "outputs": [
    {
     "name": "stdout",
     "output_type": "stream",
     "text": [
      "Liner Kernel\n",
      "[[  0   0   1   5   0   0   0]\n",
      " [  0   0  27  22   0   0   0]\n",
      " [  0   0 242 195   0   0   0]\n",
      " [  0   0 120 540   0   0   0]\n",
      " [  0   0   6 258   0   0   0]\n",
      " [  0   0   1  52   0   0   0]\n",
      " [  0   0   0   1   0   0   0]]\n",
      "              precision    recall  f1-score   support\n",
      "\n",
      "         3.0       0.00      0.00      0.00         6\n",
      "         4.0       0.00      0.00      0.00        49\n",
      "         5.0       0.61      0.55      0.58       437\n",
      "         6.0       0.50      0.82      0.62       660\n",
      "         7.0       0.00      0.00      0.00       264\n",
      "         8.0       0.00      0.00      0.00        53\n",
      "         9.0       0.00      0.00      0.00         1\n",
      "\n",
      "    accuracy                           0.53      1470\n",
      "   macro avg       0.16      0.20      0.17      1470\n",
      "weighted avg       0.41      0.53      0.45      1470\n",
      "\n",
      "Poly Kernel\n",
      "[[  0   1   1   4   0   0   0]\n",
      " [  0   9  25  15   0   0   0]\n",
      " [  0   5 199 230   2   1   0]\n",
      " [  0   3  90 550  17   0   0]\n",
      " [  0   0   9 215  38   2   0]\n",
      " [  0   0   2  39  12   0   0]\n",
      " [  0   0   0   1   0   0   0]]\n",
      "              precision    recall  f1-score   support\n",
      "\n",
      "         3.0       0.00      0.00      0.00         6\n",
      "         4.0       0.50      0.18      0.27        49\n",
      "         5.0       0.61      0.46      0.52       437\n",
      "         6.0       0.52      0.83      0.64       660\n",
      "         7.0       0.55      0.14      0.23       264\n",
      "         8.0       0.00      0.00      0.00        53\n",
      "         9.0       0.00      0.00      0.00         1\n",
      "\n",
      "    accuracy                           0.54      1470\n",
      "   macro avg       0.31      0.23      0.24      1470\n",
      "weighted avg       0.53      0.54      0.49      1470\n",
      "\n",
      "Gaussian Kernel\n",
      "[[  0   0   2   4   0   0   0]\n",
      " [  0   4  26  19   0   0   0]\n",
      " [  0   2 246 189   0   0   0]\n",
      " [  0   2 121 513  24   0   0]\n",
      " [  0   0   7 187  70   0   0]\n",
      " [  0   0   0  41  12   0   0]\n",
      " [  0   0   0   0   1   0   0]]\n",
      "              precision    recall  f1-score   support\n",
      "\n",
      "         3.0       0.00      0.00      0.00         6\n",
      "         4.0       0.50      0.08      0.14        49\n",
      "         5.0       0.61      0.56      0.59       437\n",
      "         6.0       0.54      0.78      0.64       660\n",
      "         7.0       0.65      0.27      0.38       264\n",
      "         8.0       0.00      0.00      0.00        53\n",
      "         9.0       0.00      0.00      0.00         1\n",
      "\n",
      "    accuracy                           0.57      1470\n",
      "   macro avg       0.33      0.24      0.25      1470\n",
      "weighted avg       0.56      0.57      0.53      1470\n",
      "\n"
     ]
    }
   ],
   "source": [
    "# report\n",
    "# Note: zero_division param for test sample size 0\n",
    "\n",
    "\n",
    "\n",
    "\n",
    "\n"
   ]
  }
 ],
 "metadata": {
  "colab": {
   "name": "SVM_Kernel_Demo(W12_3).ipynb",
   "provenance": []
  },
  "kernelspec": {
   "display_name": "Python 3 (ipykernel)",
   "language": "python",
   "name": "python3"
  },
  "language_info": {
   "codemirror_mode": {
    "name": "ipython",
    "version": 3
   },
   "file_extension": ".py",
   "mimetype": "text/x-python",
   "name": "python",
   "nbconvert_exporter": "python",
   "pygments_lexer": "ipython3",
   "version": "3.9.6"
  }
 },
 "nbformat": 4,
 "nbformat_minor": 4
}
