{
 "cells": [
  {
   "cell_type": "code",
   "execution_count": 1,
   "id": "b7ffecaa-6356-4846-9892-706f59dadc5c",
   "metadata": {},
   "outputs": [
    {
     "name": "stdout",
     "output_type": "stream",
     "text": [
      "X\n",
      "[[[-1]\n",
      "  [-1]]\n",
      "\n",
      " [[-1]\n",
      "  [ 1]]\n",
      "\n",
      " [[ 1]\n",
      "  [-1]]\n",
      "\n",
      " [[ 1]\n",
      "  [ 1]]]\n",
      "\n",
      "f\n",
      "[[-0.125]\n",
      " [ 0.125]\n",
      " [ 0.125]\n",
      " [-0.125]]\n"
     ]
    }
   ],
   "source": [
    "# Question 1\n",
    "\n",
    "# Setup\n",
    "import numpy as np\n",
    "\n",
    "X = np.array([\n",
    "    [-1, -1,],\n",
    "    [-1,  1,],\n",
    "    [ 1, -1,],\n",
    "    [ 1,  1,],\n",
    "]).reshape(4, 2, 1)\n",
    "\n",
    "f = np.array([-1, 1, 1, -1]).reshape(4, 1) / 8\n",
    "\n",
    "print(f'X\\n{X}')\n",
    "print()\n",
    "print(f'f\\n{f}')"
   ]
  },
  {
   "cell_type": "code",
   "execution_count": 2,
   "id": "637da2af-4cf3-418c-af09-0272ae983da1",
   "metadata": {},
   "outputs": [
    {
     "name": "stdout",
     "output_type": "stream",
     "text": [
      "Verified phi\n",
      "Verified K\n"
     ]
    }
   ],
   "source": [
    "# Question 1, part (a)\n",
    "sqrt_2 = 2 ** 0.5\n",
    "\n",
    "def PHI(x):\n",
    "    x = x.flatten()\n",
    "    return np.array([\n",
    "        [1, x[0] ** 2, x[1] ** 2,\n",
    "         sqrt_2 * x[0], sqrt_2 * x[1], sqrt_2 * np.prod(x)]\n",
    "    ])\n",
    "\n",
    "known_PHI = np.array([\n",
    "    [1, 1, 1, -sqrt_2, -sqrt_2,  sqrt_2,],\n",
    "    [1, 1, 1, -sqrt_2,  sqrt_2, -sqrt_2,],\n",
    "    [1, 1, 1,  sqrt_2, -sqrt_2, -sqrt_2,],\n",
    "    [1, 1, 1,  sqrt_2,  sqrt_2,  sqrt_2,],\n",
    "])\n",
    "\n",
    "phi = np.empty_like(known_PHI)\n",
    "\n",
    "for idx, x in enumerate(X):\n",
    "    phi[idx] = PHI(x.T)\n",
    "\n",
    "np.testing.assert_array_almost_equal(known_PHI, phi) # floating point errors\n",
    "print('Verified phi')\n",
    "\n",
    "known_K = np.diag([9,] * 4)\n",
    "known_K[known_K == 0] = 1\n",
    "\n",
    "K_ = phi @ phi.T\n",
    "np.testing.assert_array_almost_equal(known_K, K_) # floating point errors\n",
    "print('Verified K')"
   ]
  },
  {
   "cell_type": "code",
   "execution_count": 3,
   "id": "6a933892-17b0-4206-90de-814401da58eb",
   "metadata": {},
   "outputs": [
    {
     "name": "stdout",
     "output_type": "stream",
     "text": [
      "Verified K calculated directly\n"
     ]
    }
   ],
   "source": [
    "# Question 1, part(b)\n",
    "def K(x, y):\n",
    "    return (1 + np.dot(x.T, y)) ** 2\n",
    "\n",
    "K_2 = np.empty_like(known_K)\n",
    "\n",
    "for i, x in enumerate(X):\n",
    "    for j, y in enumerate(X):\n",
    "        K_2[i][j] = K(x, y)\n",
    "\n",
    "np.testing.assert_array_almost_equal(known_K, K_2) # floating point errors\n",
    "print('Verified K calculated directly')"
   ]
  },
  {
   "cell_type": "code",
   "execution_count": 4,
   "id": "4d9e253c-34df-4b7f-8617-74b7e11f3efc",
   "metadata": {},
   "outputs": [
    {
     "name": "stdout",
     "output_type": "stream",
     "text": [
      "g(y) = 0.14\n"
     ]
    }
   ],
   "source": [
    "# Question 1, part (c)\n",
    "def _K(X, y):\n",
    "    result = np.empty((1, len(X),))\n",
    "    for i, x in enumerate(X):\n",
    "        result[0][i] = K(x, y)\n",
    "    return result\n",
    "\n",
    "def g(y):\n",
    "    return np.dot(f.T, _K(X, y).T)\n",
    "\n",
    "y = np.array([[0.7, -0.2]]).T\n",
    "print(f'g(y) = {g(y)[0][0]}')"
   ]
  },
  {
   "cell_type": "code",
   "execution_count": 5,
   "id": "8a924e17-2f98-4770-89cb-65e9399a5ef5",
   "metadata": {},
   "outputs": [],
   "source": [
    "# Question 2\n",
    "\n",
    "filename = 'wine.csv'\n",
    "data = np.genfromtxt(filename, dtype='f4', delimiter=',', skip_header=1)\n",
    "X = data[:,:-1]\n",
    "y = data[:,-1]"
   ]
  },
  {
   "cell_type": "code",
   "execution_count": 6,
   "id": "c4cef6ef-e698-42a8-9e63-c046414c635f",
   "metadata": {},
   "outputs": [],
   "source": [
    "# Partition the data\n",
    "from sklearn.model_selection import train_test_split\n",
    "\n",
    "X_train, X_test, y_train, y_test = train_test_split(\n",
    "    X,\n",
    "    y,\n",
    "    train_size=0.7, \n",
    "    shuffle=True,\n",
    "    stratify=y\n",
    ")"
   ]
  },
  {
   "cell_type": "code",
   "execution_count": 7,
   "id": "54e4b30d-7900-480f-bb44-2c3293d679ee",
   "metadata": {},
   "outputs": [],
   "source": [
    "# Preprocess the data\n",
    "from sklearn.preprocessing import StandardScaler\n",
    "\n",
    "scaler = StandardScaler().fit(X_train)\n",
    "X_train = scaler.transform(X_train)\n",
    "X_test = scaler.transform(X_test)"
   ]
  },
  {
   "cell_type": "code",
   "execution_count": 8,
   "id": "756cafc2-4a82-4124-8990-42f7ec3e436a",
   "metadata": {},
   "outputs": [],
   "source": [
    "# Setup\n",
    "\n",
    "from sklearn.svm import SVC\n",
    "from sklearn.metrics import classification_report\n",
    "from sklearn.metrics import confusion_matrix"
   ]
  },
  {
   "cell_type": "code",
   "execution_count": 9,
   "id": "1431a177-b61f-41c8-9420-8d5577862348",
   "metadata": {},
   "outputs": [
    {
     "name": "stdout",
     "output_type": "stream",
     "text": [
      "Linear Kernel\n",
      "[[18  0  0]\n",
      " [ 0 21  1]\n",
      " [ 0  0 14]]\n",
      "              precision    recall  f1-score   support\n",
      "\n",
      "         1.0       1.00      1.00      1.00        18\n",
      "         2.0       1.00      0.95      0.98        22\n",
      "         3.0       0.93      1.00      0.97        14\n",
      "\n",
      "    accuracy                           0.98        54\n",
      "   macro avg       0.98      0.98      0.98        54\n",
      "weighted avg       0.98      0.98      0.98        54\n",
      "\n"
     ]
    }
   ],
   "source": [
    "# Question 2, part (a)\n",
    "\n",
    "clf_a = SVC(kernel='linear').fit(X_train,y_train)\n",
    "\n",
    "print('Linear Kernel')\n",
    "print(confusion_matrix(y_test, clf_a.predict(X_test)))\n",
    "print(classification_report(y_test, clf_a.predict(X_test),zero_division=0))"
   ]
  },
  {
   "cell_type": "code",
   "execution_count": 10,
   "id": "57a91b39-91d3-4b64-9d71-db3d7cb39695",
   "metadata": {},
   "outputs": [
    {
     "name": "stdout",
     "output_type": "stream",
     "text": [
      "Polynomial Kernel\n",
      "[[15  3  0]\n",
      " [ 0 22  0]\n",
      " [ 0  0 14]]\n",
      "              precision    recall  f1-score   support\n",
      "\n",
      "         1.0       1.00      0.83      0.91        18\n",
      "         2.0       0.88      1.00      0.94        22\n",
      "         3.0       1.00      1.00      1.00        14\n",
      "\n",
      "    accuracy                           0.94        54\n",
      "   macro avg       0.96      0.94      0.95        54\n",
      "weighted avg       0.95      0.94      0.94        54\n",
      "\n"
     ]
    }
   ],
   "source": [
    "# Question 2, part (b)\n",
    "\n",
    "clf_b = SVC(kernel='poly').fit(X_train,y_train)\n",
    "\n",
    "print('Polynomial Kernel')\n",
    "print(confusion_matrix(y_test, clf_b.predict(X_test)))\n",
    "print(classification_report(y_test, clf_b.predict(X_test),zero_division=0))"
   ]
  },
  {
   "cell_type": "code",
   "execution_count": 11,
   "id": "86e30fe1-f75d-40ff-8251-3a862460007f",
   "metadata": {},
   "outputs": [
    {
     "name": "stdout",
     "output_type": "stream",
     "text": [
      "Radial Basis (Gaussian) Kernel\n",
      "[[18  0  0]\n",
      " [ 0 21  1]\n",
      " [ 0  0 14]]\n",
      "              precision    recall  f1-score   support\n",
      "\n",
      "         1.0       1.00      1.00      1.00        18\n",
      "         2.0       1.00      0.95      0.98        22\n",
      "         3.0       0.93      1.00      0.97        14\n",
      "\n",
      "    accuracy                           0.98        54\n",
      "   macro avg       0.98      0.98      0.98        54\n",
      "weighted avg       0.98      0.98      0.98        54\n",
      "\n"
     ]
    }
   ],
   "source": [
    "# Question 2, part (c)\n",
    "\n",
    "clf_c = SVC(kernel='rbf').fit(X_train,y_train)\n",
    "\n",
    "print('Radial Basis (Gaussian) Kernel')\n",
    "print(confusion_matrix(y_test, clf_c.predict(X_test)))\n",
    "print(classification_report(y_test, clf_c.predict(X_test),zero_division=0))"
   ]
  }
 ],
 "metadata": {
  "kernelspec": {
   "display_name": "Python 3 (ipykernel)",
   "language": "python",
   "name": "python3"
  },
  "language_info": {
   "codemirror_mode": {
    "name": "ipython",
    "version": 3
   },
   "file_extension": ".py",
   "mimetype": "text/x-python",
   "name": "python",
   "nbconvert_exporter": "python",
   "pygments_lexer": "ipython3",
   "version": "3.9.6"
  }
 },
 "nbformat": 4,
 "nbformat_minor": 5
}
