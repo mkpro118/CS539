{
 "cells": [
  {
   "cell_type": "code",
   "execution_count": 1,
   "id": "3521904c-64df-4704-bf99-3296f50441e5",
   "metadata": {},
   "outputs": [
    {
     "name": "stdout",
     "output_type": "stream",
     "text": [
      "X.shape = (150, 4)\n",
      "y.shape = (150,)\n"
     ]
    }
   ],
   "source": [
    "# Setup\n",
    "\n",
    "from sklearn.model_selection import train_test_split\n",
    "from sklearn.neighbors import KNeighborsClassifier as kNN\n",
    "from sklearn.metrics import confusion_matrix\n",
    "import numpy as np\n",
    "\n",
    "filename = 'iris.csv'\n",
    "\n",
    "data = np.genfromtxt(filename, delimiter=',')\n",
    "X, y = data[:, :-1], data[:, -1]\n",
    "\n",
    "print(f'{X.shape = }')\n",
    "print(f'{y.shape = }')"
   ]
  },
  {
   "cell_type": "code",
   "execution_count": 2,
   "id": "b644c432-a55d-426e-aba4-55a926229d84",
   "metadata": {},
   "outputs": [
    {
     "name": "stdout",
     "output_type": "stream",
     "text": [
      "X_train.shape = (105, 4)\n",
      "y_train.shape = (105,)\n",
      "X_test.shape = (45, 4)\n",
      "y_test.shape = (45,)\n"
     ]
    }
   ],
   "source": [
    "# Question 1 part (a)\n",
    "\n",
    "X_train, X_test, y_train, y_test = train_test_split(X, y, test_size=0.3, stratify=y)\n",
    "print(f'{X_train.shape = }')\n",
    "print(f'{y_train.shape = }')\n",
    "print(f'{X_test.shape = }')\n",
    "print(f'{y_test.shape = }')"
   ]
  },
  {
   "cell_type": "code",
   "execution_count": 3,
   "id": "c9fb5157-0e16-457a-8c37-4e7c9b4e69a9",
   "metadata": {},
   "outputs": [],
   "source": [
    "# Question 1 part (b)\n",
    "\n",
    "def models():\n",
    "    yield from [kNN(n_neighbors=i).fit(X_train, y_train) for i in range(1, 10)]"
   ]
  },
  {
   "cell_type": "code",
   "execution_count": 5,
   "id": "78e29bb9-fc84-4fb3-bf0c-69501e23c85d",
   "metadata": {},
   "outputs": [
    {
     "name": "stdout",
     "output_type": "stream",
     "text": [
      "Best classification rate was achieved with k = 8: 100.0%\n",
      "For other values of k\n",
      "Classification rate achieved with k = 1: 95.556%\n",
      "Classification rate achieved with k = 2: 93.333%\n",
      "Classification rate achieved with k = 3: 95.556%\n",
      "Classification rate achieved with k = 4: 97.778%\n",
      "Classification rate achieved with k = 5: 95.556%\n",
      "Classification rate achieved with k = 6: 95.556%\n",
      "Classification rate achieved with k = 7: 97.778%\n",
      "Classification rate achieved with k = 9: 100.0%\n"
     ]
    }
   ],
   "source": [
    "# Question 1 part (c)\n",
    "\n",
    "classification_rates = []\n",
    "    \n",
    "for model in models():\n",
    "    y_pred = model.predict(X_test)\n",
    "    cm = confusion_matrix(y_test, y_pred)\n",
    "    acc = np.trace(cm) / np.sum(cm)\n",
    "    classification_rates.append(acc)\n",
    "\n",
    "\n",
    "best_k = np.argmax(classification_rates) + 1\n",
    "best_acc = classification_rates[best_k - 1] * 100\n",
    "print(f'Best classification rate was achieved with k = {best_k}: {best_acc:.5}%')\n",
    "\n",
    "\n",
    "print('For other values of k')\n",
    "for idx, val in enumerate(classification_rates, 1):\n",
    "    if idx == best_k:\n",
    "        continue\n",
    "    print(f'Classification rate achieved with k = {idx}: {(val*100):.5}%')"
   ]
  }
 ],
 "metadata": {
  "kernelspec": {
   "display_name": "Python 3 (ipykernel)",
   "language": "python",
   "name": "python3"
  },
  "language_info": {
   "codemirror_mode": {
    "name": "ipython",
    "version": 3
   },
   "file_extension": ".py",
   "mimetype": "text/x-python",
   "name": "python",
   "nbconvert_exporter": "python",
   "pygments_lexer": "ipython3",
   "version": "3.9.6"
  }
 },
 "nbformat": 4,
 "nbformat_minor": 5
}
