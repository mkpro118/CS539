{
 "cells": [
  {
   "cell_type": "markdown",
   "id": "2997ec1b-d275-4cb9-b5a6-cb7f12b2651f",
   "metadata": {},
   "source": [
    "# Question 1\n",
    "\n",
    "## Part (a)\n",
    "<img src='./img.jpg' height=\"500px\" width=\"600px\">"
   ]
  },
  {
   "cell_type": "markdown",
   "id": "7254ca39-b698-49d0-bba2-00010fb49de3",
   "metadata": {},
   "source": [
    "## Part (b)\n",
    "\n",
    "<div style=\"font-size:16px;\">\n",
    "Replacing values by their means in not always applicable, for example with Date/Time data, or demographic data.\n",
    "</div>"
   ]
  },
  {
   "cell_type": "markdown",
   "id": "b9d72d10-19fc-436d-8267-3b3e2356f1ec",
   "metadata": {},
   "source": [
    "## Part (c)\n",
    "\n",
    "<div style=\"font-size:16px\">\n",
    "Using <code>max_epochs=10</code>, <code>k_fold=5</code>, <code>lr=0.0200</code>, I got a score of <code>0.38186</code> on Kaggle<br>\n",
    "Using <code>max_epochs=15</code>, <code>k_fold=5</code>, <code>lr=0.0118</code>, I got a score of <code>0.37430</code> on Kaggle\n",
    "</div>"
   ]
  },
  {
   "cell_type": "markdown",
   "id": "e8d3bb74-faf9-43fa-a521-b5919f8339db",
   "metadata": {
    "jp-MarkdownHeadingCollapsed": true,
    "tags": []
   },
   "source": [
    "## Part (d)\n",
    "\n",
    "<div style=\"font-size:16px;\">\n",
    "Using <code>weight_decay=2</code>, <code>k_fold=4</code>, <code>lr=0.005</code>, I got a worse score of <code>0.76251</code> on Kaggle\n",
    "</div>"
   ]
  },
  {
   "cell_type": "markdown",
   "id": "9666c58c-9d4f-4b1a-85b3-7ee4145a0a81",
   "metadata": {},
   "source": [
    "## Part (e)\n",
    "\n",
    "<div style=\"font-size:16px;\">\n",
    "If we don't normalize our features, we might prioritize less relevant features over more relevant features.<br>\n",
    "Training without normalizing cause the average validation error to be <code>nan</code>\n",
    "</div>"
   ]
  }
 ],
 "metadata": {
  "kernelspec": {
   "display_name": "Python 3 (ipykernel)",
   "language": "python",
   "name": "python3"
  },
  "language_info": {
   "codemirror_mode": {
    "name": "ipython",
    "version": 3
   },
   "file_extension": ".py",
   "mimetype": "text/x-python",
   "name": "python",
   "nbconvert_exporter": "python",
   "pygments_lexer": "ipython3",
   "version": "3.9.6"
  }
 },
 "nbformat": 4,
 "nbformat_minor": 5
}
