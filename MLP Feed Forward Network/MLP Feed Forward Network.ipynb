{
 "cells": [
  {
   "cell_type": "markdown",
   "id": "f7e5a8c2-68f3-485e-a04b-d2abddcdcf28",
   "metadata": {},
   "source": [
    "# Question 1\n",
    "\n",
    "## Part (a)\n",
    "We know, $y=1$ when all $x_{m} = 1$ and $y=0$ when any $x_{m} = 0 \\left(1 \\le m \\le M\\right)$<br>\n",
    "Let weights $w = \\begin{bmatrix}w_{1} \\\\ w_{2} \\\\ \\vdots \\\\ w_{m}\\end{bmatrix}$<br>\n",
    "<br>\n",
    "We need, $w^{T}X + b \\gt O$, when $X = \\begin{bmatrix}1 \\\\ 1 \\\\ \\vdots \\\\1\\end{bmatrix}$<br>\n",
    "And, \n",
    "$w^{T}X + b \\lt O$, when any $x_{m} = 0$<br>\n",
    "<br>\n",
    "For simplicity, let's assume $w^{T} = \\begin{bmatrix}w & w & \\cdots & w\\end{bmatrix}$, then<br>\n",
    "$\\begin{bmatrix}w & w & \\cdots & w\\end{bmatrix} \\times \\begin{bmatrix}1 \\\\ 1 \\\\ \\vdots \\\\1\\end{bmatrix} + b \\gt O \\Rightarrow mw + b \\gt 0$<br>\n",
    "and,<br>\n",
    "$\\begin{bmatrix}w & w & \\cdots & w\\end{bmatrix} \\times \\begin{bmatrix}1 \\\\ \\vdots \\\\ 0 \\\\ \\vdots \\\\1\\end{bmatrix} + b \\lt O \\Rightarrow (m-1)w + b \\lt 0$<br>\n",
    "Using the above inequalities<br>\n",
    "$-mw \\lt b \\lt (1-m)w$<br>\n",
    "Any $w$ and $b$ satisfying the above inequality is a solution"
   ]
  },
  {
   "cell_type": "markdown",
   "id": "1881dc94-ac5c-4cc0-b27b-add38aeb159f",
   "metadata": {},
   "source": [
    "## Part (b)\n",
    "\n",
    "We know $y = 1$ when any $x_{m} = 1$ and $y=0$ when all $x_{m} = 0 \\left(1 \\le m \\le M\\right)$<br>\n",
    "<br>\n",
    "We need $w^{T}X + b \\gt O$, when $X = \\begin{bmatrix}0 \\\\ \\vdots \\\\ 1 \\\\ \\vdots \\\\ 0\\end{bmatrix}$<br>\n",
    "and<br>\n",
    "$w^{T}X + b \\lt 0$, when $X = \\begin{bmatrix}0 \\\\ 0 \\\\ \\vdots \\\\ 0\\end{bmatrix}$<br>\n",
    "<br>\n",
    "Using $w^{T} = \\begin{bmatrix}w & w & \\cdots & w\\end{bmatrix}$<br>\n",
    "$w^{T}X + b \\gt O \\Rightarrow w(1) + b \\gt 0$<br>\n",
    "and<br>\n",
    "$w^{T}X + b \\lt O \\Rightarrow b \\lt 0$<br>\n",
    "We get the inequality<br>\n",
    "$-w \\lt b \\lt 0$<br>\n",
    "<br>\n",
    "Any values of $w$ and $b$ satisfying the above inequality are valid solutions"
   ]
  },
  {
   "cell_type": "markdown",
   "id": "a35a84fa-c406-4be8-b163-74d8a458d0dc",
   "metadata": {},
   "source": [
    "## Part (c)\n",
    "\n",
    "We know, $y = 1$ when $x = 0$, and $y = 0$ when $x = 1$<br>\n",
    "<br>\n",
    "We need $w^{T}X + b \\gt O$ when $x = 1$<br>\n",
    "and<br>\n",
    "$w^{T}X + b \\lt O$ when $x = 0$<br>\n",
    "<br>\n",
    "Using $w^{T} = w$,<br>\n",
    "$w(1) + b \\gt 0 \\Rightarrow b \\gt -w$<br>\n",
    "and<br>\n",
    "$w(0) + b \\lt 0 \\Rightarrow b \\lt 0$<br>\n",
    "We get the inequality<br>\n",
    "$-w \\lt b \\lt 0$<br>\n",
    "<br>\n",
    "Any values of $w$ and $b$ satisfying the above inequality are valid solutions"
   ]
  },
  {
   "cell_type": "markdown",
   "id": "f3459394-515b-47d9-a22f-bf39c62056e0",
   "metadata": {},
   "source": [
    "## Part (d)\n",
    "\n",
    "We know $y=1$ when majority of inputs are $1$, $y=0$ when majority of inputs are $0$<br>\n",
    "<br>\n",
    "We need $w^{T}X+b \\gt O$ when at least $\\displaystyle \\frac{m+1}{2}$ inputs are 1<br>\n",
    "and<br>\n",
    "$w^{T}X+b \\lt O$ when at most $\\displaystyle \\frac{m-1}{2}$ inputs are 1<br>\n",
    "<br>\n",
    "Using $w^{T} = \\begin{bmatrix}w & w & \\cdots & w\\end{bmatrix}$<br>\n",
    "$\\displaystyle w\\left(\\frac{m+1}{2}\\right) + b \\gt 0 \\Rightarrow b \\gt -w\\left(\\frac{m+1}{2}\\right)$<br>\n",
    "and<br>\n",
    "$\\displaystyle w\\left(\\frac{m-1}{2}\\right) + b \\lt 0 \\Rightarrow b \\lt w\\left(\\frac{1-m}{2}\\right)$<br>\n",
    "We get the inequality,<br>\n",
    "$\\displaystyle -w\\left(\\frac{m+1}{2}\\right) \\lt b \\lt w\\left(\\frac{1-m}{2}\\right)$<br>\n",
    "<br>\n",
    "Any values of $w$ and $b$ satisfying the above inequality are valid solutions"
   ]
  },
  {
   "cell_type": "code",
   "execution_count": 6,
   "id": "cf0d3a0f-dc8b-439b-84e2-b9d7b727ef5c",
   "metadata": {},
   "outputs": [
    {
     "name": "stdout",
     "output_type": "stream",
     "text": [
      "z1.shape = (100, 3)\n"
     ]
    }
   ],
   "source": [
    "# Question 2\n",
    "\n",
    "# Setup\n",
    "import numpy as np\n",
    "\n",
    "filename = 'Ex_FFnetData.csv'\n",
    "data = np.genfromtxt(filename, delimiter=',')\n",
    "\n",
    "weights1 = np.array([\n",
    "    [-5, 2, -5],\n",
    "    [-5, 5, -1],\n",
    "])\n",
    "\n",
    "bias1 = np.array([1, 5, 4])\n",
    "\n",
    "z1 = data @ weights1 + bias1\n",
    "print(f'{z1.shape = }')"
   ]
  },
  {
   "cell_type": "code",
   "execution_count": 9,
   "id": "64f740c6-0171-4cb9-9c3e-ce138e9139b2",
   "metadata": {},
   "outputs": [
    {
     "name": "stdout",
     "output_type": "stream",
     "text": [
      "z.shape = (100, 1)\n"
     ]
    }
   ],
   "source": [
    "weights2 = np.array([\n",
    "    [1, 1, 1]\n",
    "]).T\n",
    "\n",
    "bias2 = -2.5\n",
    "\n",
    "z = z1 @ weights2 + bias2\n",
    "print(f'{z.shape = }')"
   ]
  },
  {
   "cell_type": "code",
   "execution_count": 10,
   "id": "9eb0a820-e4c9-415b-8293-512cf5272145",
   "metadata": {},
   "outputs": [
    {
     "name": "stdout",
     "output_type": "stream",
     "text": [
      "[[ 7.5    ]\n",
      " [ 7.38889]\n",
      " [ 7.27778]\n",
      " [ 7.16667]\n",
      " [ 7.05556]\n",
      " [ 6.94444]\n",
      " [ 6.83333]\n",
      " [ 6.72222]\n",
      " [ 6.61111]\n",
      " [ 6.5    ]\n",
      " [ 6.61112]\n",
      " [ 6.50001]\n",
      " [ 6.3889 ]\n",
      " [ 6.27779]\n",
      " [ 6.16668]\n",
      " [ 6.05556]\n",
      " [ 5.94445]\n",
      " [ 5.83334]\n",
      " [ 5.72223]\n",
      " [ 5.61112]\n",
      " [ 5.72224]\n",
      " [ 5.61113]\n",
      " [ 5.50002]\n",
      " [ 5.38891]\n",
      " [ 5.2778 ]\n",
      " [ 5.16668]\n",
      " [ 5.05557]\n",
      " [ 4.94446]\n",
      " [ 4.83335]\n",
      " [ 4.72224]\n",
      " [ 4.83336]\n",
      " [ 4.72225]\n",
      " [ 4.61114]\n",
      " [ 4.50003]\n",
      " [ 4.38892]\n",
      " [ 4.2778 ]\n",
      " [ 4.16669]\n",
      " [ 4.05558]\n",
      " [ 3.94447]\n",
      " [ 3.83336]\n",
      " [ 3.94448]\n",
      " [ 3.83337]\n",
      " [ 3.72226]\n",
      " [ 3.61115]\n",
      " [ 3.50004]\n",
      " [ 3.38892]\n",
      " [ 3.27781]\n",
      " [ 3.1667 ]\n",
      " [ 3.05559]\n",
      " [ 2.94448]\n",
      " [ 3.05552]\n",
      " [ 2.94441]\n",
      " [ 2.8333 ]\n",
      " [ 2.72219]\n",
      " [ 2.61108]\n",
      " [ 2.49996]\n",
      " [ 2.38885]\n",
      " [ 2.27774]\n",
      " [ 2.16663]\n",
      " [ 2.05552]\n",
      " [ 2.16664]\n",
      " [ 2.05553]\n",
      " [ 1.94442]\n",
      " [ 1.83331]\n",
      " [ 1.7222 ]\n",
      " [ 1.61108]\n",
      " [ 1.49997]\n",
      " [ 1.38886]\n",
      " [ 1.27775]\n",
      " [ 1.16664]\n",
      " [ 1.27776]\n",
      " [ 1.16665]\n",
      " [ 1.05554]\n",
      " [ 0.94443]\n",
      " [ 0.83332]\n",
      " [ 0.7222 ]\n",
      " [ 0.61109]\n",
      " [ 0.49998]\n",
      " [ 0.38887]\n",
      " [ 0.27776]\n",
      " [ 0.38888]\n",
      " [ 0.27777]\n",
      " [ 0.16666]\n",
      " [ 0.05555]\n",
      " [-0.05556]\n",
      " [-0.16668]\n",
      " [-0.27779]\n",
      " [-0.3889 ]\n",
      " [-0.50001]\n",
      " [-0.61112]\n",
      " [-0.5    ]\n",
      " [-0.61111]\n",
      " [-0.72222]\n",
      " [-0.83333]\n",
      " [-0.94444]\n",
      " [-1.05556]\n",
      " [-1.16667]\n",
      " [-1.27778]\n",
      " [-1.38889]\n",
      " [-1.5    ]]\n"
     ]
    }
   ],
   "source": [
    "print(z)"
   ]
  }
 ],
 "metadata": {
  "kernelspec": {
   "display_name": "Python 3 (ipykernel)",
   "language": "python",
   "name": "python3"
  },
  "language_info": {
   "codemirror_mode": {
    "name": "ipython",
    "version": 3
   },
   "file_extension": ".py",
   "mimetype": "text/x-python",
   "name": "python",
   "nbconvert_exporter": "python",
   "pygments_lexer": "ipython3",
   "version": "3.9.6"
  }
 },
 "nbformat": 4,
 "nbformat_minor": 5
}
