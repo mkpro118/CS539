{
 "cells": [
  {
   "cell_type": "code",
   "execution_count": 1,
   "id": "9077ea90-8929-4dbe-a9da-50ac54a009b8",
   "metadata": {},
   "outputs": [],
   "source": [
    "# Setup\n",
    "import numpy as np\n",
    "\n",
    "X = np.zeros((2,3,4)) # Used in Question 4 from Section 2.3.13\n",
    "\n",
    "np.random.seed(0) # For reproducibility of results\n",
    "_randint = np.random.randint # Used in Question 5 from Section 2.3.13\n",
    "\n",
    "A = np.arange(20).reshape((5,4)) # Used in Question 6 from Section 2.3.13"
   ]
  },
  {
   "cell_type": "code",
   "execution_count": 2,
   "id": "1a715b0e-41ee-4381-80cf-73278fbcb48e",
   "metadata": {},
   "outputs": [
    {
     "name": "stdout",
     "output_type": "stream",
     "text": [
      "len(X) = 2\n"
     ]
    }
   ],
   "source": [
    "# Section 2.3.13 Question 4\n",
    "\n",
    "# The answer to the question is 2, which is verified below\n",
    "print(f'{len(X) = }')"
   ]
  },
  {
   "cell_type": "code",
   "execution_count": 3,
   "id": "5e765e0a-c463-4b69-9215-628d03effa5d",
   "metadata": {},
   "outputs": [
    {
     "name": "stdout",
     "output_type": "stream",
     "text": [
      "T.shape = (6, 1, 4, 4, 8, 4, 6, 3) | T.shape[0] == len(T) = True\n"
     ]
    }
   ],
   "source": [
    "# Section 2.3.13 Question 5\n",
    "\n",
    "# Yes, for a tensor X of arbitrary shape, the value of len(X)\n",
    "# is always the length of the 0th axis of the tensor.\n",
    "# For example: if we have a tensor T of shape (a, b, c, ... , n)\n",
    "# the value of len(T) will be equal to `a`.\n",
    "\n",
    "random_dimensions = tuple([_randint(1, 10) for i in range(_randint(4, 10))])\n",
    "# random_dimensions = (6, 1, 4, 4, 8, 4, 6, 3) if numpy.random.seed(0)\n",
    "# Warning: The above result has been computed on numpy==1.22.4\n",
    "#          might not be the same on different versions of numpy\n",
    "\n",
    "T = np.zeros(random_dimensions)\n",
    "\n",
    "print(f'{T.shape = }', f'{T.shape[0] == len(T) = }', sep=' | ')"
   ]
  },
  {
   "cell_type": "code",
   "execution_count": 6,
   "id": "fa27a4bf-fac7-4bd4-8abb-b7afe4d4d42b",
   "metadata": {},
   "outputs": [
    {
     "name": "stdout",
     "output_type": "stream",
     "text": [
      "[[ 0  1  2  3]\n",
      " [ 4  5  6  7]\n",
      " [ 8  9 10 11]\n",
      " [12 13 14 15]\n",
      " [16 17 18 19]]\n",
      "[40 45 50 55]\n"
     ]
    },
    {
     "ename": "ValueError",
     "evalue": "operands could not be broadcast together with shapes (5,4) (5,) ",
     "output_type": "error",
     "traceback": [
      "\u001b[1;31m---------------------------------------------------------------------------\u001b[0m",
      "\u001b[1;31mValueError\u001b[0m                                Traceback (most recent call last)",
      "Input \u001b[1;32mIn [6]\u001b[0m, in \u001b[0;36m<cell line: 27>\u001b[1;34m()\u001b[0m\n\u001b[0;32m     24\u001b[0m \u001b[38;5;28mprint\u001b[39m(A)\n\u001b[0;32m     25\u001b[0m \u001b[38;5;28mprint\u001b[39m(A\u001b[38;5;241m.\u001b[39msum(axis\u001b[38;5;241m=\u001b[39m\u001b[38;5;241m0\u001b[39m))\n\u001b[1;32m---> 27\u001b[0m A_sum_axis_1 \u001b[38;5;241m=\u001b[39m \u001b[43mA\u001b[49m\u001b[43m \u001b[49m\u001b[38;5;241;43m/\u001b[39;49m\u001b[43m \u001b[49m\u001b[43mA\u001b[49m\u001b[38;5;241;43m.\u001b[39;49m\u001b[43msum\u001b[49m\u001b[43m(\u001b[49m\u001b[43maxis\u001b[49m\u001b[38;5;241;43m=\u001b[39;49m\u001b[38;5;241;43m1\u001b[39;49m\u001b[43m)\u001b[49m\n",
      "\u001b[1;31mValueError\u001b[0m: operands could not be broadcast together with shapes (5,4) (5,) "
     ]
    }
   ],
   "source": [
    "# Section 2.3.13 Question 6\n",
    "\n",
    "# The operation produces a ValueError\n",
    "# The operation A.sum(axis=1) produces a vector with the same length\n",
    "# as the dimension of the 0th axis of the matrix, and loses the matrix A's\n",
    "# second dimension, effectively making it 0.\n",
    "# The value error is raised because the arrays now cannot be broadcast together\n",
    "# because, according to the numpy docs, broadcasting of arrays is only possible\n",
    "# if they have equal dimensions, or if one dimension has length 1,\n",
    "# starting from the rightmost dimension.\n",
    "# Our dimensions are (5,4) and (5,), so comparing dimensions from the righmost dimension\n",
    "# 4 [from (5,4)] and 5 [from (5,)] are neither equal, nor equal to 1, \n",
    "# so broadcast is not possible which causes numpy to raise a ValueError.\n",
    "\n",
    "# Reference to Array Broadcasting: \n",
    "#     https://numpy.org/doc/stable/user/basics.broadcasting.html\n",
    "\n",
    "# Note:\n",
    "# As a counter example, `A.sum(axis=0)` will produce a vector of dimension (4,)\n",
    "# Now comparing dimensions from the rightmost dimension,\n",
    "# 4 [from (5,4)] and 4 [from (4,)] are equal, so they are brodcastable.\n",
    "# and A / A.sum(axis=0) will work without any [runtime] error.\n",
    "\n",
    "print(A)\n",
    "print(A.sum(axis=0))\n",
    "\n",
    "A_sum_axis_1 = A / A.sum(axis=1)"
   ]
  },
  {
   "cell_type": "code",
   "execution_count": null,
   "id": "f4e6201a-deb3-4a8a-8735-54dec02f86d2",
   "metadata": {},
   "outputs": [],
   "source": [
    "# Question:\n",
    "# When traveling between two points in Manhattan, New York City, what is the distance that \n",
    "# you need to cover in terms of the coordinates, i.e., in terms of avenues and streets? Can you \n",
    "# travel diagonally? This kind of distance is what type of norm we learned in this module?\n",
    "\n",
    "# Answer:\n",
    "# The distance covered is equal to the sum of the length of the avenues and streets \n",
    "# that we have to travel through to reach from one point to another. \n",
    "# Mathematically, distance (d) in terms of avenues (a) and streets (s) is,\n",
    "# d = sum(|a|) + sum(abs|s|) \n",
    "# Realistically, its not possible to travel diagonally between two points in Manhattan, due to the\n",
    "# presence of path obstructive infrastructure. We are limited to travelling between two points using\n",
    "# the streets and avenues in the city.\n",
    "# This is the L1 norm that we learned in this module, where the norm is the sum of the absolute values."
   ]
  }
 ],
 "metadata": {
  "kernelspec": {
   "display_name": "Python 3 (ipykernel)",
   "language": "python",
   "name": "python3"
  },
  "language_info": {
   "codemirror_mode": {
    "name": "ipython",
    "version": 3
   },
   "file_extension": ".py",
   "mimetype": "text/x-python",
   "name": "python",
   "nbconvert_exporter": "python",
   "pygments_lexer": "ipython3",
   "version": "3.9.6"
  }
 },
 "nbformat": 4,
 "nbformat_minor": 5
}
