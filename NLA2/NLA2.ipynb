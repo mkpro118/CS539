{
 "cells": [
  {
   "cell_type": "code",
   "execution_count": 1,
   "id": "28cab026-feb9-456f-8cb8-a0dba4e3d9a8",
   "metadata": {},
   "outputs": [
    {
     "data": {
      "text/plain": [
       "array([[ 1,  2],\n",
       "       [-2,  1],\n",
       "       [ 3, -1]])"
      ]
     },
     "execution_count": 1,
     "metadata": {},
     "output_type": "execute_result"
    }
   ],
   "source": [
    "# Setup\n",
    "\n",
    "import numpy as np\n",
    "\n",
    "A = np.array([1, -2, 3, 2, 1, -1,]).reshape((2,3)).T\n",
    "A"
   ]
  },
  {
   "cell_type": "code",
   "execution_count": 2,
   "id": "7f6c0a36-2524-493e-9039-0d5d9772b0ce",
   "metadata": {},
   "outputs": [
    {
     "name": "stdout",
     "output_type": "stream",
     "text": [
      "rank = 2\n"
     ]
    }
   ],
   "source": [
    "# Question 1 part (a)\n",
    "# Expected answer is 2, since matrix A has 2 linearly independent column vectors\n",
    "\n",
    "rank = np.linalg.matrix_rank(A)\n",
    "print(f'{rank = }') "
   ]
  },
  {
   "cell_type": "code",
   "execution_count": 3,
   "id": "cdeedf63-c2e8-4b75-bb26-486b03e20906",
   "metadata": {},
   "outputs": [
    {
     "name": "stdout",
     "output_type": "stream",
     "text": [
      "Dimensions of U = (3, 2)\n",
      "Dimensions of S = (2, 2)\n",
      "Dimensions of V = (2, 2)\n"
     ]
    }
   ],
   "source": [
    "# Question 1 part (b)\n",
    "# The dimensions of U (left singular vectors) are (3 x 2)\n",
    "# The dimensions of S (singular value matrix) are (2 x 2)\n",
    "# The dimensions of V (right singular vectors) are (2 x 2)\n",
    "# K = min(A.shape) => K = min(3, 2) = 2\n",
    "\n",
    "# Computing the SVD\n",
    "# The full_matrices parameter has been set to False to only compute\n",
    "# the relevant/important vectors in the U,S and V matrices\n",
    "# (not the vectors that will result to 0 after computation)\n",
    "U, S, V = np.linalg.svd(A, full_matrices=False)\n",
    "\n",
    "# Make S a diagonal matrix\n",
    "S = np.diag(S)\n",
    "\n",
    "# Verification of the dimensions of U (left singular vectors)\n",
    "print(f'Dimensions of U = {U.shape}')\n",
    "\n",
    "# Verification of the dimensions of S (singular value matrix)\n",
    "print(f'Dimensions of S = {S.shape}')\n",
    "\n",
    "# Verification of the dimensions of V (right singular vectors)\n",
    "print(f'Dimensions of V = {V.shape}')"
   ]
  },
  {
   "cell_type": "code",
   "execution_count": 4,
   "id": "03ed0ac7-ea97-45e6-9729-7af5803b9fad",
   "metadata": {},
   "outputs": [
    {
     "name": "stdout",
     "output_type": "stream",
     "text": [
      "U =\n",
      "[[-8.16496581e-02 -9.89949494e-01]\n",
      " [ 5.71547607e-01 -1.41421356e-01]\n",
      " [-8.16496581e-01 -1.86454855e-16]]\n",
      "\n",
      "u1 = array([[-0.08164966],\n",
      "       [ 0.57154761],\n",
      "       [-0.81649658]])\n",
      "\n",
      "u2 = array([[-9.89949494e-01],\n",
      "       [-1.41421356e-01],\n",
      "       [-1.86454855e-16]])\n"
     ]
    }
   ],
   "source": [
    "# Question 1 part (b) continued\n",
    "u1 = U[:,0].reshape((U.shape[0], 1))\n",
    "u2 = U[:, 1].reshape((U.shape[0], 1))\n",
    "\n",
    "print(f'U =\\n{U}', end='\\n\\n')\n",
    "print(f'{u1 = }', end='\\n\\n')\n",
    "print(f'{u2 = }')"
   ]
  },
  {
   "cell_type": "code",
   "execution_count": 5,
   "id": "8cada787-c982-407c-9b57-dc0afcd4eae6",
   "metadata": {},
   "outputs": [
    {
     "name": "stdout",
     "output_type": "stream",
     "text": [
      "S =\n",
      "[[3.87298335 0.        ]\n",
      " [0.         2.23606798]]\n",
      "\n",
      "s1 = 3.872983346207417\n",
      "\n",
      "s2 = 2.23606797749979\n"
     ]
    }
   ],
   "source": [
    "# Question 1 part (b) continued\n",
    "s1, s2 = S[S != 0]\n",
    "\n",
    "print(f'S =\\n{S}', end='\\n\\n')\n",
    "print(f'{s1 = }', end='\\n\\n')\n",
    "print(f'{s2 = }')"
   ]
  },
  {
   "cell_type": "code",
   "execution_count": 6,
   "id": "004f261b-21cf-469b-bd5e-e36e829e715f",
   "metadata": {},
   "outputs": [
    {
     "name": "stdout",
     "output_type": "stream",
     "text": [
      "V =\n",
      "[[-0.9486833   0.31622777]\n",
      " [-0.31622777 -0.9486833 ]]\n",
      "\n",
      "v1 = array([[-0.9486833 ,  0.31622777]])\n",
      "\n",
      "v2 = array([[-0.31622777, -0.9486833 ]])\n"
     ]
    }
   ],
   "source": [
    "# Question 1 part (b) continued\n",
    "v1 = V[0, :].reshape((1, V.shape[1]))\n",
    "v2 = V[1, :].reshape((1, V.shape[1]))\n",
    "\n",
    "print(f'V =\\n{V}', end='\\n\\n')\n",
    "print(f'{v1 = }', end='\\n\\n')\n",
    "print(f'{v2 = }')"
   ]
  },
  {
   "cell_type": "code",
   "execution_count": 7,
   "id": "783341ff-1b0e-4cd2-a9c4-80bc31ae732b",
   "metadata": {},
   "outputs": [
    {
     "name": "stdout",
     "output_type": "stream",
     "text": [
      "A from SVD =\n",
      "[[ 1.  2.]\n",
      " [-2.  1.]\n",
      " [ 3. -1.]]\n",
      "\n",
      "A from SVD compared to original A =\n",
      "[[False False]\n",
      " [False  True]\n",
      " [ True  True]]\n",
      "\n",
      "A from SVD compared to original A using numpy.isclose() =\n",
      "[[ True  True]\n",
      " [ True  True]\n",
      " [ True  True]]\n"
     ]
    }
   ],
   "source": [
    "# Question 1 part (b) continued\n",
    "# Verification that u1, u2, s1, s2, v1 and v2 are correct\n",
    "\n",
    "# Summation to compute A from the SVD [@ is equivalent to np.dot()]\n",
    "A_from_svd = (s1 * (u1 @ v1)) + (s2 * (u2 @ v2))\n",
    "\n",
    "print(f'A from SVD =\\n{A_from_svd}', end='\\n\\n')\n",
    "\n",
    "# Some values here are false due to inexact floating point number comparison\n",
    "# However, the array printed above should be representative of the correctness\n",
    "# of the computation.\n",
    "A_from_svd_compared = A_from_svd == A\n",
    "print(f'A from SVD compared to original A =\\n{A_from_svd_compared}', end='\\n\\n')\n",
    "\n",
    "# We can use the numpy.isclose() method to verify that the values are indeed almost equal\n",
    "are_they_close = np.isclose(A, A_from_svd)\n",
    "print(f'A from SVD compared to original A using numpy.isclose() =\\n{are_they_close}')"
   ]
  },
  {
   "cell_type": "code",
   "execution_count": 8,
   "id": "37be0424-ae9f-4647-894b-8fe15d3b1e02",
   "metadata": {},
   "outputs": [
    {
     "name": "stdout",
     "output_type": "stream",
     "text": [
      "B =\n",
      "[[ 5  0  1]\n",
      " [ 0  5 -7]\n",
      " [ 1 -7 10]]\n"
     ]
    }
   ],
   "source": [
    "# Question 1 part (c)\n",
    "\n",
    "# Computing B\n",
    "B = A @ A.T\n",
    "print(f'B =\\n{B}')"
   ]
  },
  {
   "cell_type": "code",
   "execution_count": 9,
   "id": "e7773ca8-fca7-47e2-87dc-299479672edd",
   "metadata": {},
   "outputs": [
    {
     "name": "stdout",
     "output_type": "stream",
     "text": [
      "Eigen Values =\n",
      "[ 1.50000000e+01  5.00000000e+00 -3.96556534e-16]\n",
      "Eigen Vectors =\n",
      "[[ 8.16496581e-02  9.89949494e-01  1.15470054e-01]\n",
      " [-5.71547607e-01  1.41421356e-01 -8.08290377e-01]\n",
      " [ 8.16496581e-01  2.44751686e-16 -5.77350269e-01]]\n",
      "Eigen Vectors Transpose =\n",
      "[[ 8.16496581e-02 -5.71547607e-01  8.16496581e-01]\n",
      " [ 9.89949494e-01  1.41421356e-01  2.44751686e-16]\n",
      " [ 1.15470054e-01 -8.08290377e-01 -5.77350269e-01]]\n"
     ]
    }
   ],
   "source": [
    "# Question 1 part (c) continued\n",
    "eigen_values, eigen_vectors = np.linalg.eig(B)\n",
    "eigen_vectors_T = eigen_vectors.T\n",
    "print(f'Eigen Values =\\n{eigen_values}')\n",
    "print(f'Eigen Vectors =\\n{eigen_vectors}')\n",
    "print(f'Eigen Vectors Transpose =\\n{eigen_vectors_T}')"
   ]
  },
  {
   "cell_type": "code",
   "execution_count": 10,
   "id": "0e817ab6-8c22-4327-bfb6-7289070d3549",
   "metadata": {},
   "outputs": [
    {
     "name": "stdout",
     "output_type": "stream",
     "text": [
      "M = 3\n"
     ]
    }
   ],
   "source": [
    "# Question 1 part (c) continued\n",
    "\n",
    "# W, W_T, L correspond to W, W.T and Lambda in the question\n",
    "# M = 3, corresponding to the number of rows or columns in the square matrix B\n",
    "\n",
    "W = eigen_vectors\n",
    "W_T = eigen_vectors_T\n",
    "L = np.diag(eigen_values)\n",
    "\n",
    "M = B.shape[0] # number of rows\n",
    "print(f'{M = }')"
   ]
  },
  {
   "cell_type": "code",
   "execution_count": 11,
   "id": "aec7bb6d-e7df-4d54-a3a0-bac248bcd540",
   "metadata": {},
   "outputs": [
    {
     "name": "stdout",
     "output_type": "stream",
     "text": [
      "w1 =\n",
      "[[ 0.08164966]\n",
      " [-0.57154761]\n",
      " [ 0.81649658]]\n",
      "\n",
      "w2 =\n",
      "[[9.89949494e-01]\n",
      " [1.41421356e-01]\n",
      " [2.44751686e-16]]\n",
      "\n",
      "w3 =\n",
      "[[ 0.11547005]\n",
      " [-0.80829038]\n",
      " [-0.57735027]]\n"
     ]
    }
   ],
   "source": [
    "# Question 1 part (c) continued\n",
    "w1 = W[:, 0].reshape((W.shape[0], 1))\n",
    "w2 = W[:, 1].reshape((W.shape[0], 1))\n",
    "w3 = W[:, 2].reshape((W.shape[0], 1))\n",
    "\n",
    "print(f'w1 =\\n{w1}', end='\\n\\n')\n",
    "print(f'w2 =\\n{w2}', end='\\n\\n')\n",
    "print(f'w3 =\\n{w3}')"
   ]
  },
  {
   "cell_type": "code",
   "execution_count": 12,
   "id": "94d0484f-cca4-4a71-a8c3-4b972b0923be",
   "metadata": {},
   "outputs": [
    {
     "name": "stdout",
     "output_type": "stream",
     "text": [
      "l1 = 15.000000000000004\n",
      "l2 = 4.999999999999998\n",
      "l3 = -3.9655653361030586e-16\n"
     ]
    }
   ],
   "source": [
    "# Question 1 part (c) continued\n",
    "l1, l2, l3 = L[L != 0]\n",
    "\n",
    "print(f'{l1 = }')\n",
    "print(f'{l2 = }')\n",
    "print(f'{l3 = }')"
   ]
  },
  {
   "cell_type": "code",
   "execution_count": 13,
   "id": "9c8465af-a490-4f19-8030-fcfece45e734",
   "metadata": {},
   "outputs": [
    {
     "name": "stdout",
     "output_type": "stream",
     "text": [
      "w.T1 =\n",
      "[[ 0.08164966 -0.57154761  0.81649658]]\n",
      "\n",
      "w.T2 =\n",
      "[[9.89949494e-01 1.41421356e-01 2.44751686e-16]]\n",
      "\n",
      "w.T3 =\n",
      "[[ 0.11547005 -0.80829038 -0.57735027]]\n"
     ]
    }
   ],
   "source": [
    "# Question 1 part (c) continued\n",
    "wt1 = W_T[0, :].reshape((1, W_T.shape[0]))\n",
    "wt2 = W_T[1, :].reshape((1, W_T.shape[0]))\n",
    "wt3 = W_T[2, :].reshape((1, W_T.shape[0]))\n",
    "\n",
    "print(f'w.T1 =\\n{wt1}', end='\\n\\n')\n",
    "print(f'w.T2 =\\n{wt2}', end='\\n\\n')\n",
    "print(f'w.T3 =\\n{wt3}')"
   ]
  },
  {
   "cell_type": "code",
   "execution_count": 14,
   "id": "6698593c-da1f-46fe-835c-4fd7f27433a7",
   "metadata": {},
   "outputs": [
    {
     "name": "stdout",
     "output_type": "stream",
     "text": [
      "B from Eigen Decompostion =\n",
      "[[ 5.00000000e+00  5.03301555e-15  1.00000000e+00]\n",
      " [ 5.03301555e-15  5.00000000e+00 -7.00000000e+00]\n",
      " [ 1.00000000e+00 -7.00000000e+00  1.00000000e+01]]\n",
      "\n",
      "B from Eigen Decomposition compared to original B =\n",
      "[[False False False]\n",
      " [False False False]\n",
      " [False False False]]\n",
      "\n",
      "B from Eigen Decomposition compared to original B using numpy.isclose() =\n",
      "[[ True  True  True]\n",
      " [ True  True  True]\n",
      " [ True  True  True]]\n"
     ]
    }
   ],
   "source": [
    "# Question 1 part (c) continued\n",
    "# Verification that w1, w2, w3, l1, l2, l3, wt1, wt2 and wt3 are correct\n",
    "\n",
    "# Summation to computer from B the Eigen Decomposition\n",
    "B_from_eigen_decompostion = (l1 * (w1 @ wt1)) + (l2 * (w2 @ wt2)) + (l3 * (w3 @ wt3))\n",
    "print(f'B from Eigen Decompostion =\\n{B_from_eigen_decompostion}', end='\\n\\n')\n",
    "\n",
    "# Similar to the SVD, values here are false due to precision errors of floating point numbers\n",
    "B_from_eigen_decompostion_compared = B_from_eigen_decompostion == B\n",
    "print(f'B from Eigen Decomposition compared to original B =',\n",
    "      f'{B_from_eigen_decompostion_compared}', sep='\\n', end='\\n\\n')\n",
    "\n",
    "# We can use the numpy.isclose() method to verify that the values are indeed almost equal\n",
    "are_they_close2 = np.isclose(B, B_from_eigen_decompostion)\n",
    "print(f'B from Eigen Decomposition compared to original B using numpy.isclose() =',\n",
    "      f'{are_they_close2}', sep='\\n')"
   ]
  },
  {
   "cell_type": "markdown",
   "id": "45c09f38-a5da-4fc6-aaa9-a04f150e37f2",
   "metadata": {
    "tags": []
   },
   "source": [
    "## Question 2 part (a)\n",
    "\n",
    "<div data-role=\"answer\" style=\"font-size: 16px;\">\n",
    "Given,<br>\n",
    "$H: \\{x| g(x) = w^{T}x + b = 0\\}$ and $H$ intersects the axes $x_{1}$ and $x_{2}$ at $(5, 0)$ and $(0, 4)$<br>\n",
    "Where the Hyperplane $H$ is a line, so it has the form<br>\n",
    "$w_{1}x_{1} + w_{2}x_{2} + b = 0$<br>\n",
    "<br>\n",
    "Using the fact that the Hyperplane $H$ intersects the two axes at $(5,0)$ and $(0, 4)$<br>\n",
    "We can construct two equations<br>\n",
    "$(w_{1} \\times 5) + (w_{2} \\times 0) = -b$&emsp;&emsp;$\\text{...} 1$<br>\n",
    "$(w_{1} \\times 0) + (w_{2} \\times 4) = -b$&emsp;&emsp;$\\text{...} 2$<br>\n",
    "<br>\n",
    "Since $-b$ is a constant, <em>Equation 1</em> is equal to <em>Equation 2</em><br>\n",
    "$5w_{1} + 0 \\times w_{2} = 0 \\times w_{1} + 4w_{2}$&emsp;&emsp;$\\text{...} 3$<br>\n",
    "Simplifiying <em>Equation 3</em>, we get,<br>\n",
    "$5w_{1} = 4w_{2}$<br>\n",
    "$w_{1} = \\frac{4}{5}w_{2}$&emsp;&emsp;$\\text{...} 4$<br>\n",
    "<br>\n",
    "This however is an equation in $2$ variables, and therefore has no unique solution<br>\n",
    "<br>\n",
    "The required unique solution comes from the given condition $|w^{T}| = 1$<br>\n",
    "So, $\\sqrt{w_{1}^{2} + w_{2}^{2}} = 1$&emsp;&emsp;$\\text{...} 5$<br>\n",
    "Which is derived from the formula for distance/length in the Eucleadean space or the $L_{2}$ norm<br>\n",
    "<br>\n",
    "Substituting the value of $w_{1}$ from <em>Equation 4</em> in <em>Equation 6</em> and simplifiying, we get,<br>\n",
    "$\\sqrt{w_{1}^{2} + w_{2}^{2}} = 1$<br>\n",
    "$\\sqrt{(\\frac{4}{5}w_{2})^{2} + w_{2}^{2} } = 1$<br>\n",
    "$\\sqrt{\\frac{16}{25}w_{2}^{2} + w_{2}^{2}} = 1$<br>\n",
    "$\\sqrt{\\frac{41}{25}w_{2}^{2}} = 1$<br>\n",
    "$\\sqrt{\\frac{41}{25}}w_{2} = 1$<br>\n",
    "$w_{2} = \\frac{5}{\\sqrt{41}}$&emsp;&emsp;$\\text{...} 6$<br>\n",
    "<br>\n",
    "Using <em>Equation 6</em> in <em>Equation 4</em>, we get<br>\n",
    "$w_{1} = \\frac{4}{5}(\\frac{5}{\\sqrt{41}})$<br>\n",
    "$w_{1} = \\frac{4}{\\sqrt{41}}$&emsp;&emsp;$\\text{...} 7$<br>\n",
    "<br>\n",
    "Using <em>Equation 7</em> in <em>Equation 1</em> and simplifiying, we can obtain $\\text{b}$<br>\n",
    "$(w_{1} \\times 5) + (w_{2} \\times 0) = -b$<br>\n",
    "$b = -5w_{1}$<br>\n",
    "$b = -5(\\frac{4}{\\sqrt{41}})$<br>\n",
    "$b = \\frac{-20}{\\sqrt{41}}$<br>\n",
    "<br>\n",
    "So,<br>\n",
    "$w = \\begin{bmatrix}w_{1}\\\\ w_{2}\\end{bmatrix}=\\begin{bmatrix}\\frac{4}{\\sqrt{41}}\\\\ \\frac{5}{\\sqrt{41}} \\end{bmatrix}$<br>\n",
    "$b = \\frac{-20}{\\sqrt{41}}$<br>\n",
    "</div>"
   ]
  },
  {
   "cell_type": "code",
   "execution_count": 15,
   "id": "4e9d8473-3f9b-4c40-9b5c-9038e2c02ffb",
   "metadata": {},
   "outputs": [
    {
     "name": "stdout",
     "output_type": "stream",
     "text": [
      "2.030258904551879\n"
     ]
    }
   ],
   "source": [
    "# Question 2 part (b)\n",
    "# r's sign represents if it's on the same or opposite side of the origin\n",
    "w = np.array([4, 5]) / (41**0.5)\n",
    "b = -20 / (41 ** 0.5)\n",
    "\n",
    "def g(x: np.ndarray) -> float:\n",
    "    return w[0]*x[0] + w[1]*x[1] + b\n",
    "\n",
    "def r(x: np.ndarray) -> float:\n",
    "    # np.hypot computes the hypotenuse of a right triangle, equivalent to Eucleadean distance\n",
    "    return g(x) / np.hypot(*w) \n",
    "print(r(np.array([4.5, 3])))"
   ]
  },
  {
   "cell_type": "code",
   "execution_count": null,
   "id": "be813dc5-c974-4ffe-a6a2-d5aad4c3e082",
   "metadata": {},
   "outputs": [],
   "source": []
  }
 ],
 "metadata": {
  "kernelspec": {
   "display_name": "Python 3 (ipykernel)",
   "language": "python",
   "name": "python3"
  },
  "language_info": {
   "codemirror_mode": {
    "name": "ipython",
    "version": 3
   },
   "file_extension": ".py",
   "mimetype": "text/x-python",
   "name": "python",
   "nbconvert_exporter": "python",
   "pygments_lexer": "ipython3",
   "version": "3.9.6"
  }
 },
 "nbformat": 4,
 "nbformat_minor": 5
}
