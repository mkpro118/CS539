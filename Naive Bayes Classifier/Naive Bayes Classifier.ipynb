{
 "cells": [
  {
   "cell_type": "code",
   "execution_count": 1,
   "id": "414cf4fd-f7a4-42a5-88ea-5567ace13abe",
   "metadata": {},
   "outputs": [
    {
     "name": "stdout",
     "output_type": "stream",
     "text": [
      "X.shape = (1599, 11)\n",
      "y.shape = (1599,)\n"
     ]
    }
   ],
   "source": [
    "# Question 1\n",
    "\n",
    "# Setup\n",
    "from sklearn.naive_bayes import GaussianNB\n",
    "from sklearn.model_selection import train_test_split\n",
    "from sklearn.metrics import accuracy_score, confusion_matrix\n",
    "import numpy as np\n",
    "\n",
    "filename = 'winequality-red.csv'\n",
    "\n",
    "data = np.genfromtxt(filename, delimiter=',')\n",
    "X = data[1:, :-1]\n",
    "y = data[1:, -1]\n",
    "\n",
    "print(f'{X.shape = }')\n",
    "print(f'{y.shape = }')"
   ]
  },
  {
   "cell_type": "code",
   "execution_count": 2,
   "id": "bf377e75-ad16-4df6-962e-ae5485c079ee",
   "metadata": {},
   "outputs": [
    {
     "name": "stdout",
     "output_type": "stream",
     "text": [
      "X_train.shape = (1279, 11)\n",
      "y_train.shape = (1279,)\n",
      "X_test.shape = (320, 11)\n",
      "y_test.shape = (320,)\n"
     ]
    }
   ],
   "source": [
    "# Question 1 continued\n",
    "X_train, X_test, y_train, y_test = train_test_split(X, y, test_size=0.2)\n",
    "\n",
    "print(f'{X_train.shape = }')\n",
    "print(f'{y_train.shape = }')\n",
    "print(f'{X_test.shape = }')\n",
    "print(f'{y_test.shape = }')"
   ]
  },
  {
   "cell_type": "code",
   "execution_count": 3,
   "id": "72f39d9e-689d-4034-b07f-07c6d774d7af",
   "metadata": {},
   "outputs": [
    {
     "name": "stdout",
     "output_type": "stream",
     "text": [
      "y_pred.shape = (320,)\n"
     ]
    }
   ],
   "source": [
    "# Question 1 continued\n",
    "model = GaussianNB()\n",
    "model.fit(X_train, y_train)\n",
    "\n",
    "y_pred = model.predict(X_test)\n",
    "print(f'{y_pred.shape = }')"
   ]
  },
  {
   "cell_type": "code",
   "execution_count": 5,
   "id": "8afaee8d-8813-4cc3-bfc7-ed29f8d4ecf9",
   "metadata": {},
   "outputs": [
    {
     "name": "stdout",
     "output_type": "stream",
     "text": [
      "Accuracy Score=\n",
      "49.688%\n",
      "Confusion Matrix =\n",
      "[[ 0  2  0  0  0  0]\n",
      " [ 0  1  6  2  0  0]\n",
      " [ 0  7 86 29  3  0]\n",
      " [ 0  3 59 47 22  0]\n",
      " [ 0  1  5 15 25  1]\n",
      " [ 0  0  0  1  5  0]]\n"
     ]
    }
   ],
   "source": [
    "# Question 1 continued\n",
    "acc = accuracy_score(y_test, y_pred) * 100\n",
    "cm = confusion_matrix(y_test, y_pred)\n",
    "\n",
    "print(f'Accuracy Score=\\n{acc:.5}%')\n",
    "print(f'Confusion Matrix =\\n{cm}')"
   ]
  }
 ],
 "metadata": {
  "kernelspec": {
   "display_name": "Python 3 (ipykernel)",
   "language": "python",
   "name": "python3"
  },
  "language_info": {
   "codemirror_mode": {
    "name": "ipython",
    "version": 3
   },
   "file_extension": ".py",
   "mimetype": "text/x-python",
   "name": "python",
   "nbconvert_exporter": "python",
   "pygments_lexer": "ipython3",
   "version": "3.9.6"
  }
 },
 "nbformat": 4,
 "nbformat_minor": 5
}
