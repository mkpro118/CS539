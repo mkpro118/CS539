{
 "cells": [
  {
   "cell_type": "markdown",
   "id": "c623c886-7081-4af2-8c68-b90bc7d5f247",
   "metadata": {},
   "source": [
    "# Question 1\n",
    "\n",
    "## Part (a)\n",
    "\n",
    "$\\displaystyle C_{a} = \\displaystyle \\begin{bmatrix}4 & 1 \\\\ 3 & 2\\end{bmatrix}$<br>\n",
    "$\\displaystyle C_{b} = \\displaystyle \\begin{bmatrix}4 & 1 \\\\ 1 & 4\\end{bmatrix}$<br>\n",
    "$\\displaystyle C_{c} = \\displaystyle \\begin{bmatrix}2 & 4 \\\\ 3 & 1\\end{bmatrix}$<br>"
   ]
  },
  {
   "cell_type": "markdown",
   "id": "838cf8c9-e94d-47c0-bd31-fe6b27250ef2",
   "metadata": {},
   "source": [
    "## Part (b)\n",
    "\n",
    "Table 1<br>\n",
    "$y(k) = \\begin{bmatrix}0 & 0 & 0 & 1 & 0 & 1 & 1 & 1\\end{bmatrix}$<br>"
   ]
  },
  {
   "cell_type": "markdown",
   "id": "b9ee286f-ff5f-4c5b-989c-9f49e08e1782",
   "metadata": {},
   "source": [
    "Table 2<br>\n",
    "$y(k) = \\begin{bmatrix}0 & 0 & 1 & 1 & 0 & 1 & 1 & 0 & 1 & 1\\end{bmatrix}$"
   ]
  },
  {
   "cell_type": "markdown",
   "id": "84ec40f3-45d0-4e84-bde5-487d7181efb9",
   "metadata": {},
   "source": [
    "Confusion Matrix<br>\n",
    "$C = \\begin{bmatrix}4 & 2 \\\\ 1 & 3\\end{bmatrix}$"
   ]
  }
 ],
 "metadata": {
  "kernelspec": {
   "display_name": "Python 3 (ipykernel)",
   "language": "python",
   "name": "python3"
  },
  "language_info": {
   "codemirror_mode": {
    "name": "ipython",
    "version": 3
   },
   "file_extension": ".py",
   "mimetype": "text/x-python",
   "name": "python",
   "nbconvert_exporter": "python",
   "pygments_lexer": "ipython3",
   "version": "3.9.6"
  }
 },
 "nbformat": 4,
 "nbformat_minor": 5
}
